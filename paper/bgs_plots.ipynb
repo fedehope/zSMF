{
 "cells": [
  {
   "cell_type": "code",
   "execution_count": 1,
   "id": "a333eebf-4a01-4dcd-b697-2a254c8473f1",
   "metadata": {},
   "outputs": [],
   "source": [
    "import copy\n",
    "import os, sys\n",
    "#from nflows import transforms, distributions, flows\n",
    "import torch\n",
    "from scipy.special import logsumexp\n",
    "from scipy.optimize import curve_fit\n",
    "from scipy import integrate\n",
    "from scipy.interpolate import interp1d\n",
    "\n",
    "from torch import nn\n",
    "from torch import optim\n",
    "import torch.distributions as D\n",
    "import emcee\n",
    "import corner\n",
    "import time\n",
    "from multiprocessing import cpu_count, Pool\n",
    "\n",
    "import os\n",
    "import h5py \n",
    "import numpy as np\n",
    "# import fitsio\n",
    "# from tqdm.auto import trange\n",
    "import astropy.table as aTable\n",
    "from astropy.cosmology import Planck13\n",
    "from astropy.cosmology import FlatLambdaCDM\n",
    "\n",
    "import sys\n",
    "from tqdm import tqdm\n",
    "\n",
    "import numpy as np\n",
    "from matplotlib import pyplot as plt\n",
    "\n",
    "\n",
    "sys.path.append('../')\n",
    "\n",
    "from BGS import BGS\n",
    "from HST import HST\n",
    "from COSMOS import COSMOS\n",
    "\n",
    "from FileEmcee import FileEmcee\n",
    "from EmceeRun import EmceeRun\n",
    "\n",
    "from Plotter import Plotter\n",
    "from PlotterHst import PlotterHst\n",
    "from PlotterCOSMOS import PlotterCOSMOS\n",
    "\n",
    "from VMaxDensity import VmaxDensity\n",
    "from VMaxDensityHst import VmaxDensityHst\n",
    "\n",
    "from ZSchechterModel import ZSchechterModel\n",
    "from NoZSchechterModel import NoZSchechterModel\n",
    "\n",
    "from Fileh5 import Fileh5"
   ]
  },
  {
   "cell_type": "code",
   "execution_count": 2,
   "id": "69529557-804a-4a49-a042-f175ade7fb80",
   "metadata": {
    "jupyter": {
     "source_hidden": true
    }
   },
   "outputs": [],
   "source": [
    "def mass_completeness_limit_bgs(z):\n",
    "    x_values = np.array([0.00247985, 0.00483082, 0.00656047, 0.0090045 , 0.01228954,\n",
    "       0.01468146, 0.01739703, 0.01982065, 0.02223816, 0.02478942,\n",
    "       0.02718216, 0.0297723 , 0.03214576, 0.03475644, 0.03725439,\n",
    "       0.03969578, 0.04231814, 0.04471862, 0.04726608, 0.04971804,\n",
    "       0.05217666, 0.05485575, 0.05714361, 0.05983116, 0.0622433 ,\n",
    "       0.06477037, 0.06729212, 0.0696601 , 0.07221736, 0.07470074,\n",
    "       0.07726848, 0.07970581, 0.08235858, 0.08472435, 0.08723007,\n",
    "       0.08963203, 0.09228077, 0.09477242, 0.09729331, 0.099802  ,\n",
    "       0.10227854, 0.10469317, 0.10715788, 0.10972896, 0.11231016,\n",
    "       0.11474048, 0.11718   , 0.11978621, 0.12227634, 0.12479607,\n",
    "       0.12729936, 0.12974797, 0.13225808, 0.13471149, 0.13727515,\n",
    "       0.13970204, 0.14227686, 0.14457675, 0.14727102, 0.14978783,\n",
    "       0.15221812, 0.15465339, 0.15732456, 0.15978838, 0.1621385 ,\n",
    "       0.16474496, 0.16723761, 0.16974835, 0.17225687, 0.17476975,\n",
    "       0.17729319, 0.17983345, 0.18223385, 0.18479195, 0.18722791,\n",
    "       0.1897866 , 0.19230325, 0.19474093, 0.1972761 , 0.19978505,\n",
    "       0.20218162, 0.20478321, 0.20722114, 0.20978526, 0.2123442 ,\n",
    "       0.21464457, 0.21721705, 0.21974108, 0.22214348, 0.22478031,\n",
    "       0.22732483, 0.22962546, 0.23230192, 0.23478154, 0.23726658,\n",
    "       0.23973219, 0.24223737, 0.24477807, 0.24733377, 0.24963889,\n",
    "       0.25230877, 0.2547754 , 0.25726801, 0.25967258, 0.26232256,\n",
    "       0.26477256, 0.26728391, 0.26966953, 0.27217287, 0.27460324,\n",
    "       0.27722196, 0.27959586, 0.28229134, 0.2848037 , 0.28725984,\n",
    "       0.28985701, 0.2923195 , 0.29462396, 0.29705607])\n",
    "    \n",
    "    y_values = np.array([ 6.19233606,  6.83089859,  7.19541283,  7.49541767,  7.73446394,\n",
    "        7.97573148,  8.1206893 ,  8.28289916,  8.38297483,  8.4857448 ,\n",
    "        8.5662122 ,  8.65428108,  8.68919015,  8.79760012,  8.85287516,\n",
    "        8.91898337,  9.00431108,  9.04462424,  9.09902614,  9.12211824,\n",
    "        9.19599217,  9.27656627,  9.28617265,  9.35747078,  9.38232742,\n",
    "        9.42622197,  9.48121354,  9.49533128,  9.55465837,  9.58076478,\n",
    "        9.61429673,  9.64659735,  9.68782778,  9.7159304 ,  9.75738293,\n",
    "        9.79091068,  9.81607921,  9.82226304,  9.85758522,  9.87375352,\n",
    "        9.8906075 ,  9.90740924,  9.9281017 ,  9.97121565,  9.98271625,\n",
    "        9.99167673, 10.01813817, 10.04717844, 10.07974563, 10.09122367,\n",
    "       10.09460286, 10.1539076 , 10.14871284, 10.16391119, 10.18545648,\n",
    "       10.20465581, 10.23759639, 10.24537951, 10.25409408, 10.27692096,\n",
    "       10.30349627, 10.3382326 , 10.33327252, 10.35523964, 10.35273232,\n",
    "       10.37603491, 10.41671427, 10.41610546, 10.43212978, 10.47420657,\n",
    "       10.46000597, 10.47431897, 10.48711649, 10.51094253, 10.51319548,\n",
    "       10.52246781, 10.55200452, 10.56919663, 10.56833965, 10.58467215,\n",
    "       10.61157816, 10.60453819, 10.63106187, 10.63100251, 10.63726941,\n",
    "       10.65600309, 10.66358378, 10.67474176, 10.69383125, 10.69470662,\n",
    "       10.71030144, 10.72679253, 10.73585073, 10.75277773, 10.76502898,\n",
    "       10.78441052, 10.78582517, 10.8062511 , 10.80029193, 10.80723995,\n",
    "       10.83403985, 10.87394328, 10.86794826, 10.87265313, 10.89667329,\n",
    "       10.88012479, 10.87382357, 10.92230226, 10.91554066, 10.91910413,\n",
    "       10.93963065, 10.95808569, 10.95081633, 10.97014478, 10.99860375,\n",
    "       11.01836781, 11.03326512, 11.03070553, 11.03879802])\n",
    "    \n",
    "    f = interp1d(x_values, y_values, fill_value='extrapolate')\n",
    "    return f(z)"
   ]
  },
  {
   "cell_type": "code",
   "execution_count": 3,
   "id": "5d1962c9-ca4b-4084-8397-e579ed2cbc77",
   "metadata": {
    "jupyter": {
     "source_hidden": true
    }
   },
   "outputs": [],
   "source": [
    "def smf_double_schechter_sty(x, z,  a0, a1, a2, alpha1, alpha2, a7, a8, a9):\n",
    "    logM = a0*z**2 + a1*z + a2\n",
    "#     alpha1 = -.28\n",
    "#     alpha2 = -1.48\n",
    "    log_phi2_phi1 = a7*z**2 + a8*z + a9\n",
    "    \n",
    "    term0 = np.exp(-10 ** (x-logM))\n",
    "    term1 = 10 ** ((alpha2+1)*(x - logM))\n",
    "    term2 = 10 ** ((alpha1+1)*(x - logM) + log_phi2_phi1)\n",
    "    return term0 * (term1 + term2)\n",
    "\n",
    "\n",
    "def smf_single_schechter_sty(x, z, a0, a1, a2, a3):\n",
    "    logM = a0 + a1*z\n",
    "    alpha1 = a2 + a3*z\n",
    "    term0 = np.exp(-10 ** (x-logM))\n",
    "    term1 = 10 ** ((alpha1+1)*(x - logM))\n",
    "    return term0 * term1\n",
    "\n",
    "\n",
    "def plot_zschechter_double(x, z0, norm, best_params, **plot_params):\n",
    "    a0, a1, a2, alpha1, alpha2, a7, a8, a9 = best_params\n",
    "    zschechter = smf_double_schechter_sty(x, z0,  a0, a1, a2, alpha1, alpha2, a7, a8, a9)\n",
    "    plt.plot(x, norm * zschechter, **plot_params)\n",
    "\n",
    "    plt.yscale('log')\n",
    "    plt.ylim(1e-5, 4e-2)\n",
    "    plt.xlim(7, 13)\n",
    "\n",
    "    plt.xlabel(r'$\\log M_*$', fontsize=15)\n",
    "    plt.ylabel(r'$p(\\log M_*)$ [$({\\rm Mpc}/h)^{-3}{\\rm dex}^{-1}$]', fontsize=15)\n",
    "\n",
    "\n",
    "\n",
    "def plot_zschechter_single(x, z0, norm, best_params, **plot_params):\n",
    "    a0, a1, a2, a3 = best_params\n",
    "    zschechter = smf_single_schechter_sty(x, z0, a0, a1, a2, a3)\n",
    "    plt.plot(x, norm * zschechter, **plot_params)\n",
    "\n",
    "    plt.yscale('log')\n",
    "    plt.ylim(1e-5, 4e-2)\n",
    "    plt.xlim(6, 13)\n",
    "\n",
    "    plt.xlabel(r'$\\log M_*$', fontsize=15)\n",
    "    plt.ylabel(r'$p(\\log M_*)$ [$({\\rm Mpc}/h)^{-3}{\\rm dex}^{-1}$]', fontsize=15)\n",
    "\n",
    "\n",
    "def normalisation_single(z0, zmin, zmax, z, best_params):\n",
    "    a0, a1, a2, a3 = best_params\n",
    "    # v_zmin = Planck13.comoving_volume(zmin).value # (Mpc/h)^3\n",
    "    # v_zmax = Planck13.comoving_volume(zmax).value # (Mpc/h)^3\n",
    "\n",
    "    vzmin_bgs = Planck13.comoving_volume(zmin).value * Planck13.h ** 3 * (173.641 / (4. * np.pi * (180 / np.pi) ** 2))  # (Mpc/h)^3\n",
    "    vzmax_bgs = Planck13.comoving_volume(zmax).value * Planck13.h ** 3 * (173.641 / (4. * np.pi * (180 / np.pi) ** 2))\n",
    "    \n",
    "    m_max = 13\n",
    "    m_min = 6.\n",
    "    nbin = 40\n",
    "    bin_size = (m_max - m_min) / nbin\n",
    "    # x_median_bgs = x\n",
    "    # z_bgs, z_cosmos, z_hst = z\n",
    "\n",
    "    # x_bgs_bin = x_median_bgs[(z_bgs > zmin) & (z_bgs < zmax)]\n",
    "\n",
    "    z_bgs_bin = z[(z > zmin) & (z < zmax)]\n",
    "\n",
    "    I_bgs = [integrate.quad(smf_single_schechter_sty, mass_completeness_limit_bgs(z_bgs_bin)[i], 13., \n",
    "                            args=(z0, a0, a1, a2, a3))[0] for i in range(z_bgs_bin.shape[0])]\n",
    "\n",
    "    \n",
    "    N_bgs = bin_size / (vzmax_bgs - vzmin_bgs) * np.sum((1.) / np.array(I_bgs))\n",
    "    \n",
    "    return N_bgs\n",
    "\n",
    "\n",
    "def normalisation(z0, zmin, zmax, x, z, best_params):\n",
    "    a0, a1, a2, alpha1, alpha2, a7, a8, a9 = best_params\n",
    "    # v_zmin = Planck13.comoving_volume(zmin).value # (Mpc/h)^3\n",
    "    # v_zmax = Planck13.comoving_volume(zmax).value # (Mpc/h)^3\n",
    "\n",
    "    vzmin_bgs = Planck13.comoving_volume(zmin).value * Planck13.h ** 3 * (173.641 / (4. * np.pi * (180 / np.pi) ** 2))  # (Mpc/h)^3\n",
    "    vzmax_bgs = Planck13.comoving_volume(zmax).value * Planck13.h ** 3 * (173.641 / (4. * np.pi * (180 / np.pi) ** 2))\n",
    "    \n",
    "    m_max = 13\n",
    "    m_min = 6.\n",
    "    nbin = 40\n",
    "    bin_size = (m_max - m_min) / nbin\n",
    "    # x_median_bgs = x\n",
    "    # z_bgs, z_cosmos, z_hst = z\n",
    "\n",
    "    x_bgs_bin = x_median_bgs[(z_bgs > zmin) & (z_bgs < zmax)]\n",
    "\n",
    "    z_bgs_bin = z_bgs[(z_bgs > zmin) & (z_bgs < zmax)]\n",
    "\n",
    "    I_bgs = [integrate.quad(smf_double_schechter_sty, mass_completeness_limit_bgs(z_bgs_bin)[i], 13., \n",
    "                            args=(z0, a0, a1, a2, alpha1, alpha2, a7, a8, a9))[0] for i in range(z_bgs_bin.shape[0])]\n",
    "\n",
    "    \n",
    "    N_bgs = bin_size / (vzmax_bgs - vzmin_bgs) * np.sum((1.) / np.array(I_bgs))\n",
    "    \n",
    "    return N_bgs"
   ]
  },
  {
   "cell_type": "code",
   "execution_count": 4,
   "id": "a1adae35-3938-4fba-a42c-265eb2e9f753",
   "metadata": {},
   "outputs": [],
   "source": [
    "bgs = BGS('BGS_ANY_full.provabgs.lite.hdf5')"
   ]
  },
  {
   "cell_type": "code",
   "execution_count": 5,
   "id": "bcf5a6c2-7462-407a-8968-eca7544af819",
   "metadata": {},
   "outputs": [],
   "source": [
    "emcee_file = Fileh5(folder='emcee_runs', info_file='_single_')\n",
    "emcee_run = EmceeRun(emcee_file)\n",
    "\n",
    "emcee_file_double = Fileh5(folder='emcee_runs', info_file='BGS_train')\n",
    "emcee_run_double = EmceeRun(emcee_file_double)"
   ]
  },
  {
   "cell_type": "code",
   "execution_count": 6,
   "id": "4c33231c-46a3-4a46-b3e7-ae7997bbcac6",
   "metadata": {},
   "outputs": [],
   "source": [
    "emcee_run.set_best_params(discard=230)\n",
    "emcee_run_double.set_best_params(discard=230)"
   ]
  },
  {
   "cell_type": "code",
   "execution_count": 7,
   "id": "1ec9f6cc-d7c8-4643-8f59-14ae187bcf59",
   "metadata": {},
   "outputs": [],
   "source": [
    "zmins = np.array([0.01 + 0.04 * i for i in range(1)])\n",
    "zmaxs = np.array([0.05 + 0.04 * i for i in range(1)])\n",
    "\n",
    "n = np.load('./n_0.01_0.05.npy')\n",
    "a = np.load('./a_single_schechter.npy')\n",
    "n_best_01_05 = np.load('./n_best_0.01_0.05.npy')\n"
   ]
  },
  {
   "cell_type": "code",
   "execution_count": 11,
   "id": "e439b8cc-ca87-467a-aa06-cfa5abc38236",
   "metadata": {},
   "outputs": [
    {
     "data": {
      "image/png": "[encoded data removed]",
      "text/plain": [
       "<Figure size 600x600 with 1 Axes>"
      ]
     },
     "metadata": {},
     "output_type": "display_data"
    }
   ],
   "source": [
    "vmax_hist = VmaxDensity(bgs.file, is_bgs_bright=True)\n",
    "\n",
    "best_params = emcee_run.get_best_params()\n",
    "\n",
    "plt.figure(figsize=(6,6))\n",
    "\n",
    "for zmin, zmax, z0 in zip(zmins, zmaxs, zmins + (zmaxs - zmins)/2):\n",
    "\n",
    "    n = np.load(f'./n_{round(zmin,2)}_{round(zmax,2)}.npy')\n",
    "    a = np.load('./a_single_schechter.npy')\n",
    "    n_best = np.load(f'./n_best_{round(zmin,2)}_{round(zmax,2)}.npy')\n",
    "    \n",
    "    h, b, _h, _b = vmax_hist.histogram_norm(zmin, zmax)\n",
    "    Plotter.plot_vmax_hist(h, b, _h, _b, **{'label':f'{round(zmin,2)} < z < {round(zmax,2)}'})\n",
    "    \n",
    "    mlim = mass_completeness_limit_bgs(zmin)\n",
    "    \n",
    "    for n_i, a_i in zip(n,a):\n",
    "        plot_zschechter_single(np.linspace(6, 13, 100), z0, n_i, a_i, color='orange', alpha=0.1)\n",
    "    \n",
    "        plot_zschechter_single(np.linspace(6, mlim, 100), z0, n_best, best_params,\n",
    "                                   color='green', linestyle='--', linewidth=1)\n",
    "        \n",
    "        plot_zschechter_single(np.linspace(mlim, 13, 100), z0, n_best, best_params,\n",
    "                               color='green', linewidth=0.4)\n"
   ]
  },
  {
   "cell_type": "code",
   "execution_count": null,
   "id": "040a29e8-2af2-4c43-84f3-958f562b9f78",
   "metadata": {},
   "outputs": [],
   "source": [
    "# inds = np.random.randint(len(emcee_run.flat_samples), size=200)\n",
    "# a = []\n",
    "\n",
    "# for ind in inds:\n",
    "#     a.append(emcee_run.flat_samples[ind])\n",
    "    \n",
    "    "
   ]
  },
  {
   "cell_type": "code",
   "execution_count": null,
   "id": "4a8e34ef-ac1d-4d68-88e7-61c126af5b9a",
   "metadata": {},
   "outputs": [],
   "source": [
    "# np.save('./a.npy', np.array(a))"
   ]
  },
  {
   "cell_type": "code",
   "execution_count": null,
   "id": "c419054e-3184-49e7-90f0-009d61dfec8c",
   "metadata": {},
   "outputs": [],
   "source": [
    "# zmins = np.array([0.01 + 0.04 * i for i in range(7)])\n",
    "# zmaxs = np.array([0.05 + 0.04 * i for i in range(7)])\n",
    "\n",
    "# for zmin, zmax, z0 in zip(zmins, zmaxs, zmins + (zmaxs - zmins)/2):\n",
    "#     z, _, _, w_spec, _ = bgs.select_galaxies(zmin, zmax)\n",
    "#     n_best = normalisation_single(z0, zmin, zmax, z, emcee_run.get_best_params())\n",
    "#     np.save(f'n_best_{round(zmin,2)}_{round(zmax,2)}', n_best)\n"
   ]
  },
  {
   "cell_type": "code",
   "execution_count": null,
   "id": "3bfbaa76-feaf-46cc-803f-059f0f46dd1e",
   "metadata": {},
   "outputs": [],
   "source": [
    "# zmin, zmax = 0.01, 0.05\n",
    "# z0 = zmin + (zmax - zmin)/2."
   ]
  },
  {
   "cell_type": "code",
   "execution_count": null,
   "id": "2003c127-08a6-4673-9a1f-774fe7e9379c",
   "metadata": {},
   "outputs": [],
   "source": [
    "# z, _, _, w_spec, _ = bgs.select_galaxies(zmin, zmax)"
   ]
  },
  {
   "cell_type": "code",
   "execution_count": null,
   "id": "7babe181-6a70-4d5a-b32a-3ef883aa81ef",
   "metadata": {},
   "outputs": [],
   "source": [
    "# best_params = np.load('./a_single_schechter.npy')\n",
    "# n = []\n",
    "# for best_i in tqdm(best_params, unit='iteration'):\n",
    "#     n.append(normalisation_single(z0, zmin, zmax, z, best_i))\n",
    "    \n",
    "# np.save(f'./n_{zmin}_{zmax}.npy', np.array(n))"
   ]
  },
  {
   "cell_type": "code",
   "execution_count": null,
   "id": "51311208-3661-4056-b192-fe7eef12df28",
   "metadata": {},
   "outputs": [],
   "source": [
    "plotter = Plotter(bgs, emcee_run)"
   ]
  },
  {
   "cell_type": "code",
   "execution_count": null,
   "id": "c9d00d59-3ba8-45d8-bebd-118c0e2dd69b",
   "metadata": {},
   "outputs": [],
   "source": [
    "# plt.figure(figsize=(6,6))\n",
    "# plotter.plot_selected_data(0., 0.3)\n",
    "# # plt.xlim(0., 0.05)"
   ]
  },
  {
   "cell_type": "code",
   "execution_count": null,
   "id": "358f3737-bed8-4083-825c-c78eb02d8744",
   "metadata": {},
   "outputs": [],
   "source": [
    "# plotter.plot_emcee_samples()"
   ]
  },
  {
   "cell_type": "code",
   "execution_count": null,
   "id": "fbcfdff3-606e-471a-8ea8-5eab3ddabfcd",
   "metadata": {},
   "outputs": [],
   "source": [
    "# emcee_run.set_best_params(discard=230)\n",
    "# emcee_run_double.set_best_params(discard=230)"
   ]
  },
  {
   "cell_type": "code",
   "execution_count": null,
   "id": "bc634f88-d4bd-48e3-bfe8-1d4ed30f19a5",
   "metadata": {},
   "outputs": [],
   "source": [
    "# plotter.plot_emcee_corner(emcee_run.flat_samples, emcee_run.labels4)"
   ]
  },
  {
   "cell_type": "code",
   "execution_count": null,
   "id": "f9e7099c-018c-4956-88f3-7ce3373051e4",
   "metadata": {},
   "outputs": [],
   "source": [
    "zmins = np.array([0.0 + 0.03 * i for i in range(10)])\n",
    "zmaxs = np.array([0.03 + 0.03 * i for i in range(10)])\n",
    "z0s = zmins + (zmaxs - zmins)/2"
   ]
  },
  {
   "cell_type": "code",
   "execution_count": null,
   "id": "35482e4f-10d4-49d8-92b6-0bf3860896f8",
   "metadata": {},
   "outputs": [],
   "source": [
    "best_params = emcee_run.get_best_params()\n",
    "best_params_double = emcee_run_double.get_best_params()\n",
    "plt.figure(figsize=(10,30))\n",
    "for p, zmin, zmax, z0_i in zip(range(0,14),zmins, zmaxs, z0s):\n",
    "    plt.subplot(7, 2, p+1)\n",
    "\n",
    "    \n",
    "\n",
    "    h, b, _h, _b = vmax_hist.histogram_norm(zmin, zmax)\n",
    "    Plotter.plot_vmax_hist(h, b, _h, b, **{'label':f'{round(zmin,2)} < z < {round(zmax,2)}'})\n",
    "\n",
    "    z_bgs, _, x_median_bgs, w_spec_bgs, _ = bgs.select_galaxies(zmin, zmax)\n",
    "    norm_single = normalisation_single(z0_i, zmin, zmax, x_median_bgs, z_bgs, best_params)\n",
    "    norm_double = normalisation(z0_i, zmin, zmax, x_median_bgs, z_bgs, best_params_double)\n",
    "\n",
    "    mlim = mass_completeness_limit_bgs(zmin)\n",
    "\n",
    "    plot_zschechter_single(np.linspace(6, mlim, 100), z0_i, norm_single, best_params,\n",
    "                           color='orange', linestyle='--')\n",
    "    # plot_zschechter_double(np.linspace(6, mlim, 100), z0_i, norm_double, best_params_double,\n",
    "                           # color='green', linestyle='--')\n",
    "    \n",
    "    plot_zschechter_single(np.linspace(mlim, 13, 100), z0_i, norm_single, best_params, label=f'z = {round(z0_i,2)}', color='orange')\n",
    "    # plot_zschechter_double(np.linspace(mlim, 13, 100), z0_i, norm_double, best_params_double, label='double Schechter', color='green')\n",
    "\n",
    "    \n",
    "\n",
    "    plt.legend(loc='best')\n",
    "plt.tight_layout()\n",
    "plt.savefig('../paper/BGS_fit.png')\n",
    "    "
   ]
  }
 ],
 "metadata": {
  "kernelspec": {
   "display_name": "bgs",
   "language": "python",
   "name": "bgs"
  },
  "language_info": {
   "codemirror_mode": {
    "name": "ipython",
    "version": 3
   },
   "file_extension": ".py",
   "mimetype": "text/x-python",
   "name": "python",
   "nbconvert_exporter": "python",
   "pygments_lexer": "ipython3",
   "version": "3.11.5"
  }
 },
 "nbformat": 4,
 "nbformat_minor": 5
}
