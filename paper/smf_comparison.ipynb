{
 "cells": [
  {
   "cell_type": "code",
   "execution_count": 1,
   "id": "initial_id",
   "metadata": {},
   "outputs": [],
   "source": [
    "import sys\n",
    "import numpy as np\n",
    "from matplotlib import pyplot as plt\n",
    "\n",
    "\n",
    "sys.path.append('../')\n",
    "\n",
    "from BGS import BGS\n",
    "from FileEmcee import FileEmcee\n",
    "from EmceeRun import EmceeRun\n",
    "from Plotter import Plotter\n",
    "from VMaxDensity import VmaxDensity\n",
    "from ZSchechterModel import ZSchechterModel"
   ]
  },
  {
   "cell_type": "code",
   "execution_count": null,
   "id": "45259fc4-cd83-41ac-ba89-84adb5207c86",
   "metadata": {},
   "outputs": [],
   "source": []
  }
 ],
 "metadata": {
  "kernelspec": {
   "display_name": "bgs",
   "language": "python",
   "name": "bgs"
  },
  "language_info": {
   "codemirror_mode": {
    "name": "ipython",
    "version": 3
   },
   "file_extension": ".py",
   "mimetype": "text/x-python",
   "name": "python",
   "nbconvert_exporter": "python",
   "pygments_lexer": "ipython3",
   "version": "3.11.5"
  }
 },
 "nbformat": 4,
 "nbformat_minor": 5
}
