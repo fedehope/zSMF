{
 "cells": [
  {
   "cell_type": "markdown",
   "id": "a4c58b6c-58b8-4386-b8c7-5c71e8ae7db3",
   "metadata": {},
   "source": [
    "## TEST HYPATIA"
   ]
  },
  {
   "cell_type": "code",
   "execution_count": 5,
   "id": "5568fe82-29c6-49c8-bb26-cd042148e752",
   "metadata": {},
   "outputs": [],
   "source": [
    "# Schechter redshift dependency on HST data\n",
    "\n",
    "\n",
    "\n",
    "\n",
    "import copy\n",
    "import os, sys\n",
    "#from nflows import transforms, distributions, flows\n",
    "import torch\n",
    "from scipy.special import logsumexp\n",
    "from scipy.optimize import curve_fit\n",
    "from scipy import integrate\n",
    "from scipy.interpolate import interp1d\n",
    "\n",
    "from torch import nn\n",
    "from torch import optim\n",
    "import torch.distributions as D\n",
    "import emcee\n",
    "import corner\n",
    "import time\n",
    "from multiprocessing import cpu_count, Pool\n",
    "\n",
    "import os\n",
    "import h5py \n",
    "import numpy as np\n",
    "# import fitsio\n",
    "# from tqdm.auto import trange\n",
    "import astropy.table as aTable\n",
    "from astropy.cosmology import Planck13\n",
    "from astropy.cosmology import FlatLambdaCDM\n",
    "\n",
    "\n",
    "\n",
    "\n",
    "# ### Methods\n",
    "\n",
    "# #### Mass completeness limit $M(z)$\n",
    "\n",
    "\n",
    "\n",
    "\n",
    "def mass_completeness_limit_hst(z):\n",
    "    \n",
    "    x_values = [0.5, 0.65, 1.0, 1.5, 2.1, 3.0]\n",
    "    y_values = [8.72, 8.72, 9.07, 9.63, 9.79, 10.15]\n",
    "    \n",
    "    f = interp1d(x_values, y_values)\n",
    "    return f(z)\n",
    "\n",
    "\n",
    "def mass_completeness_limit_cosmos(z):\n",
    "    x_values = [0.175, 0.5, 0.8, 1.125, 1.525, 2.0, 2.5, 3.125, 3.75, 4.4]\n",
    "    y_values = [8.1, 8.7, 9.1, 9.3, 9.7, 9.9, 10.0, 10.1, 10.1, 10.1]\n",
    "\n",
    "    f = interp1d(x_values, y_values)\n",
    "    return f(z)\n",
    "\n",
    "\n",
    "def mass_completeness_limit_bgs(z):\n",
    "    f, b, c = [-1.34199453, 13.90578909,  8.53522654]\n",
    "    return 4*np.pi*f*z**2 + b*z + c\n",
    "\n",
    "\n",
    "\n",
    "def gathering_data_hst(data, zmin, zmax):\n",
    "\n",
    "    hst = data\n",
    "    mask_zlim = (hst['z_peak'].data > zmin) & (hst['z_peak'].data < zmax)\n",
    "    \n",
    "    z_tot = hst['z_peak'].data[mask_zlim]\n",
    "    x_tot = hst['lmass'].data[mask_zlim]\n",
    "    \n",
    "    \n",
    "    mass_comp_lim = mass_completeness_limit_hst(z_tot)\n",
    "    # mask_mlim = []\n",
    "    # for i in range(len(x_median_tot)):\n",
    "    #     mask_mlim.append(x_median_tot[i] > mass_comp_lim[i])\n",
    "    mask_mlim = (x_tot > mass_completeness_limit_hst(z_tot))  & (x_tot < 12.)\n",
    "        \n",
    "    \n",
    "    mask = (mask_mlim)\n",
    "    \n",
    "    z = z_tot[mask].astype(np.float32)\n",
    "    x = x_tot[mask].astype(np.float32)\n",
    "    \n",
    "    return z, x\n",
    "\n",
    "\n",
    "\n",
    "def gathering_data_cosmos(data, zmin, zmax):\n",
    "    cosmos = data\n",
    "    \n",
    "    mask_ultra = (cosmos['FLAG_HJMCC']==0) & (cosmos['FLAG_COSMOS']==1) & (cosmos['FLAG_PETER']==0)\n",
    "    \n",
    "    z_tot = cosmos['ZPDF'][mask_ultra].data\n",
    "    x_tot = cosmos['MASS_MED'][mask_ultra].data\n",
    "    \n",
    "    mask_zlim = (z_tot > zmin) & (z_tot < zmax) & (x_tot > 0)\n",
    "\n",
    "    z2 = z_tot[mask_zlim]\n",
    "    x2 = x_tot[mask_zlim]\n",
    "    \n",
    "    mask_mlim = (x2 > mass_completeness_limit_cosmos(z2))\n",
    "\n",
    "    return z2[mask_mlim].astype(np.float32), x2[mask_mlim].astype(np.float32)\n",
    "\n",
    "\n",
    "\n",
    "def gathering_data_bgs(data, zmin, zmax):\n",
    "\n",
    "    bgs = data\n",
    "    mask_zlim = (bgs['Z_HP'].data > zmin) & (bgs['Z_HP'].data < zmax)\n",
    "    \n",
    "    z_tot = bgs['Z_HP'].data[mask_zlim]\n",
    "    x_tot = bgs['provabgs_logMstar'].data[mask_zlim]\n",
    "    x_median_tot = np.median(x_tot, axis=1)\n",
    "    w_zfail_tot = bgs['provabgs_w_zfail'].data[mask_zlim]\n",
    "    w_fib_tot = bgs['provabgs_w_fibassign'].data[mask_zlim]\n",
    "    vmax_tot = bgs['Vmax'].data[mask_zlim]\n",
    "    \n",
    "    \n",
    "    mass_comp_lim = mass_completeness_limit_bgs(z_tot)\n",
    "    # mask_mlim = []\n",
    "    # for i in range(len(x_median_tot)):\n",
    "    #     mask_mlim.append(x_median_tot[i] > mass_comp_lim[i])\n",
    "    mask_mlim = x_median_tot > mass_completeness_limit_bgs(z_tot)\n",
    "        \n",
    "    \n",
    "    mask = (w_zfail_tot > 0) & (mask_mlim)\n",
    "    \n",
    "    z = z_tot[mask].astype(np.float32)\n",
    "    x = x_tot[mask].astype(np.float32)\n",
    "    x_median = x_median_tot[mask].astype(np.float32)\n",
    "    w_zfail = w_zfail_tot[mask].astype(np.float32)\n",
    "    w_fib = w_fib_tot[mask].astype(np.float32)\n",
    "    vmax = vmax_tot[mask].astype(np.float32)\n",
    "    \n",
    "    \n",
    "    f_area = (173.641/(4.*np.pi*(180/np.pi)**2))\n",
    "    v_zmin = Planck13.comoving_volume(0.01).value * Planck13.h**3 * f_area # (Mpc/h)^3\n",
    "    v_zmax = Planck13.comoving_volume(0.09).value * Planck13.h**3 * f_area # (Mpc/h)^3\n",
    "    v_sub = v_zmax - v_zmin\n",
    "    \n",
    "    \n",
    "    # w_spec * 1/Vmax\n",
    "    w = (w_zfail*w_fib) * v_sub / (vmax.clip(v_zmin, v_zmax) - v_zmin)\n",
    "    n = np.sum(w)/v_sub\n",
    "    \n",
    "    # Spectroscopic weights\n",
    "    w_spec = (w_zfail*w_fib)\n",
    "\n",
    "    return z, x, x_median, w_spec, vmax\n",
    "\n",
    "\n",
    "\n",
    "# #### Schechter function $\\phi(M_{*}, z)$\n",
    "\n",
    "\n",
    "\n",
    "# For Emcee fit\n",
    "# def smf_single_schechter_sty_noz(x, logM, alpha1):\n",
    "#     term0 = np.exp(-10 ** (x-logM))\n",
    "#     term1 = 10 ** ((alpha1+1)*(x - logM))\n",
    "#     return term0 * term1\n",
    "\n",
    "\n",
    "# def smf_single_schechter_sty(x, z, a0, a1, a2, a3):\n",
    "#     logM = a0 + a1 * z\n",
    "#     alpha1 = a2 + a3 * z\n",
    "    \n",
    "#     term0 = np.exp(-10 ** (x-logM[:,None]))\n",
    "#     term1 = 10 ** ((alpha1+1)[:,None]*(x - logM[:,None]))\n",
    "#     return term0 * term1\n",
    "\n",
    "\n",
    "def smf_single_schechter_sty(x, z, a0, a1, a2, a3):\n",
    "    logM = a0 + a1 * z\n",
    "    alpha1 = a2 + a3 * z\n",
    "    \n",
    "    term0 = np.exp(-10 ** (x-logM))\n",
    "    term1 = 10 ** ((alpha1+1)*(x - logM))\n",
    "    return term0 * term1\n",
    "\n",
    "\n",
    "def smf_double_schechter_sty(x, z,  a0, a1, a2, alpha1, alpha2, a7, a8, a9):\n",
    "    logM = a0*z**2 + a1*z + a2\n",
    "#     alpha1 = -.28\n",
    "#     alpha2 = -1.48\n",
    "    log_phi2_phi1 = a7*z**2 + a8*z + a9\n",
    "    \n",
    "    term0 = np.exp(-10 ** (x-logM))\n",
    "    term1 = 10 ** ((alpha2+1)*(x - logM))\n",
    "    term2 = 10 ** ((alpha1+1)*(x - logM) + log_phi2_phi1)\n",
    "    return term0 * (term1 + term2)\n",
    "\n",
    "\n",
    "\n",
    "def smf_single_schechter_integral(x, z, a0, a1, a2, a3):\n",
    "    logM = a0 + a1*z\n",
    "    alpha1 = a2 + a3*z\n",
    "    term0 = np.exp(-10 ** (x-logM))\n",
    "    term1 = 10 ** ((alpha1+1)*(x - logM))\n",
    "    return term0 * term1\n",
    "\n",
    "\n",
    "# #### Log Likelihood - prior - posterior\n",
    "\n",
    "\n",
    "\n",
    "\n",
    "# def log_likelihood(a0, a1, a2, a3, z, x):\n",
    "#     q = smf_single_schechter_sty(x, z, a0, a1, a2, a3)\n",
    "\n",
    "#     mlim = mass_completeness_limit(z)\n",
    "#     I = [integrate.quad(smf_single_schechter_integral, mlim[i], 15., args=(z[i], a0, a1, a2, a3))[0] for i in range(z.shape[0])]\n",
    "\n",
    "#     a = np.log10(q) - np.log10(I)\n",
    "    \n",
    "#     return a\n",
    "\n",
    "\n",
    "def log_likelihood(a0, a1, a2, alpha1, alpha2, a7, a8, a9, x, z):\n",
    "    q = smf_double_schechter_sty(x, z, a0, a1, a2, alpha1, alpha2, a7, a8, a9)\n",
    "\n",
    "    mlim = mass_completeness_limit(z)\n",
    "    I = [integrate.quad(smf_double_schechter_sty, mlim[i], 12.,\n",
    "                        args=(z[i], a0, a1, a2, alpha1, alpha2, a7, a8, a9))[0] for i in range(z.shape[0])]\n",
    "\n",
    "    a = np.log10(q) - np.log10(I)\n",
    "    \n",
    "    return a\n",
    "\n",
    "\n",
    "\n",
    "\n",
    "def log_prior(theta):\n",
    "    a0, a1, a2, alpha1, alpha2, a7, a8, a9 = theta\n",
    "    if -4. < a0 < 4. and \\\n",
    "        -4. < a1 < 4. and \\\n",
    "       8. < a2 < 13.  and \\\n",
    "        -1 < alpha1 < 2 and \\\n",
    "        -2 < alpha2 < -0.5 and \\\n",
    "        -3 < a7 < 3 and \\\n",
    "        -3 < a8 < 3 and \\\n",
    "        -3 < a9 < 3:\n",
    "        return 0\n",
    "    return -np.inf\n",
    "\n",
    "#        -4. < a3 < 4. and \\\n",
    "#         -4 < a4 < 4 and \\\n",
    "#         -4 < a5 < 4 and \\\n",
    "#         -4 < a6 < 4 and \\\n",
    "\n",
    "def posterior(theta, x, z):\n",
    "    a0, a1, a2, alpha1, alpha2, a7, a8, a9 = theta\n",
    "    l = log_likelihood(a0, a1, a2, alpha1, alpha2, a7, a8, a9, x, z)\n",
    "    return log_prior(theta) + np.sum(l)\n",
    "\n",
    "\n",
    "\n",
    "# input\n",
    "# zmin = float(sys.argv[1])\n",
    "# zmax = float(sys.argv[2])\n",
    "# nwalkers = int(sys.argv[3])\n",
    "# nstep = int(sys.argv[4])\n",
    "# label = str(sys.argv[5])\n",
    "\n",
    "\n",
    "data_dir = '../data'\n",
    "data_file_bgs = 'BGS_ANY_full.provabgs.lite.hdf5'\n",
    "data_file_cosmos = 'COSMOS2015_Laigle+_v1.1.lite.hdf5'\n",
    "data_file_hst = '3dhst_master.phot.v4.1.cat.lite.hdf5'\n",
    "\n",
    "path_to_data_bgs = os.path.join(data_dir,data_file_bgs)\n",
    "path_to_data_cosmos = os.path.join(data_dir,data_file_cosmos)\n",
    "path_to_data_hst = os.path.join(data_dir,data_file_hst)\n",
    "\n",
    "bgs = aTable.Table.read(path_to_data_bgs)\n",
    "cosmos = aTable.Table.read(path_to_data_cosmos)\n",
    "hst = aTable.Table.read(path_to_data_hst)\n",
    "\n",
    "\n",
    "is_bgs_bright = bgs['is_bgs_bright']\n",
    "is_bgs_faint = bgs['is_bgs_faint']\n",
    "\n",
    "bgs = bgs[bgs['is_bgs_bright']]\n",
    "\n",
    "zmin_bgs, zmax_bgs = 0.01, 0.4\n",
    "zmin_cosmos, zmax_cosmos = 0.2, 0.8\n",
    "zmin_hst, zmax_hst = 0.5, 3.\n",
    "\n",
    "\n",
    "z_bgs, x_bgs, x_median_bgs, w_spec, v_max = gathering_data_bgs(bgs, zmin_bgs, zmax_bgs)\n",
    "z_cosmos, x_cosmos = gathering_data_cosmos(cosmos, zmin_cosmos, zmax_cosmos)\n",
    "z_hst, x_hst = gathering_data_hst(hst, zmin_hst, zmax_hst)\n",
    "\n",
    "\n",
    "z = np.concatenate((z_bgs, z_cosmos, z_hst))\n",
    "x = np.concatenate((x_median_bgs, x_cosmos, x_hst))"
   ]
  },
  {
   "cell_type": "code",
   "execution_count": 6,
   "id": "d50806bb-3eee-4bd5-b2b7-35ecda022b9b",
   "metadata": {},
   "outputs": [
    {
     "data": {
      "text/plain": [
       "(6.0, 14.0)"
      ]
     },
     "execution_count": 6,
     "metadata": {},
     "output_type": "execute_result"
    },
    {
     "data": {
      "image/png": "[encoded data removed]",
      "text/plain": [
       "<Figure size 800x800 with 1 Axes>"
      ]
     },
     "metadata": {},
     "output_type": "display_data"
    }
   ],
   "source": [
    "from matplotlib import pyplot as plt\n",
    "\n",
    "plt.figure(figsize=(8,8))\n",
    "plt.scatter(z_hst, x_hst, s=1, c='C1', label='HST')\n",
    "plt.scatter(z_cosmos, x_cosmos, s=1, c='C0', label='COSMOS')\n",
    "plt.scatter(z_bgs, x_median_bgs, s=1, c='C2', label='BGS')\n",
    "plt.scatter(z, x, s=1, c='C3', label='TOT')\n",
    "\n",
    "plt.xlabel(r\"redshift ($z$)\")\n",
    "plt.xlim(0., 3.1)\n",
    "plt.ylabel(r\"$\\log M_*$\")\n",
    "plt.ylim(6., 14.)"
   ]
  },
  {
   "cell_type": "code",
   "execution_count": null,
   "id": "f7c84afb-982a-41e8-a5a7-ae1bcc70fb45",
   "metadata": {},
   "outputs": [],
   "source": [
    "from astropy.cosmology import Planck13, Planck15, Planck18\n",
    "from scipy.interpolate import interp1d\n",
    "from scipy import integrate"
   ]
  },
  {
   "cell_type": "code",
   "execution_count": null,
   "id": "c26ec3f9-96c4-4efb-9749-a85037661c83",
   "metadata": {},
   "outputs": [],
   "source": [
    "import sys\n",
    "import numpy as np\n",
    "from matplotlib import pyplot as plt\n",
    "\n",
    "\n",
    "sys.path.append('../')\n",
    "\n",
    "from BGS import BGS\n",
    "from HST import HST\n",
    "from COSMOS import COSMOS\n",
    "\n",
    "from FileEmcee import FileEmcee\n",
    "from EmceeRun import EmceeRun\n",
    "\n",
    "from Plotter import Plotter\n",
    "from PlotterHst import PlotterHst\n",
    "from PlotterCOSMOS import PlotterCOSMOS\n",
    "\n",
    "from VMaxDensity import VmaxDensity\n",
    "from VMaxDensityHst import VmaxDensityHst\n",
    "\n",
    "from ZSchechterModel import ZSchechterModel\n",
    "from NoZSchechterModel import NoZSchechterModel\n",
    "\n",
    "from Fileh5 import Fileh5"
   ]
  },
  {
   "cell_type": "code",
   "execution_count": null,
   "id": "4b19e484-0995-4387-a9e7-3df3dfd53407",
   "metadata": {},
   "outputs": [],
   "source": [
    "cosmos = COSMOS('COSMOS2015_Laigle+_v1.1.lite.hdf5')\n",
    "hst = HST('3dhst_master.phot.v4.1.cat.lite.hdf5')\n",
    "bgs = BGS('BGS_ANY_full.provabgs.lite.hdf5')\n",
    "emcee_file = Fileh5(folder='emcee_runs', info_file='ZSchechter_50w_100step_0.175_2.0_cosmos.h5')\n",
    "emcee_run = EmceeRun(emcee_file)"
   ]
  },
  {
   "cell_type": "code",
   "execution_count": null,
   "id": "7e701e6e-6631-417c-8261-2a48d7581966",
   "metadata": {},
   "outputs": [],
   "source": [
    "plotter_cosmos = PlotterCOSMOS(cosmos, emcee_run)"
   ]
  },
  {
   "cell_type": "code",
   "execution_count": null,
   "id": "d147fcc7-491e-4728-bc36-8caf85dfb5e4",
   "metadata": {},
   "outputs": [],
   "source": [
    "plt.figure(figsize=(8,8))\n",
    "plotter_cosmos.plot_selected_data(0.2, 4.4)"
   ]
  },
  {
   "cell_type": "code",
   "execution_count": null,
   "id": "0656f901-e0a1-43f1-918d-6feefe705e7e",
   "metadata": {},
   "outputs": [],
   "source": [
    "z_cosmos, x_cosmos = cosmos.select_galaxies(0.2, 0.8)\n",
    "z_hst, x_hst = hst.select_galaxies(0.5, 3.0)\n",
    "z_bgs, x_bgs, x_median_bgs, w_spec, vmax = bgs.select_galaxies(0.01, 0.3)"
   ]
  },
  {
   "cell_type": "code",
   "execution_count": null,
   "id": "5940409e-c4ad-465f-a88b-1a8badb9996f",
   "metadata": {},
   "outputs": [],
   "source": [
    "z_lin = np.linspace(0.2, 4.4, 100)\n",
    "\n",
    "plt.figure(figsize=(8,8))\n",
    "# plt.scatter(z_cosmos, x_cosmos, s=1, c='lightgrey', label='COSMOS')\n",
    "plt.scatter(z_hst, x_hst, s=1, c='C1', label='HST')\n",
    "plt.scatter(z_cosmos, x_cosmos, s=1, c='C0', label='COSMOS')\n",
    "plt.scatter(z_bgs, x_median_bgs, s=1, c='C2', label='BGS')\n",
    "\n",
    "# plt.scatter(z_hst, x_hst, s=1, c='lightgrey', label='COSMOS')\n",
    "\n",
    "plt.plot(z_lin, cosmos.mass_completeness_limit(z_lin), color='orange', linewidth=0.9)\n",
    "plt.plot(z_lin, cosmos.mass_completeness_limit(z_lin), color='orange', linewidth=0.9)\n",
    "\n",
    "plt.legend(loc='lower right', fontsize=10, markerscale=10, handletextpad=0.1)\n",
    "plt.xlabel(r\"redshift ($z$)\")\n",
    "plt.xlim(0., 3.1)\n",
    "plt.ylabel(r\"$\\log M_*$\")\n",
    "plt.ylim(6., 14.)"
   ]
  },
  {
   "cell_type": "markdown",
   "id": "18655f4d-b505-4059-96da-209c586a8cd5",
   "metadata": {},
   "source": [
    "# 3D-HST Leja et al."
   ]
  },
  {
   "cell_type": "code",
   "execution_count": null,
   "id": "9ca7a3c2-8eb9-45f2-bb93-78b3f5c4705c",
   "metadata": {},
   "outputs": [],
   "source": [
    "# 3D-HST\n",
    "def zmax_lim(mstar):\n",
    "    y_values = [8.72, 8.72, 9.07, 9.63, 9.79, 10.15]\n",
    "    x_values = [0.5, 0.65, 1.0, 1.5, 2.1, 3.0]\n",
    "\n",
    "    f = interp1d(y_values, x_values)\n",
    "    if mstar > y_values[-1]:\n",
    "        return x_values[-1]\n",
    "    else:\n",
    "        return f(mstar)"
   ]
  },
  {
   "cell_type": "code",
   "execution_count": null,
   "id": "cfa37346-c557-4ad8-bcce-461a3a51a6d9",
   "metadata": {},
   "outputs": [],
   "source": [
    "def mass_completeness_limit(z):\n",
    "    \n",
    "    x_values = [0.65, 1.0, 1.5, 2.1, 3.0]\n",
    "    y_values = [8.72, 9.07, 9.63, 9.79, 10.15]\n",
    "    \n",
    "    f = interp1d(x_values, y_values)\n",
    "    return f(z)\n",
    "\n",
    "\n",
    "\n",
    "def gathering_data(data, zmin, zmax):\n",
    "\n",
    "    hst = data\n",
    "    mask_zlim = (hst['z_peak'].data > zmin) & (hst['z_peak'].data < zmax)\n",
    "    \n",
    "    z_tot = hst['z_peak'].data[mask_zlim]\n",
    "    x_tot = hst['lmass'].data[mask_zlim]\n",
    "    \n",
    "    \n",
    "    mass_comp_lim = mass_completeness_limit(z_tot)\n",
    "    # mask_mlim = []\n",
    "    # for i in range(len(x_median_tot)):\n",
    "    #     mask_mlim.append(x_median_tot[i] > mass_comp_lim[i])\n",
    "    mask_mlim = x_tot > mass_completeness_limit(z_tot)\n",
    "        \n",
    "    \n",
    "    mask = (mask_mlim)\n",
    "    \n",
    "    z = z_tot[mask].astype(np.float32)\n",
    "    x = x_tot[mask].astype(np.float32)\n",
    "    \n",
    "    return z, x"
   ]
  },
  {
   "cell_type": "code",
   "execution_count": null,
   "id": "56cf1df9-9526-441d-91bc-440ea54341a0",
   "metadata": {},
   "outputs": [],
   "source": [
    "hst = Table.read('../data/3dhst_master.phot.v4.1.cat.FITS')"
   ]
  },
  {
   "cell_type": "code",
   "execution_count": null,
   "id": "52ad9852-151e-432b-a78d-dd224a50a97b",
   "metadata": {},
   "outputs": [],
   "source": [
    "hst[:5]"
   ]
  },
  {
   "cell_type": "code",
   "execution_count": null,
   "id": "0a5a66a1-a56c-4a73-bb47-2fd5d694c1a5",
   "metadata": {},
   "outputs": [],
   "source": [
    "z, x = gathering_data(hst, 0.65, 3.0)"
   ]
  },
  {
   "cell_type": "code",
   "execution_count": null,
   "id": "0af2f991-f335-4e35-b4a8-64f91618fdea",
   "metadata": {},
   "outputs": [],
   "source": [
    "z_lin = np.linspace(0.65, 3.0, 100)\n",
    "plt.figure(figsize=(8,8))\n",
    "plt.plot(z, x, 'o', markersize=1)\n",
    "plt.plot(z_lin, mass_completeness_limit(z_lin))\n",
    "plt.xlabel(r\"redshift ($z$)\")\n",
    "plt.ylabel(r\"$\\log M_*$\")\n",
    "# plt.xlim(0.5, 3.5)\n",
    "plt.ylim(8., 15)\n"
   ]
  },
  {
   "cell_type": "code",
   "execution_count": null,
   "id": "45934615-e227-4255-b347-f2876f5f5d52",
   "metadata": {},
   "outputs": [],
   "source": [
    "write_table_hdf5(hst['lmass', 'z_peak'], '3dhst_master.phot.v4.1.cat.lite.hdf5', overwrite=True)"
   ]
  },
  {
   "cell_type": "code",
   "execution_count": null,
   "id": "b837542f-6f95-4132-b4c9-8622a75bd192",
   "metadata": {},
   "outputs": [],
   "source": [
    "x.shape"
   ]
  },
  {
   "cell_type": "code",
   "execution_count": null,
   "id": "ac959055-5dfa-4a12-8b71-faa73e35708d",
   "metadata": {},
   "outputs": [],
   "source": [
    "lmass = hst['lmass']\n",
    "# z_spec = hst['z_spec']\n",
    "z_peak = hst['z_peak']\n",
    "\n",
    "# mask_spec = (z_spec >= 0.)\n",
    "mask_peak = (z_peak >= 0.) & (lmass > 0.)"
   ]
  },
  {
   "cell_type": "code",
   "execution_count": null,
   "id": "c1c031d9-a9a1-4abb-a1fd-523db690b117",
   "metadata": {},
   "outputs": [],
   "source": [
    "mass_complete = np.array(list(zip([0.65, 1.0, 1.5, 2.1, 3.0], [8.72, 9.07, 9.63, 9.79, 10.15])))"
   ]
  },
  {
   "cell_type": "code",
   "execution_count": null,
   "id": "27824578-77a2-4107-ac8f-d2d4c4b6416a",
   "metadata": {},
   "outputs": [],
   "source": [
    "mass_complete[:,0]\n"
   ]
  },
  {
   "cell_type": "code",
   "execution_count": null,
   "id": "03138371-7c44-43ee-9693-190d7626ad4f",
   "metadata": {},
   "outputs": [],
   "source": [
    "hst['lmass','z_peak'].to_pandas().to_hdf('3dhst_master.phot.v4.1.cat.lite.hdf5', key='hst_lite', mode='w')"
   ]
  },
  {
   "cell_type": "code",
   "execution_count": null,
   "id": "1ca62cb7-6822-48a4-b97c-e96612d72a7d",
   "metadata": {},
   "outputs": [],
   "source": [
    "# cosmos = h5py.File('../data/COSMOS2015_Laigle+_v1.1.lite.hdf5')"
   ]
  },
  {
   "cell_type": "code",
   "execution_count": null,
   "id": "7b53daac-cc8f-4a8f-9f7f-2753430410e0",
   "metadata": {},
   "outputs": [],
   "source": [
    "cosmos = aTable.Table.read('../data/COSMOS2015_Laigle+_v1.1.lite.hdf5')"
   ]
  },
  {
   "cell_type": "code",
   "execution_count": null,
   "id": "2abde295-3f0b-4c5f-9d91-c7e59a7133cd",
   "metadata": {},
   "outputs": [],
   "source": [
    "# z, x = gathering_data(cosmos, 0.175, 4.4)"
   ]
  },
  {
   "cell_type": "code",
   "execution_count": null,
   "id": "77d82798-e532-4c18-beb2-4c7f44a4821c",
   "metadata": {},
   "outputs": [],
   "source": [
    "plt.figure(figsize=(8,8))\n",
    "plt.plot(z, x, 'o', markersize=0.3)\n",
    "# plt.plot(np.linspace(0.175, 4.4, 100), mass_completeness_limit(np.linspace(0.175, 4.4, 100)))\n",
    "# plt.plot(mass_complete_cosmos[:,0], mass_complete_cosmos[:,1])\n",
    "# plt.plot(np.linspace(x_values[0],x_values[-1],100), mass_completeness_cosmos(np.linspace(x_values[0],x_values[-1],100)))"
   ]
  },
  {
   "cell_type": "code",
   "execution_count": null,
   "id": "4952bd69-5d2c-432b-a2c0-a1c574e9c5e3",
   "metadata": {},
   "outputs": [],
   "source": [
    "z.shape"
   ]
  },
  {
   "cell_type": "code",
   "execution_count": null,
   "id": "beece28d-001c-4281-a446-cd22d84990ff",
   "metadata": {},
   "outputs": [],
   "source": [
    "z_cosmos = cosmos['ZPDF']\n",
    "m_cosmos = cosmos['MASS_MED']\n",
    "mask = (z_cosmos >= .175) & (z_cosmos <= 4.4) & (m_cosmos > 8.1)\n",
    "z = z_cosmos[mask]\n",
    "mask_lim = m_cosmos > mass_completeness_cosmos(z)\n",
    "mstar = m_cosmos[mask_lim]\n",
    "z = z_cosmos[mask_lim]"
   ]
  },
  {
   "cell_type": "code",
   "execution_count": null,
   "id": "5f7f1676-8970-4a16-b51c-7d9239d169fb",
   "metadata": {},
   "outputs": [],
   "source": [
    "mass_complete_cosmos = np.array(list(zip([0.175, 0.5, 0.8, 1.125, 1.525, 2.0, 2.5, 3.125, 3.75, 4.4], \n",
    "                                         [8.1, 8.7, 9.1, 9.3, 9.7, 9.9, 10.0, 10.1, 10.1, 10.1])))"
   ]
  },
  {
   "cell_type": "code",
   "execution_count": null,
   "id": "15988ca2-7bfb-4e8c-af75-1effa9e7d032",
   "metadata": {},
   "outputs": [],
   "source": [
    "x_values = [0.175, 0.5, 0.8, 1.125, 1.525, 2.0, 2.5, 3.125, 3.75, 4.4]"
   ]
  },
  {
   "cell_type": "code",
   "execution_count": null,
   "id": "640036cb-50ab-4701-9e10-31999afdc37d",
   "metadata": {},
   "outputs": [],
   "source": [
    "plt.figure(figsize=(8,8))\n",
    "plt.plot(z, x, 'o', markersize=1)\n",
    "plt.plot(mass_complete_cosmos[:,0], mass_complete_cosmos[:,1])\n",
    "plt.plot(np.linspace(x_values[0],x_values[-1],100), mass_completeness_cosmos(np.linspace(x_values[0],x_values[-1],100)))\n",
    "\n",
    "plt.xlabel(r\"redshift ($z$)\")\n",
    "plt.ylabel(r\"$\\log M_*$\")\n",
    "# plt.xlim(0.5, 3.5)\n",
    "# plt.ylim(8., 15)"
   ]
  },
  {
   "cell_type": "code",
   "execution_count": null,
   "id": "817e620d-5da7-49e4-81dc-c06d2cb091b9",
   "metadata": {},
   "outputs": [],
   "source": [
    "\n",
    "x_values = [0.175, 0.5, 0.8, 1.125, 1.525, 2.0, 2.5, 3.125, 3.75, 4.4]\n",
    "y_values = [8.1, 8.7, 9.1, 9.3, 9.7, 9.9, 10.0, 10.1, 10.1, 10.1]\n",
    "\n",
    "f = interp1d(x_values, y_values)"
   ]
  },
  {
   "cell_type": "code",
   "execution_count": null,
   "id": "d590639c-fce2-4d4d-8ef1-751990e73e89",
   "metadata": {},
   "outputs": [],
   "source": [
    "f(1.3)"
   ]
  },
  {
   "cell_type": "code",
   "execution_count": null,
   "id": "b4996919-3e7d-4440-9fe6-1b8cc4f94b92",
   "metadata": {},
   "outputs": [],
   "source": [
    "def mass_completeness_cosmos(x):\n",
    "    \n",
    "    x_values = [0.175, 0.5, 0.8, 1.125, 1.525, 2.0, 2.5, 3.125, 3.75, 4.4]\n",
    "    y_values = [8.1, 8.7, 9.1, 9.3, 9.7, 9.9, 10.0, 10.1, 10.1,10.1]\n",
    "\n",
    "    f = interp1d(x_values, y_values)\n",
    "    return f(x)"
   ]
  },
  {
   "cell_type": "code",
   "execution_count": null,
   "id": "e4564736-b6c2-4d19-8541-7b6d0a6a2791",
   "metadata": {},
   "outputs": [],
   "source": [
    "plt.figure(figsize=(8,8))\n",
    "plt.plot(z_cosmos[mask], m_cosmos[mask], 'o', markersize=1)\n",
    "plt.plot(mass_complete_cosmos[:,0], mass_complete_cosmos[:,1])\n",
    "plt.plot(np.linspace(x_values[0], x_values[-1], 100), mass_completeness_cosmos(np.linspace(x_values[0], x_values[-1], 100)))\n",
    "plt.xlabel(r\"redshift ($z$)\")\n",
    "plt.ylabel(r\"$\\log M_*$\")\n",
    "# plt.xlim(0.5, 3.5)\n",
    "# plt.ylim(8., 15)\n",
    "# plt.plot(np.linspace(1, 10, 100), mass_completeness_cosmos(np.linspace(1, 10, 100)))"
   ]
  },
  {
   "cell_type": "markdown",
   "id": "69aef3a1-bbfa-4328-904d-76a06e1f9305",
   "metadata": {},
   "source": [
    "# COSMOS2015 Laigle et al. 2016"
   ]
  },
  {
   "cell_type": "code",
   "execution_count": null,
   "id": "3de391bf-10cb-44d1-af92-582d166a1541",
   "metadata": {},
   "outputs": [],
   "source": [
    "from astropy.table import Table"
   ]
  },
  {
   "cell_type": "code",
   "execution_count": null,
   "id": "259caa44-951f-4b03-a25a-06504477eb3f",
   "metadata": {},
   "outputs": [],
   "source": [
    "cosmos2015 = Table.read('../data/COSMOS2015_Laigle+_v1.1.fits')"
   ]
  },
  {
   "cell_type": "code",
   "execution_count": null,
   "id": "23dafa61-115a-43e9-a657-83e339ba2540",
   "metadata": {},
   "outputs": [],
   "source": [
    "from astropy.io.misc.hdf5 import write_table_hdf5"
   ]
  },
  {
   "cell_type": "code",
   "execution_count": null,
   "id": "d95f5a95-27d1-4452-a5a5-30c69f11d267",
   "metadata": {},
   "outputs": [],
   "source": [
    "write_table_hdf5(cosmos2015['ZPDF', 'MASS_MED', 'FLAG_HJMCC', 'FLAG_COSMOS', 'FLAG_PETER'], 'COSMOS2015_Laigle+_v1.1.lite.hdf5')"
   ]
  },
  {
   "cell_type": "code",
   "execution_count": null,
   "id": "3097fe2a-eae2-4a34-8609-3c5e267c2e1a",
   "metadata": {},
   "outputs": [],
   "source": [
    "cosmos2015[:5]"
   ]
  },
  {
   "cell_type": "code",
   "execution_count": null,
   "id": "74217ad9-419f-498f-9de6-31346f8f6538",
   "metadata": {},
   "outputs": [],
   "source": [
    "mask = (cosmos2015['ZPDF'] >= 0.) & (cosmos2015['MASS_MED'] > 0.) & (cosmos2015['FLAG_HJMCC']==0) & (cosmos2015['FLAG_COSMOS']==1) & (cosmos2015['FLAG_PETER']==0)"
   ]
  },
  {
   "cell_type": "code",
   "execution_count": null,
   "id": "952543a4-27e1-4949-82ac-91179045ae3e",
   "metadata": {},
   "outputs": [],
   "source": [
    "cosmos2015['ZPDF'][mask].shape"
   ]
  },
  {
   "cell_type": "code",
   "execution_count": null,
   "id": "eb6ed4fe-23ca-4abb-a06a-83201e650afa",
   "metadata": {},
   "outputs": [],
   "source": [
    "mask_flag = (cosmos2015['FLAG_DEEP'] == 1)"
   ]
  },
  {
   "cell_type": "code",
   "execution_count": null,
   "id": "8854d004-68b9-484a-a732-3827820e322a",
   "metadata": {},
   "outputs": [],
   "source": [
    "c = cosmos2015['ZPDF'][mask_flag]"
   ]
  },
  {
   "cell_type": "code",
   "execution_count": null,
   "id": "739a80f5-0ccf-48c8-9755-1033683d33c3",
   "metadata": {},
   "outputs": [],
   "source": [
    "c[:5]"
   ]
  },
  {
   "cell_type": "code",
   "execution_count": null,
   "id": "9334242a-1662-4906-8988-409f3676b7d4",
   "metadata": {},
   "outputs": [],
   "source": [
    "z_cosmos = cosmos2015['ZPDF']\n",
    "m_cosmos = cosmos2015['MASS_MED']\n",
    "mask = (z_cosmos >= 0.) & (m_cosmos > 0.)"
   ]
  },
  {
   "cell_type": "code",
   "execution_count": null,
   "id": "593d8cea-a144-4228-a5d2-0ba87d849f9d",
   "metadata": {},
   "outputs": [],
   "source": [
    "mass_complete_cosmos = np.array(list(zip([0.175, 0.5, 0.8, 1.125, 1.525, 2.0, 2.5, 3.125, 3.75, 4.4], \n",
    "                                         [8.1, 8.7, 9.1, 9.3, 9.7, 9.9, 10.0, 10.1, 10.1])))"
   ]
  },
  {
   "cell_type": "code",
   "execution_count": null,
   "id": "f09a122a-385e-4e0c-90ee-5aece969aa3f",
   "metadata": {},
   "outputs": [],
   "source": [
    "plt.figure(figsize=(8,8))\n",
    "plt.plot(z_cosmos[mask], m_cosmos[mask], 'o', markersize=1)\n",
    "plt.plot(mass_complete_cosmos[:,0], mass_complete_cosmos[:,1])\n",
    "plt.xlabel(r\"redshift ($z$)\")\n",
    "plt.ylabel(r\"$\\log M_*$\")\n",
    "# plt.xlim(0.5, 3.5)\n",
    "# plt.ylim(8., 15)\n"
   ]
  },
  {
   "cell_type": "code",
   "execution_count": null,
   "id": "b071c897-f820-4906-8c74-2e0c62884eca",
   "metadata": {},
   "outputs": [],
   "source": [
    "cosmos2015['ZPDF', 'MASS_MED'].to_pandas().to_hdf('../data/COSMOS2015_Laigle+_v1.1.lite.hdf5', key='cosmos_lite', mode='w')"
   ]
  },
  {
   "cell_type": "code",
   "execution_count": null,
   "id": "5798b533-69cb-45fd-8745-bb9fd4075a42",
   "metadata": {},
   "outputs": [],
   "source": []
  }
 ],
 "metadata": {
  "kernelspec": {
   "display_name": "bgs",
   "language": "python",
   "name": "bgs"
  },
  "language_info": {
   "codemirror_mode": {
    "name": "ipython",
    "version": 3
   },
   "file_extension": ".py",
   "mimetype": "text/x-python",
   "name": "python",
   "nbconvert_exporter": "python",
   "pygments_lexer": "ipython3",
   "version": "3.11.5"
  }
 },
 "nbformat": 4,
 "nbformat_minor": 5
}
