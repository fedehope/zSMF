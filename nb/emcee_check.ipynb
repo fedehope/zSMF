{
 "cells": [
  {
   "cell_type": "code",
   "execution_count": 1,
   "id": "594f4b31-3e83-4926-9159-6557bbf1a23d",
   "metadata": {},
   "outputs": [],
   "source": [
    "import sys\n",
    "import numpy as np\n",
    "from matplotlib import pyplot as plt\n",
    "\n",
    "\n",
    "sys.path.append('../')\n",
    "\n",
    "from BGS import BGS\n",
    "from FileEmcee import FileEmcee\n",
    "from EmceeRun import EmceeRun\n",
    "from Plotter import Plotter\n",
    "from VMaxDensity import VmaxDensity\n",
    "from ZSchechterModel import ZSchechterModel\n",
    "from Fileh5 import Fileh"
   ]
  },
  {
   "cell_type": "code",
   "execution_count": 2,
   "id": "f0e7431a-3779-49c1-8eed-752e3b1012c7",
   "metadata": {},
   "outputs": [],
   "source": [
    "bgs = BGS('BGS_ANY_full.provabgs.lite.hdf5', is_bgs_bright=True)\n",
    "emcee_file = Fileh5('bin_tests_runs', 'a3deeper')"
   ]
  },
  {
   "cell_type": "code",
   "execution_count": 3,
   "id": "1c9fc0bd-96d1-4e02-a1c5-9da73e160887",
   "metadata": {},
   "outputs": [
    {
     "name": "stdin",
     "output_type": "stream",
     "text": [
      "Multiple files with that <info_file> \n",
      " [(0, '/Users/federico/OneDrive - University College London/PhD/PhD_project/bgs_psmf/emcee_runs/bin_tests_runs/ZSchechter_50w_600step_.01_0.4_a3deeper.h5'), (1, '/Users/federico/OneDrive - University College London/PhD/PhD_project/bgs_psmf/emcee_runs/bin_tests_runs/ZSchechter_20w_400step_0.0_0.2_a3deeper.h5')] \n",
      " - Tell me the index of the file you want to analyse:  1\n"
     ]
    },
    {
     "data": {
      "text/plain": [
       "'/Users/federico/OneDrive - University College London/PhD/PhD_project/bgs_psmf/emcee_runs/bin_tests_runs/ZSchechter_20w_400step_0.0_0.2_a3deeper.h5'"
      ]
     },
     "execution_count": 3,
     "metadata": {},
     "output_type": "execute_result"
    }
   ],
   "source": [
    "emcee_file.get_file()"
   ]
  },
  {
   "cell_type": "code",
   "execution_count": null,
   "id": "588e4a5d",
   "metadata": {},
   "outputs": [],
   "source": [
    "bgs = BGS('BGS_ANY_full.provabgs.lite.hdf5', is_bgs_bright=True)\n",
    "\n",
    "emcee_file_02 = FileEmcee(z_dependence=True, bin_test=True, info_file='0.0_0.2_a3deeper')\n",
    "emcee_file_04 = FileEmcee(z_dependence=True, bin_test=True, info_file='.01_0.4_a3deeper')\n",
    "emcee_file_new = FileEmcee(z_dependence=True, bin_test=True, info_file='new_prior')\n",
    "\n",
    "emcee_run_02 = EmceeRun(emcee_file_02)\n",
    "emcee_run_04 = EmceeRun(emcee_file_04)\n",
    "emcee_run_new = EmceeRun(emcee_file_new)"
   ]
  },
  {
   "cell_type": "code",
   "execution_count": null,
   "id": "8319ead3-9a49-4723-a452-60387f6fbcc2",
   "metadata": {},
   "outputs": [],
   "source": [
    "plotter02 = Plotter(bgs, emcee_run_02)\n",
    "plotter04 = Plotter(bgs, emcee_run_04)\n",
    "plotter_new = Plotter(bgs, emcee_run_new)\n"
   ]
  },
  {
   "cell_type": "code",
   "execution_count": null,
   "id": "bef7a13b-a737-4c20-a424-108abc4b7fad",
   "metadata": {},
   "outputs": [],
   "source": [
    "plotter02.plot_emcee_samples()"
   ]
  },
  {
   "cell_type": "code",
   "execution_count": null,
   "id": "b32f3811-9a97-46fa-b7b2-848f8ed39770",
   "metadata": {},
   "outputs": [],
   "source": [
    "plotter04.plot_emcee_samples()"
   ]
  },
  {
   "cell_type": "code",
   "execution_count": null,
   "id": "ee35c93b-0dc5-4597-9647-6d8c52d2eb6c",
   "metadata": {},
   "outputs": [],
   "source": [
    "plotter_new.plot_emcee_samples()"
   ]
  },
  {
   "cell_type": "code",
   "execution_count": null,
   "id": "8a790565-7644-401b-b1d0-aee761db57b4",
   "metadata": {},
   "outputs": [],
   "source": [
    "emcee_run_02.set_best_params(discard=50)\n",
    "emcee_run_04.set_best_params(discard=150)\n",
    "emcee_run_new.set_best_params(discard=70)"
   ]
  },
  {
   "cell_type": "code",
   "execution_count": null,
   "id": "c4388f7a-9983-4d51-b8bc-f50be1ccf047",
   "metadata": {},
   "outputs": [],
   "source": [
    "plotter_new.plot_emcee_corner(emcee_run_new.flat_samples, emcee_run_new.labels4)"
   ]
  },
  {
   "cell_type": "code",
   "execution_count": null,
   "id": "26cfca3a-8bc4-44db-bc37-dd06ff84b435",
   "metadata": {},
   "outputs": [],
   "source": [
    "# best_params = emcee_run_02.get_best_params()\n",
    "best_params_a3deeper = emcee_run_04.get_best_params()\n",
    "best_params = emcee_run_new.get_best_params()"
   ]
  },
  {
   "cell_type": "code",
   "execution_count": null,
   "id": "f085efb3-dcd7-47fd-acdb-c4f281b984c7",
   "metadata": {},
   "outputs": [],
   "source": [
    "z = np.linspace(0.01,1,100)\n",
    "\n",
    "plt.figure(figsize=(6,6))\n",
    "plt.subplot(1,2,1)\n",
    "plt.plot(z, best_params[0] + best_params[1]*z, label=r'fit up to $z=0.2$')\n",
    "plt.plot(z, best_params_a3deeper[0] + best_params_a3deeper[1]*z, label='fit up to $z=0.4$')\n",
    "plt.xlim(0,0.41)\n",
    "plt.legend()\n",
    "\n",
    "plt.subplot(1,2,2)\n",
    "plt.plot(z, best_params[2] + best_params[3]*z, label=r'fit up to $z=0.2$')\n",
    "plt.plot(z, best_params_a3deeper[2] + best_params_a3deeper[3]*z, label='fit up to $z=0.4$')\n",
    "plt.xlim(0,0.41)\n",
    "plt.legend()"
   ]
  },
  {
   "cell_type": "code",
   "execution_count": null,
   "id": "4f6a16bb-84bb-4e2a-ab89-f31886fa7d3b",
   "metadata": {},
   "outputs": [],
   "source": [
    "vmax_hist = VmaxDensity(bgs.file, is_bgs_bright=True)"
   ]
  },
  {
   "cell_type": "code",
   "execution_count": null,
   "id": "d36b5d3c-6a76-4b30-ba7a-489a9f114d4d",
   "metadata": {},
   "outputs": [],
   "source": [
    "zmins = np.array([0.01 + 0.04 * i for i in range(4)])\n",
    "zmaxs = np.array([0.05 + 0.04 * i for i in range(4)])\n",
    "\n",
    "x_lin_ext = np.linspace(7, 14, 100)\n",
    "\n",
    "fig = plt.figure(figsize=(15,30))\n",
    "\n",
    "plot_params_ext = {'color': 'orange', 'linestyle':'--', 'linewidth':0.7}\n",
    "plot_params = {'color':'orange', 'linestyle':'-', 'label':'up to 0.2'}\n",
    "\n",
    "plot_params_ext2 = {'color': 'green', 'linestyle':'--', 'linewidth':0.7, 'label':'a3'}\n",
    "plot_params2 = {'color':'green', 'linestyle':'-'}\n",
    "\n",
    "# plot_params_ext3 = {'color': 'red', 'linestyle':'--', 'linewidth':0.7}\n",
    "# plot_params3 = {'color':'red', 'linestyle':'-'}\n",
    "\n",
    "for i, zmin, zmax, z0 in zip(range(9), zmins, zmaxs, zmins + (zmaxs - zmins)/2.):\n",
    "    plt.subplot(5,2,i+1)\n",
    "    h, b, _h, _b = vmax_hist.histogram_norm(zmin, zmax)\n",
    "    z_smf = ZSchechterModel(bgs, zmin, zmax, z0)\n",
    "    \n",
    "    n = z_smf.normalisation(best_params)\n",
    "\n",
    "\n",
    "    x_lin = np.linspace(z_smf.mlim.min(), 14, 100)\n",
    "\n",
    "    plotter04.plot_vmax_hist(h, b, _h, _b, **{'label':f'${zmin:.2f}< z <{zmax:.2f}$'})\n",
    "    Plotter.plot_zschechter(x_lin, z0, n, best_params, **plot_params)\n",
    "    Plotter.plot_zschechter(x_lin_ext, z0, n, best_params, **plot_params_ext)\n",
    "    Plotter.plot_zschechter(x_lin, z0, n, best_params_a3deeper, **plot_params2)\n",
    "    Plotter.plot_zschechter(x_lin_ext, z0, n, best_params_a3deeper, **plot_params_ext2)\n",
    "\n",
    "\n",
    "    # inds = np.random.randint(len(emcee_run.flat_samples), size=100)\n",
    "    # for ind in inds:\n",
    "    #     z_smf_err = ZSchechterModel(bgs, zmin, zmax, z0)\n",
    "    \n",
    "    #     n_err = z_smf_err.normalisation(emcee_run.flat_samples[ind])\n",
    "    #     Plotter.plot_zschechter(x_lin_ext, z0, n_err, emcee_run.flat_samples[ind], **{'alpha':0.2})\n",
    "\n",
    "    \n",
    "    plt.xticks(fontsize=13)\n",
    "    plt.yticks(fontsize=13)\n",
    "    plt.legend(loc='best')\n",
    "plt.show()    "
   ]
  },
  {
   "cell_type": "code",
   "execution_count": null,
   "id": "f26a0d2f-f307-4595-8984-213695250158",
   "metadata": {},
   "outputs": [],
   "source": []
  }
 ],
 "metadata": {
  "kernelspec": {
   "display_name": "Python 3 (ipykernel)",
   "language": "python",
   "name": "python3"
  },
  "language_info": {
   "codemirror_mode": {
    "name": "ipython",
    "version": 3
   },
   "file_extension": ".py",
   "mimetype": "text/x-python",
   "name": "python",
   "nbconvert_exporter": "python",
   "pygments_lexer": "ipython3",
   "version": "3.11.5"
  }
 },
 "nbformat": 4,
 "nbformat_minor": 5
}
