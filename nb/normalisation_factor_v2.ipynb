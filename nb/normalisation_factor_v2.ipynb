{
 "cells": [
  {
   "cell_type": "markdown",
   "id": "c7a861c3-485e-402e-b7c3-ea436fe56605",
   "metadata": {},
   "source": [
    "## Normalisation factor - redshift dependent"
   ]
  },
  {
   "cell_type": "code",
   "execution_count": 1,
   "id": "6a2bcb60",
   "metadata": {
    "tags": []
   },
   "outputs": [],
   "source": [
    "from scipy.optimize import curve_fit, minimize\n",
    "from scipy.interpolate import RegularGridInterpolator\n",
    "from scipy import integrate\n",
    "import emcee\n",
    "import corner\n",
    "import time\n",
    "from multiprocessing import cpu_count, Pool\n",
    "import os\n",
    "import h5py \n",
    "import numpy as np\n",
    "import astropy.table as aTable\n",
    "from astropy.cosmology import Planck13\n",
    "from astropy.cosmology import FlatLambdaCDM\n",
    "\n",
    "import matplotlib as mpl\n",
    "import matplotlib.pyplot as plt\n",
    "\n",
    "# mpl.rcParams['font.family'] = 'serif'\n",
    "mpl.rcParams['axes.linewidth'] = 1.5\n",
    "mpl.rcParams['axes.xmargin'] = 1\n",
    "mpl.rcParams['xtick.labelsize'] = 'x-large'\n",
    "mpl.rcParams['xtick.major.size'] = 5\n",
    "mpl.rcParams['xtick.major.width'] = 1.5\n",
    "mpl.rcParams['ytick.labelsize'] = 'x-large'\n",
    "mpl.rcParams['ytick.major.size'] = 5\n",
    "mpl.rcParams['ytick.major.width'] = 1.5\n",
    "mpl.rcParams['legend.frameon'] = False"
   ]
  },
  {
   "cell_type": "code",
   "execution_count": 2,
   "id": "32305a55",
   "metadata": {
    "tags": []
   },
   "outputs": [],
   "source": [
    "def mass_completeness_limit(z):\n",
    "    f, b, c = [-1.34199453, 13.90578909,  8.53522654]\n",
    "    return 4*np.pi*f*z**2 + b*z + c\n",
    "\n",
    "\n",
    "def zmax_mass_completeness_limit(m):\n",
    "    f, b, c = [-1.34199453, 13.90578909, 8.53522654]\n",
    "\n",
    "    discriminant = -16*np.pi*f*c + 16*np.pi*f*m + b**2\n",
    "    sqrt_discriminant = np.sqrt(discriminant)\n",
    "\n",
    "    z1 = (-b + sqrt_discriminant) / (8 * np.pi * f)\n",
    "    \n",
    "    return z1\n",
    "\n",
    "\n",
    "def region_limits(z_i, m_i):\n",
    "    if m_i > 11.401850153336317:\n",
    "        threshold = 0.4\n",
    "        return np.array([\n",
    "        [0.01, mass_completeness_limit(z_i)],\n",
    "        [z_i, mass_completeness_limit(z_i)],\n",
    "        [threshold, mass_completeness_limit(threshold)],\n",
    "        [threshold, 13.],\n",
    "        [0.01, 13.]])\n",
    "    return np.array([\n",
    "        [0.01, mass_completeness_limit(z_i)],\n",
    "        [z_i, mass_completeness_limit(z_i)],\n",
    "        [zmax_mass_completeness_limit(m_i), m_i],\n",
    "        [zmax_mass_completeness_limit(m_i), 13.],\n",
    "        [0.01, 13]])\n",
    "\n",
    "\n",
    "\n",
    "def integral_limits(z_i, m_i):\n",
    "    \n",
    "    zmax_thr = 0.4\n",
    "    mmax_thr = 13.\n",
    "    m_lim_i = mass_completeness_limit(z_i)\n",
    "    zmax_thr_i = zmax_mass_completeness_limit(mass_completeness_limit(zmax_thr))\n",
    "    \n",
    "    if m_i > 11.401850153336317:\n",
    "        return np.array([\n",
    "            [0.01, z_i],\n",
    "            [m_lim_i, mmax_thr],\n",
    "            [z_i, zmax_thr_i],\n",
    "            [mass_completeness_limit ,mmax_thr]])\n",
    "    \n",
    "    z_max_i = zmax_mass_completeness_limit(m_i)\n",
    "    \n",
    "    return np.array([\n",
    "        [0.01, z_i],\n",
    "        [m_lim_i, mmax_thr],\n",
    "        [z_i, z_max_i],\n",
    "        [mass_completeness_limit, mmax_thr]])\n",
    "\n",
    "    \n",
    "\n",
    "    \n",
    "def smf_single_schechter_sty(x, z, a0, a1, a2, a3):\n",
    "    logM = a0 + a1*z\n",
    "    alpha1 = a2 + a3*z\n",
    "    \n",
    "    term0 = np.exp(-10 ** (x-logM[:,None]))\n",
    "    term1 = 10 ** ((alpha1+1)[:,None]*(x - logM[:,None]))\n",
    "    return term0 * term1\n",
    "\n",
    "\n",
    "\n",
    "def smf_single_schechter_integral(x, z, a0, a1, a2, a3):\n",
    "    logM = a0 + a1*z\n",
    "    alpha1 = a2 + a3*z\n",
    "    term0 = np.exp(-10 ** (x-logM))\n",
    "    term1 = 10 ** ((alpha1+1)*(x - logM))\n",
    "    return term0 * term1\n",
    "\n",
    "\n",
    "\n",
    "def log_likelihood(a0, a1, a2, a3, I, w, z, x):\n",
    "    q = smf_single_schechter_sty(x, z, a0, a1, a2, a3)\n",
    "    a = np.log10(np.sum(q, axis=1)) - np.log10(np.array(I))\n",
    "    return a * w\n",
    "\n",
    "\n",
    "\n",
    "\n",
    "def log_prior(theta):\n",
    "    a0, a1, a2, a3 = theta\n",
    "    if 9.5 < a0 < 13.5 and \\\n",
    "        -4. < a1 < 4. and \\\n",
    "       -2.5 < a2 < -0.5  and \\\n",
    "       1.5 < a3 < 6.:\n",
    "        return 0\n",
    "    return -np.inf\n",
    "\n",
    "\n",
    "\n",
    "# a1, a3 free parameters\n",
    "# def log_prior(theta):\n",
    "#     a0, a1, a2, a3 = theta\n",
    "#     if 9.5 < a0 < 13.5 and \\\n",
    "#        -2.5 < a2 < -0.5:\n",
    "#         return 0\n",
    "#     return -np.inf\n",
    "\n",
    "\n",
    "\n",
    "def posterior(theta, integral_limits_list, w, z, x):\n",
    "    a0, a1, a2, a3 = theta\n",
    "    I = []\n",
    "    for limit in integral_limits_list:\n",
    "        I.append(integral_calculation(limit, a0, a1, a2, a3))\n",
    "        \n",
    "    l = log_likelihood(a0, a1, a2, a3, I, w, z, x)\n",
    "    return log_prior(theta) + np.sum(l)\n",
    "\n",
    "\n",
    "\n",
    "\n",
    "def integral_calculation(limits, a0, a1, a2, a3):\n",
    "    result = 0\n",
    "    result += integrate.dblquad(smf_single_schechter_integral, limits[0][0],\n",
    "                                limits[0][1], limits[1][0], limits[1][1], args=(a0, a1, a2, a3), \n",
    "                                epsabs=1e-3, epsrel=1e-3)[0]\n",
    "    result += integrate.dblquad(smf_single_schechter_integral, limits[2][0],\n",
    "                            limits[2][1], limits[3][0] , limits[3][1], args=(a0, a1, a2, a3), \n",
    "                                epsabs=1e-3, epsrel=1e-3)[0]\n",
    "    \n",
    "    return result\n",
    "\n",
    "\n",
    "\n",
    "\n",
    "def integral_calculation2(a0, a1, a2, a3, m, z):\n",
    "    limits = integral_limits(z, m)\n",
    "    result = 0\n",
    "    result += integrate.dblquad(smf_single_schechter_integral, limits[0][0],\n",
    "                                limits[0][1], limits[1][0], limits[1][1], args=(a0, a1, a2, a3), \n",
    "                                epsabs=1e-3, epsrel=1e-3)[0]\n",
    "    result += integrate.dblquad(smf_single_schechter_integral, limits[2][0],\n",
    "                            limits[2][1], limits[3][0] , limits[3][1], args=(a0, a1, a2, a3), \n",
    "                                epsabs=1e-3, epsrel=1e-3)[0]\n",
    "    \n",
    "    return result\n",
    "\n",
    "\n",
    "\n",
    "\n",
    "def smf_single_schechter_integral_norm(x, z, z0, a0, a1, a2, a3):\n",
    "    logM = a0 + a1*z0\n",
    "    alpha1 = a2 + a3*z0\n",
    "    term0 = np.exp(-10 ** (x-logM))\n",
    "    term1 = 10 ** ((alpha1+1)*(x - logM))\n",
    "    return term0 * term1\n",
    "\n",
    "\n",
    "\n",
    "\n",
    "def integral_calculation_m(m, z, z0, a0, a1, a2, a3):\n",
    "    return integrate.quad(smf_single_schechter_integral_norm, mass_completeness_limit(z), 13., args=(z, z0, a0, a1, a2, a3))[0]\n",
    "\n",
    "                           \n",
    "                           \n",
    "                           \n",
    "\n",
    "def v_tot_z(f_area, z):\n",
    "    v_min = Planck13.comoving_volume(0.01).value * Planck13.h**3 * f_area\n",
    "    v_max = Planck13.comoving_volume(z).value * Planck13.h**3 * f_area\n",
    "    return v_max  - v_min\n",
    "\n",
    "\n",
    "\n",
    "def normalisation(f_area, x, x_median, w_spec, z, z0, best_params):\n",
    "    a0, a1, a2, a3 = best_params\n",
    "    \n",
    "    v_tot = v_tot_z(f_area,z0)\n",
    "    \n",
    "    mask_z = (z < z0)\n",
    "    z_new = z[mask_z]\n",
    "    x_new = x[mask_z]\n",
    "    x_median_new = x_median[mask_z]\n",
    "    w_spec_new = w_spec[mask_z]\n",
    "    \n",
    "    weights = []\n",
    "    \n",
    "    for i in range(x_median_new.shape[0]):\n",
    "        weights.append(w_spec_new[i]/integral_calculation_m(x_median_new[i], z_new[i], z0, a0, a1, a2, a3))\n",
    "        \n",
    "    return (1/v_tot) *np.sum(weights)\n",
    "\n",
    "\n",
    "\n",
    "# def normalisation(f_area, x, x_median, w_spec, z, z0, best_params):\n",
    "#     a0, a1, a2, a3 = best_params\n",
    "    \n",
    "#     v_tot = v_tot_z(f_area,z0)\n",
    "    \n",
    "#     mask_z = (z < z0)\n",
    "#     z_new = z[mask_z]\n",
    "#     x_new = x[mask_z]\n",
    "#     x_median_new = x_median[mask_z]\n",
    "#     w_spec_new = w_spec[mask_z]\n",
    "#     vmax_new = vmax[mask_z]\n",
    "    \n",
    "#     weights = []\n",
    "    \n",
    "#     for i in range(x_median_new.shape[0]):\n",
    "#         weights.append(w_spec_new[i]/integral_calculation2(a0, a1, a2, a3, x_median_new[i], z_new[i]))\n",
    "        \n",
    "#     return (1/v_tot) *np.sum(weights)\n",
    "        \n",
    "    \n",
    "    \n",
    "    \n",
    "\n",
    "# def posterior(theta, Mlim, w, z, x):\n",
    "#     a0, a1, a2, a3 = theta\n",
    "#     I = []\n",
    "#     for i in range(Mlim.shape[0]):\n",
    "#         I.append(integrate.dblquad(smf_single_schechter_integral, 0.01, z[i], Mlim[i], 15., args=(a0, a1, a2, a3))[0])\n",
    "        \n",
    "#     l = log_likelihood(a0, a1, a2, a3, I, w, z, x)\n",
    "#     return log_prior(theta) + np.sum(l)"
   ]
  },
  {
   "cell_type": "code",
   "execution_count": 3,
   "id": "4365d88d-3c3d-4900-b176-7b6ae480d09d",
   "metadata": {
    "tags": []
   },
   "outputs": [],
   "source": [
    "cosmo = FlatLambdaCDM(H0=67.8, Om0=0.307)\n",
    "\n",
    "# Read hdf5 for BGS data\n",
    "bgs = aTable.Table.read('BGS_ANY_full.provabgs.lite.hdf5')\n",
    "is_bgs_bright = bgs['is_bgs_bright']\n",
    "is_bgs_faint = bgs['is_bgs_faint']\n",
    "\n",
    "bgs = bgs[bgs['is_bgs_bright']]\n",
    "\n",
    "# Gathering data\n",
    "# Exluding galaxies for z < 0.01 and z > 0.4 because I don't have the mass completeness limit for those\n",
    "mask_zlim = (bgs['Z_HP'].data > 0.01) & (bgs['Z_HP'].data < 0.4)\n",
    "\n",
    "z_tot = bgs['Z_HP'].data[mask_zlim]\n",
    "x_tot = bgs['provabgs_logMstar'].data[mask_zlim]\n",
    "x_median_tot = np.median(x_tot, axis=1)\n",
    "w_zfail_tot = bgs['provabgs_w_zfail'].data[mask_zlim]\n",
    "w_fib_tot = bgs['provabgs_w_fibassign'].data[mask_zlim]\n",
    "vmax_tot = bgs['Vmax'].data[mask_zlim]\n",
    "\n",
    "\n",
    "mass_comp_lim = mass_completeness_limit(z_tot)\n",
    "mask_mlim = []\n",
    "for i in range(len(x_median_tot)):\n",
    "    mask_mlim.append(x_median_tot[i] > mass_comp_lim[i])\n",
    "    \n",
    "\n",
    "mask = (w_zfail_tot > 0) & (mask_mlim)\n",
    "\n",
    "z = z_tot[mask].astype(np.float32)\n",
    "x = x_tot[mask].astype(np.float32)\n",
    "x_median = x_median_tot[mask].astype(np.float32)\n",
    "w_zfail = w_zfail_tot[mask].astype(np.float32)\n",
    "w_fib = w_fib_tot[mask].astype(np.float32)\n",
    "vmax = vmax_tot[mask].astype(np.float32)\n",
    "\n",
    "\n",
    "f_area = (173.641/(4.*np.pi*(180/np.pi)**2))\n",
    "v_zmin = Planck13.comoving_volume(0.01).value * Planck13.h**3 * f_area # (Mpc/h)^3\n",
    "v_zmax = Planck13.comoving_volume(0.09).value * Planck13.h**3 * f_area # (Mpc/h)^3\n",
    "v_sub = v_zmax - v_zmin\n",
    "\n",
    "\n",
    "# w_spec * 1/Vmax\n",
    "w = (w_zfail*w_fib) * v_sub / (vmax.clip(v_zmin, v_zmax) - v_zmin)\n",
    "n = np.sum(w)/v_sub\n",
    "\n",
    "# Spectroscopic weights\n",
    "w_spec = (w_zfail*w_fib)"
   ]
  },
  {
   "cell_type": "code",
   "execution_count": 4,
   "id": "3e78e42f-19f1-4de5-97bc-e25bd85a5493",
   "metadata": {
    "tags": []
   },
   "outputs": [
    {
     "data": {
      "text/plain": [
       "0.021697444966845558"
      ]
     },
     "execution_count": 4,
     "metadata": {},
     "output_type": "execute_result"
    }
   ],
   "source": [
    "z0 = 0.035\n",
    "# best_params = [10., 3.2, -1.5, 1.5]\n",
    "best_params = [10.13157873,  5.07902063, -1.76807801,  0.02749427]\n",
    "# best_params = [10.29956427,  3.69867378, -1.68922073,  0.02706255]\n",
    "\n",
    "normalisation(f_area, x, x_median, w_spec, z, z0, best_params)"
   ]
  },
  {
   "cell_type": "code",
   "execution_count": 5,
   "id": "79237ea0-197b-4a17-8510-85445809bd25",
   "metadata": {},
   "outputs": [
    {
     "data": {
      "text/plain": [
       "(1.6752611706063938, 5.593748252791242e-09)"
      ]
     },
     "execution_count": 5,
     "metadata": {},
     "output_type": "execute_result"
    }
   ],
   "source": [
    "integrate.quad(smf_single_schechter_integral, mass_completeness_limit(z0), 13., args=(z0, 10., 3.2, -1.5, 1.5))"
   ]
  },
  {
   "cell_type": "markdown",
   "id": "c4282095-0d3f-4e56-9727-d605391e6014",
   "metadata": {},
   "source": [
    "-----\n",
    "-----\n",
    "-----"
   ]
  },
  {
   "cell_type": "code",
   "execution_count": null,
   "id": "9214b71a-a807-4681-98e1-7c6139d3fc7a",
   "metadata": {
    "tags": []
   },
   "outputs": [],
   "source": [
    "mask_z = (z < z0)\n",
    "\n",
    "z_new = z[mask_z]\n",
    "x_new = x[mask_z]\n",
    "x_median_new = x_median[mask_z]\n",
    "w_spec_new = w_spec[mask_z]\n",
    "vmax_new = vmax[mask_z]"
   ]
  },
  {
   "cell_type": "code",
   "execution_count": null,
   "id": "edac32cf-e7db-469b-93d6-e30f041ad851",
   "metadata": {
    "tags": []
   },
   "outputs": [],
   "source": [
    "weights = []\n",
    "a0, a1, a2, a3 = best_params\n",
    "for i in range(x_median_new.shape[0]):\n",
    "    weights.append((vmax_new[i] - v_zmin)*w_spec_new[i]/integral_calculation2(a0, a1, a2, a3, x_median_new[i], z_new[i]))"
   ]
  },
  {
   "cell_type": "code",
   "execution_count": null,
   "id": "39f97467-9370-42be-a9dc-9ad0722e1a19",
   "metadata": {
    "tags": []
   },
   "outputs": [],
   "source": [
    "np.sum(weights)/v_tot_z(f_area, z0)"
   ]
  },
  {
   "cell_type": "raw",
   "id": "2d53739d-8fd6-4b47-8928-f06977e361e4",
   "metadata": {
    "tags": []
   },
   "source": [
    "plt.figure(figsize=(10,10))\n",
    "plt.plot(z, x_median, 'o', markersize=0.2)\n",
    "plt.plot(z_new, x_median_new, 'o', markersize=0.5, label='new')\n",
    "plt.legend(loc='upper right')\n",
    "plt.xlim(0, 0.6)"
   ]
  },
  {
   "cell_type": "code",
   "execution_count": null,
   "id": "c189d254-2ebd-4143-8e16-342e8c995e40",
   "metadata": {
    "tags": []
   },
   "outputs": [],
   "source": [
    "plt.figure(figsize=(10,10))\n",
    "plt.plot(z_tot, x_median_tot, 'o', markersize=0.5)\n",
    "# plt.plot(z_new, x_median_new, 'o', markersize=0.1)\n",
    "plt.xlim(0, 0.6)"
   ]
  },
  {
   "cell_type": "code",
   "execution_count": null,
   "id": "261d14d8-b33b-41b6-abea-5533c0de2a63",
   "metadata": {
    "tags": []
   },
   "outputs": [],
   "source": [
    "z0 = np.linspace(0.02, 0.6, 4)\n",
    "\n",
    "best_params = [10., 3.2, -1.5, 1.5]\n",
    "\n",
    "plt.figure(figsize=(6,6))\n",
    "for z0_i in z0:\n",
    "    plt.plot(z0_i, normalisation(f_area, x, x_median, w_spec, z, z0_i, best_params), 'o')\n"
   ]
  },
  {
   "cell_type": "code",
   "execution_count": null,
   "id": "61ec6808-fe8b-499b-b44d-92b453dd248e",
   "metadata": {
    "tags": []
   },
   "outputs": [],
   "source": [
    "# z0 = 0.2\n",
    "mask_z = (z < z0)"
   ]
  },
  {
   "cell_type": "code",
   "execution_count": null,
   "id": "f76057bc-3ac4-4a3e-9d2a-bfb3cdde3467",
   "metadata": {
    "tags": []
   },
   "outputs": [],
   "source": [
    "a0, a1, a2, a3 = [10., 3.2, -1.5, 1.5]\n",
    "\n",
    "z0 = 0.2\n",
    "v_tot = v_tot_z(f_area,z0)\n",
    "\n",
    "mask_z = (z < z0)\n",
    "z_new = z[mask_z]\n",
    "x_new = x[mask_z]\n",
    "x_median_new = x_median[mask_z]\n",
    "w_spec_new = w_spec[mask_z]\n",
    "\n",
    "weights = []\n",
    "\n",
    "for i in range(x_median_new.shape[0]):\n",
    "    weights.append(w_spec_new[i]/integral_calculation2(a0, a1, a2, a3, x_median_new[i], z_new[i]))\n",
    "\n",
    "(1/v_tot) *np.sum(weights)"
   ]
  },
  {
   "cell_type": "code",
   "execution_count": null,
   "id": "7b004d03-9ec5-4f16-a86d-b0742dda9c1d",
   "metadata": {
    "tags": []
   },
   "outputs": [],
   "source": [
    "integral_calculation2(a0, a1, a2, a3, x_median_new[2], z[2])"
   ]
  },
  {
   "cell_type": "code",
   "execution_count": null,
   "id": "7a284d38-6ec2-4d47-8b4b-87ad2626231e",
   "metadata": {
    "tags": []
   },
   "outputs": [],
   "source": [
    "weights"
   ]
  },
  {
   "cell_type": "code",
   "execution_count": null,
   "id": "c5dc2982-4033-42f4-8be2-837a9d3fe230",
   "metadata": {
    "tags": []
   },
   "outputs": [],
   "source": [
    "z0 = 0.2\n",
    "best_params = [10., 3.2, -1.5, 1.5]\n",
    "normalisation(f_area, x, x_median, w_spec, z, z0, best_params)"
   ]
  },
  {
   "cell_type": "code",
   "execution_count": null,
   "id": "ef10ce15-703c-41cb-8546-27b0d0bb59a8",
   "metadata": {
    "tags": []
   },
   "outputs": [],
   "source": [
    "nn = 10\n",
    "\n",
    "a0_lin = np.linspace(9.5, 13.5, nn)\n",
    "a1_lin = np.linspace(2.5, 6., nn)\n",
    "a2_lin = np.linspace(-2.5, -0.5, nn)\n",
    "a3_lin = np.linspace(0, 3., nn)\n",
    "m_lin = np.linspace(x_median.min(), x_median.max(), nn)\n",
    "z_lin = np.linspace(z.min(), z.max(), nn)"
   ]
  },
  {
   "cell_type": "code",
   "execution_count": null,
   "id": "cfa9915a-66e4-4439-bf3d-3f4c880cfac4",
   "metadata": {
    "tags": []
   },
   "outputs": [],
   "source": [
    "# integral_calculation2(a0_lin[0], a1_lin[0], a2_lin[0], a3_lin[0], z_lin[0], m_lin[0])"
   ]
  },
  {
   "cell_type": "code",
   "execution_count": null,
   "id": "a2a2beb4",
   "metadata": {
    "scrolled": true,
    "tags": []
   },
   "outputs": [],
   "source": [
    "# Create a 10x10x10 cube meshgrid\n",
    "nn = 6\n",
    "\n",
    "a0_lin = np.linspace(9.5, 13.5, nn)\n",
    "a1_lin = np.linspace(2.5, 6., nn)\n",
    "a2_lin = np.linspace(-2.5, -0.5, nn)\n",
    "a3_lin = np.linspace(0, 3., nn)\n",
    "m_lin = np.linspace(x_median.min(), x_median.max(), nn)\n",
    "z_lin = np.linspace(z.min(), z.max(), nn)\n",
    "\n",
    "grid_a0, grid_a1, grid_a2, grid_a3, grid_m, grid_z = np.meshgrid(a0_lin, a1_lin, a2_lin, a3_lin, m_lin, z_lin, indexing='ij')\n",
    "\n",
    "# Define the subgrid size\n",
    "n_division = 2\n",
    "subgrid_size = 3\n",
    "\n",
    "# Divide the cube meshgrid into eight adjacent subgrids\n",
    "subgrids = []\n",
    "\n",
    "for o in range(n_division):\n",
    "    for s in range(n_division):\n",
    "        for q in range(n_division):\n",
    "            for k in range(n_division):\n",
    "                for j in range(n_division):\n",
    "                    for i in range(n_division):\n",
    "                        subgrid_a0 = grid_a0[i*subgrid_size:(i+1)*subgrid_size, j*subgrid_size:(j+1)*subgrid_size, k*subgrid_size:(k+1)*subgrid_size, q*subgrid_size:(q+1)*subgrid_size, s*subgrid_size:(s+1)*subgrid_size, o*subgrid_size:(o+1)*subgrid_size]\n",
    "                        subgrid_a1 = grid_a1[i*subgrid_size:(i+1)*subgrid_size, j*subgrid_size:(j+1)*subgrid_size, k*subgrid_size:(k+1)*subgrid_size, q*subgrid_size:(q+1)*subgrid_size, s*subgrid_size:(s+1)*subgrid_size, o*subgrid_size:(o+1)*subgrid_size]\n",
    "                        subgrid_a2 = grid_a2[i*subgrid_size:(i+1)*subgrid_size, j*subgrid_size:(j+1)*subgrid_size, k*subgrid_size:(k+1)*subgrid_size, q*subgrid_size:(q+1)*subgrid_size, s*subgrid_size:(s+1)*subgrid_size, o*subgrid_size:(o+1)*subgrid_size]\n",
    "                        subgrid_a3 = grid_a3[i*subgrid_size:(i+1)*subgrid_size, j*subgrid_size:(j+1)*subgrid_size, k*subgrid_size:(k+1)*subgrid_size, q*subgrid_size:(q+1)*subgrid_size, s*subgrid_size:(s+1)*subgrid_size, o*subgrid_size:(o+1)*subgrid_size]\n",
    "                        subgrid_m = grid_m[i*subgrid_size:(i+1)*subgrid_size, j*subgrid_size:(j+1)*subgrid_size, k*subgrid_size:(k+1)*subgrid_size, q*subgrid_size:(q+1)*subgrid_size, s*subgrid_size:(s+1)*subgrid_size, o*subgrid_size:(o+1)*subgrid_size]\n",
    "                        subgrid_z = grid_z[i*subgrid_size:(i+1)*subgrid_size, j*subgrid_size:(j+1)*subgrid_size, k*subgrid_size:(k+1)*subgrid_size, q*subgrid_size:(q+1)*subgrid_size, s*subgrid_size:(s+1)*subgrid_size, o*subgrid_size:(o+1)*subgrid_size]\n",
    "                        subgrids.append((subgrid_a0, subgrid_a1, subgrid_a2, subgrid_a3, subgrid_m, subgrid_z))"
   ]
  },
  {
   "cell_type": "code",
   "execution_count": null,
   "id": "2ab9ebe5-0359-4e16-836a-8a4525c88b8c",
   "metadata": {},
   "outputs": [],
   "source": [
    "results = np.zeros((grid_a0.shape[0], grid_a1.shape[1], grid_a2.shape[2], grid_a3.shape[3], grid_m.shape[4], grid_z.shape[5]))\n",
    "\n",
    "for o in range(len(z_lin)):\n",
    "    for s in range(len(m_lin)):\n",
    "        for q in range(len(a3_lin)):\n",
    "            for k in range(len(a2_lin)):\n",
    "                for j in range(len(a1_lin)):\n",
    "                    for i in range(len(a0_lin)):\n",
    "                        results[i,j,k,q,s,o] = integral_calculation2(grid_a0[i,j,k,q,s,o], grid_a1[i,j,k,q,s,o], grid_a2[i,j,k,q,s,o],\n",
    "                                                                     grid_a3[i,j,k,q,s,o], grid_m[i,j,k,q,s,o], grid_z[i,j,k,q,s,o])"
   ]
  },
  {
   "cell_type": "code",
   "execution_count": null,
   "id": "7ffd7dad-9eca-4e72-a709-9dec921f89f1",
   "metadata": {
    "tags": []
   },
   "outputs": [],
   "source": [
    "results_subgrids = []\n",
    "\n",
    "for subgrid in subgrids:\n",
    "    results_subgrid = np.zeros((subgrid[0][0].shape[0], subgrid[0][0].shape[0], subgrid[0][0].shape[0], subgrid[0][0].shape[0], subgrid[0][0].shape[0], subgrid[0][0].shape[0]))\n",
    "    \n",
    "    for o in range(subgrid_size):\n",
    "        for s in range(subgrid_size):\n",
    "            for q in range(subgrid_size):\n",
    "                for k in range(subgrid_size):\n",
    "                    for j in range(subgrid_size):\n",
    "                        for i in range(subgrid_size):\n",
    "                            results_subgrid[i,j,k,q,s,o] = integral_calculation2(subgrid[0][i,j,k,q,s,o], subgrid[1][i,j,k,q,s,o],\n",
    "                                                                                 subgrid[2][i,j,k,q,s,o], subgrid[3][i,j,k,q,s,o],\n",
    "                                                                                 subgrid[4][i,j,k,q,s,o], subgrid[5][i,j,k,q,s,o])\n",
    "\n",
    "    results_subgrids.append(results_subgrid)"
   ]
  },
  {
   "cell_type": "code",
   "execution_count": null,
   "id": "a6cca694-2a36-49bd-b15e-ee14b7e1cc8b",
   "metadata": {
    "tags": []
   },
   "outputs": [],
   "source": [
    "def concatenate_subgrids(subgrids, n_division):\n",
    "    n_subgrids = len(subgrids)\n",
    "    strips_array = []\n",
    "    bases_array = []\n",
    "    bases2_array = []\n",
    "    bases3_array = []\n",
    "    bases4_array = []\n",
    "    \n",
    "    for i in range(0, n_subgrids, n_division):\n",
    "        strips_array.append(np.concatenate((subgrids[i:i + n_division]), axis=0))\n",
    "    \n",
    "        \n",
    "    for j in range(0, len(strips_array)-1, n_division):\n",
    "        bases_array.append(np.concatenate((strips_array[j:j + n_division]), axis=1))\n",
    "        \n",
    "        \n",
    "    for k in range(0, len(bases_array)-1, n_division):\n",
    "        bases2_array.append(np.concatenate((bases_array[k:k + n_division]), axis=2))\n",
    "        \n",
    "        \n",
    "    for a in range(0, len(bases2_array)-1, n_division):\n",
    "        bases3_array.append(np.concatenate((bases2_array[a:a + n_division]), axis=3))\n",
    "    \n",
    "    \n",
    "    for b in range(0, len(bases3_array)-1, n_division):\n",
    "        bases4_array.append(np.concatenate((bases3_array[b:b + n_division]), axis=4))\n",
    "        \n",
    "        \n",
    "    return np.concatenate(bases4_array, axis=5)"
   ]
  },
  {
   "cell_type": "code",
   "execution_count": null,
   "id": "747cd014-967f-4bc8-8ff1-a244a18c2d79",
   "metadata": {},
   "outputs": [],
   "source": [
    "results.shape == concatenate_subgrids(results_subgrids, n_division).shape"
   ]
  },
  {
   "cell_type": "code",
   "execution_count": null,
   "id": "e5f1e8bf-c25f-41fe-8e6a-65a2430f10a4",
   "metadata": {
    "tags": []
   },
   "outputs": [],
   "source": [
    "results == concatenate_subgrids(results_subgrids, n_division)"
   ]
  },
  {
   "cell_type": "code",
   "execution_count": null,
   "id": "a1392777-25e5-4710-8697-0873783de5ee",
   "metadata": {
    "tags": []
   },
   "outputs": [],
   "source": [
    "# results[1][1][1][1] == concatenate_subgrids(results_subgrids, n_division)[1][1][1][1]"
   ]
  },
  {
   "cell_type": "code",
   "execution_count": null,
   "id": "4fbebbcb-bb36-4098-9c3a-a2a3bd491aa7",
   "metadata": {
    "tags": []
   },
   "outputs": [],
   "source": [
    "# results[1][1][1][1], concatenate_subgrids(results_subgrids, n_division)[1][1][1][1]"
   ]
  },
  {
   "cell_type": "code",
   "execution_count": null,
   "id": "dfe8093d-caf2-41b3-a248-8321681752b2",
   "metadata": {
    "tags": []
   },
   "outputs": [],
   "source": [
    "conc = concatenate_subgrids(results_subgrids, n_division)\n",
    "for o in range(results.shape[0]):\n",
    "    for s in range(results.shape[0]):\n",
    "            for q in range(results.shape[0]):\n",
    "                for k in range(results.shape[0]):\n",
    "                    for j in range(results.shape[0]):\n",
    "                        for i in range(results.shape[0]):\n",
    "                            if results[i,j,k,q,s,o] != conc[i,j,k,q,s,o]:\n",
    "                                print(i,j,k,q,s,o)"
   ]
  },
  {
   "cell_type": "code",
   "execution_count": null,
   "id": "213c61a0-f843-4c58-bc5e-91f41d4d0b6a",
   "metadata": {
    "tags": []
   },
   "outputs": [],
   "source": [
    "results[0,5,3,5,0,0]"
   ]
  },
  {
   "cell_type": "code",
   "execution_count": null,
   "id": "05214d17-a3d8-41f3-ade5-f6354f7ce3b1",
   "metadata": {
    "tags": []
   },
   "outputs": [],
   "source": [
    "integral_calculation2(a0_lin[0], a1_lin[5], a2_lin[3], a3_lin[5], m_lin[0], z_lin[0])"
   ]
  },
  {
   "cell_type": "markdown",
   "id": "80390781-acad-44b4-8409-64e63731e356",
   "metadata": {},
   "source": [
    "----\n",
    "----\n",
    "----\n",
    "----"
   ]
  },
  {
   "cell_type": "code",
   "execution_count": null,
   "id": "96fd42d1-6020-4dd3-8dea-4cafaa2da167",
   "metadata": {
    "tags": []
   },
   "outputs": [],
   "source": [
    "r = concatenate_subgrids(results_subgrids, n_division)"
   ]
  },
  {
   "cell_type": "code",
   "execution_count": null,
   "id": "6aa63075-0942-4225-890e-6da35f1aca48",
   "metadata": {
    "tags": []
   },
   "outputs": [],
   "source": [
    "r[9] == results[9]"
   ]
  },
  {
   "cell_type": "code",
   "execution_count": null,
   "id": "f953a3fa-9b57-42dc-86dd-24f87c3f0e3c",
   "metadata": {
    "tags": []
   },
   "outputs": [],
   "source": [
    "strips, bases = concatenate_subgrids(results_subgrids, n_division)"
   ]
  },
  {
   "cell_type": "code",
   "execution_count": null,
   "id": "80e818af-f449-46dc-837f-c67b704b3339",
   "metadata": {
    "tags": []
   },
   "outputs": [],
   "source": [
    "for strip in strips:\n",
    "    print(strip.shape)"
   ]
  },
  {
   "cell_type": "code",
   "execution_count": null,
   "id": "008dac75-2413-4516-9c6a-507343cfaf53",
   "metadata": {
    "tags": []
   },
   "outputs": [],
   "source": [
    "for base in bases:\n",
    "    print(base.shape)"
   ]
  },
  {
   "cell_type": "code",
   "execution_count": null,
   "id": "513c3865-7f6d-4f8f-8a5d-fc0905fa6c26",
   "metadata": {
    "tags": []
   },
   "outputs": [],
   "source": [
    "np.concatenate(bases, axis=2).shape"
   ]
  },
  {
   "cell_type": "code",
   "execution_count": null,
   "id": "3e624bea-4a81-4f2e-a402-15af565ea615",
   "metadata": {
    "tags": []
   },
   "outputs": [],
   "source": [
    "# def concatenate_subgrids(subgrids, nd):\n",
    "#     n_subgrids = len(subgrids)\n",
    "#     strips_array = []\n",
    "#     bases_array = []\n",
    "    \n",
    "\n",
    "#     for i in range(0, n_subgrids-1, 2):\n",
    "#         strips_array.append(np.concatenate((subgrids[i], subgrids[i+1]), axis=0))\n",
    "        \n",
    "#     for j in range(0, len(strips_array)-1, 2):\n",
    "#         bases_array.append(np.concatenate((strips_array[j], strips_array[j+1]), axis=1))\n",
    "\n",
    "        \n",
    "#     return np.concatenate((bases_array[0], bases_array[1]), axis=2)"
   ]
  },
  {
   "cell_type": "code",
   "execution_count": null,
   "id": "701edfbc-5fd8-439d-89b5-00edfdd27b0e",
   "metadata": {
    "tags": []
   },
   "outputs": [],
   "source": [
    "concatenate_subgrids(results_subgrids,3)"
   ]
  },
  {
   "cell_type": "code",
   "execution_count": null,
   "id": "fa5ba9d4-698d-45f8-8f56-9ffc00fe666f",
   "metadata": {
    "tags": []
   },
   "outputs": [],
   "source": [
    "concatenate_subgrids(results_subgrids,3) == results"
   ]
  },
  {
   "cell_type": "code",
   "execution_count": null,
   "id": "c2d9dcea-0bf8-48d0-bdd9-fae7384b5cef",
   "metadata": {
    "tags": []
   },
   "outputs": [],
   "source": [
    "# def concatenate_subgrids(subgrids, nd):\n",
    "#     n_subgrids = len(subgrids)\n",
    "#     strips_array = []\n",
    "#     bases_array = []\n",
    "    \n",
    "\n",
    "#     for i in range(0, n_subgrids-1, 2):\n",
    "#         strips_array.append(np.concatenate((subgrids[i][0], subgrids[i+1][0]), axis=0))\n",
    "        \n",
    "#     for j in range(0, len(strips_array)-1, 2):\n",
    "#         bases_array.append(np.concatenate((strips_array[j], strips_array[j+1]), axis=1))\n",
    "\n",
    "        \n",
    "#     return np.concatenate((bases_array[0], bases_array[1]), axis=2)\n",
    "\n",
    "\n",
    "\n",
    "\n",
    "\n",
    "\n",
    "\n",
    "#     strip1_x = np.concatenate((subgrids[0][0], subgrids[1][0]), axis=0)\n",
    "#     strip2_x = np.concatenate((subgrids[2][0], subgrids[3][0]), axis=0)\n",
    "#     strip3_x = np.concatenate((subgrids[4][0], subgrids[5][0]), axis=0)\n",
    "#     strip4_x = np.concatenate((subgrids[6][0], subgrids[7][0]), axis=0)\n",
    "\n",
    "#     base1_x = np.concatenate((strip1_x, strip2_x), axis=1)\n",
    "#     base2_x = np.concatenate((strip3_x, strip4_x), axis=1)\n",
    "\n",
    "#     full_x = np.concatenate((base1_x, base2_x), axis=2)"
   ]
  },
  {
   "cell_type": "code",
   "execution_count": null,
   "id": "7bd1d899-e7ce-4aff-9a40-1f035e55f1ad",
   "metadata": {},
   "outputs": [],
   "source": []
  },
  {
   "cell_type": "code",
   "execution_count": null,
   "id": "4ca83b72-e1c7-49b4-9932-d7c5fa5b517f",
   "metadata": {
    "tags": []
   },
   "outputs": [],
   "source": [
    "concatenate_subgrids(results_subgrids,3)"
   ]
  },
  {
   "cell_type": "markdown",
   "id": "56ab71c3-573f-444b-8fc4-eefabc100c76",
   "metadata": {},
   "source": [
    "## Re-concatenate grid_X"
   ]
  },
  {
   "cell_type": "code",
   "execution_count": null,
   "id": "87c82db3-3a0e-4959-ab83-ebcab267851f",
   "metadata": {
    "tags": []
   },
   "outputs": [],
   "source": [
    "strip1_x = np.concatenate((subgrids[0][0], subgrids[1][0]), axis=0)\n",
    "strip2_x = np.concatenate((subgrids[2][0], subgrids[3][0]), axis=0)\n",
    "strip3_x = np.concatenate((subgrids[4][0], subgrids[5][0]), axis=0)\n",
    "strip4_x = np.concatenate((subgrids[6][0], subgrids[7][0]), axis=0)\n",
    "\n",
    "base1_x = np.concatenate((strip1_x, strip2_x), axis=1)\n",
    "base2_x = np.concatenate((strip3_x, strip4_x), axis=1)\n",
    "\n",
    "full_x = np.concatenate((base1_x, base2_x), axis=2)"
   ]
  },
  {
   "cell_type": "markdown",
   "id": "2c3ea7da-f4db-4de1-a197-ec09e1be557c",
   "metadata": {},
   "source": [
    "## Re-Concatenate grid_Y"
   ]
  },
  {
   "cell_type": "code",
   "execution_count": null,
   "id": "084df596-2934-4131-96c4-54748e93d77b",
   "metadata": {
    "tags": []
   },
   "outputs": [],
   "source": [
    "strip1_y = np.concatenate((subgrids[0][1], subgrids[1][1]), axis=0)\n",
    "strip2_y = np.concatenate((subgrids[2][1], subgrids[3][1]), axis=0)\n",
    "strip3_y = np.concatenate((subgrids[4][1], subgrids[5][1]), axis=0)\n",
    "strip4_y = np.concatenate((subgrids[6][1], subgrids[7][1]), axis=0)\n",
    "\n",
    "base1_y = np.concatenate((strip1_y, strip2_y), axis=1)\n",
    "base2_y = np.concatenate((strip3_y, strip4_y), axis=1)\n",
    "\n",
    "full_y = np.concatenate((base1_y, base2_y), axis=2)"
   ]
  },
  {
   "cell_type": "markdown",
   "id": "1197d476-36cc-4475-83c3-a16365cf0028",
   "metadata": {},
   "source": [
    "## Re-Concatenate grid_Z"
   ]
  },
  {
   "cell_type": "code",
   "execution_count": null,
   "id": "edb6d69f-323c-4ec5-a010-0205883ed397",
   "metadata": {
    "tags": []
   },
   "outputs": [],
   "source": [
    "strip1_z = np.concatenate((subgrids[0][2], subgrids[1][2]), axis=0)\n",
    "strip2_z = np.concatenate((subgrids[2][2], subgrids[3][2]), axis=0)\n",
    "strip3_z = np.concatenate((subgrids[4][2], subgrids[5][2]), axis=0)\n",
    "strip4_z = np.concatenate((subgrids[6][2], subgrids[7][2]), axis=0)\n",
    "\n",
    "base1_z = np.concatenate((strip1_z, strip2_z), axis=1)\n",
    "base2_z = np.concatenate((strip3_z, strip4_z), axis=1)\n",
    "\n",
    "full_z = np.concatenate((base1_z, base2_z), axis=2)"
   ]
  },
  {
   "cell_type": "code",
   "execution_count": null,
   "id": "a012cff5-fb7c-4f31-8fd7-d150f67ebe63",
   "metadata": {
    "tags": []
   },
   "outputs": [],
   "source": [
    "concatenate_subgrids(subgrids, 3)"
   ]
  },
  {
   "cell_type": "code",
   "execution_count": null,
   "id": "628ccbcf-f1e3-4b27-885e-7cb30924b9df",
   "metadata": {
    "tags": []
   },
   "outputs": [],
   "source": [
    "strips[0]"
   ]
  },
  {
   "cell_type": "code",
   "execution_count": null,
   "id": "799d1086-d55b-4ac5-937f-8811ce0da64a",
   "metadata": {
    "tags": []
   },
   "outputs": [],
   "source": [
    "bases = []\n",
    "for j in range(0, len(strips)-1, 2):\n",
    "    # print(strips[j], strips[j+1])\n",
    "    bases.append(np.concatenate((strips[j], strips[j+1]), axis=1))\n",
    "    # print(j, j+1)"
   ]
  },
  {
   "cell_type": "code",
   "execution_count": null,
   "id": "2caf9db9-6330-43fc-bd8b-8a61d04a7d8a",
   "metadata": {
    "tags": []
   },
   "outputs": [],
   "source": [
    "np.concatenate((bases[0], bases[0]), axis=2)"
   ]
  },
  {
   "cell_type": "code",
   "execution_count": null,
   "id": "f3f9b913-4fcb-4489-8e41-e47cb7134b15",
   "metadata": {
    "tags": []
   },
   "outputs": [],
   "source": [
    "for i in range(0, 7-1, 2):\n",
    "    print(i)"
   ]
  },
  {
   "cell_type": "code",
   "execution_count": null,
   "id": "7abb82b0-2716-4549-9b39-9f83ea401d0e",
   "metadata": {
    "tags": []
   },
   "outputs": [],
   "source": [
    "strips_array = np.ndarray([], dtype=object)"
   ]
  },
  {
   "cell_type": "code",
   "execution_count": null,
   "id": "34b41ddb-20e4-42cd-8f2e-fc0bed06e9a2",
   "metadata": {
    "tags": []
   },
   "outputs": [],
   "source": [
    "np.append(strips_array, [strip1_x])"
   ]
  },
  {
   "cell_type": "code",
   "execution_count": null,
   "id": "fd929eca-0c57-4277-a934-90592114f0ef",
   "metadata": {
    "tags": []
   },
   "outputs": [],
   "source": [
    "full_x.shape == grid_x.shape, full_y.shape == grid_y.shape, full_z.shape == grid_z.shape"
   ]
  },
  {
   "cell_type": "code",
   "execution_count": null,
   "id": "46e3e999-115a-4d20-bfa8-75b42dc41714",
   "metadata": {
    "tags": []
   },
   "outputs": [],
   "source": [
    "full_x == grid_x, full_y == grid_y, full_z == grid_z"
   ]
  },
  {
   "cell_type": "code",
   "execution_count": null,
   "id": "b7c2bbb9-f6e7-466e-a372-47546c9ed921",
   "metadata": {
    "tags": []
   },
   "outputs": [],
   "source": []
  },
  {
   "cell_type": "code",
   "execution_count": null,
   "id": "59377f48-d4eb-4b51-8637-2434eef76f1c",
   "metadata": {
    "tags": []
   },
   "outputs": [],
   "source": [
    "grid_y.shape == full_y.shape"
   ]
  },
  {
   "cell_type": "code",
   "execution_count": null,
   "id": "3f04a237-b82d-4eac-b397-705783a7f206",
   "metadata": {
    "tags": []
   },
   "outputs": [],
   "source": [
    "grid_y == full_y"
   ]
  },
  {
   "cell_type": "markdown",
   "id": "0a43d03e-d637-49a7-b58f-b2582d248cce",
   "metadata": {},
   "source": [
    "-----\n",
    "-----"
   ]
  },
  {
   "cell_type": "code",
   "execution_count": null,
   "id": "9bb17399-0656-4725-a353-293bee01892f",
   "metadata": {
    "tags": []
   },
   "outputs": [],
   "source": [
    "strip1 = np.concatenate((subgrids[0][0], subgrids[1]), axis=0)\n",
    "\n",
    "strip2 = np.concatenate((subgrids[2], subgrids[3]), axis=0)\n",
    "\n",
    "strip3 = np.concatenate((subgrids[4], subgrids[5]), axis=0)\n",
    "\n",
    "strip4 = np.concatenate((subgrids[6], subgrids[7]), axis=0)\n",
    "\n",
    "base1 = np.concatenate((strip1, strip2), axis=2)\n",
    "\n",
    "base2 = np.concatenate((strip3, strip4), axis=2)\n",
    "\n",
    "full = np.concatenate((base1, base2), axis=3)"
   ]
  },
  {
   "cell_type": "code",
   "execution_count": null,
   "id": "e4d02178-7164-4eb6-b6e0-7488af5220e0",
   "metadata": {},
   "outputs": [],
   "source": []
  },
  {
   "cell_type": "code",
   "execution_count": null,
   "id": "ea4a9e79-2ce1-4a8f-bcb4-227dca88d312",
   "metadata": {
    "tags": []
   },
   "outputs": [],
   "source": [
    "# for n, subgrid in enumerate(subgrids):\n",
    "#     print(f\"Subgrid {n+1}\")\n",
    "#     for k in range(2):\n",
    "#         for j in range(2):\n",
    "#             for i in range(2):\n",
    "                \n",
    "#                 print(subgrid[0][i,j,k], subgrid[1][i,j,k], subgrid[2][i,j,k])\n",
    "#                 print()\n",
    "                "
   ]
  },
  {
   "cell_type": "code",
   "execution_count": null,
   "id": "1c431b57-dbb6-44a0-8369-cc5e067a2c4c",
   "metadata": {
    "tags": []
   },
   "outputs": [],
   "source": [
    "grid_x_concat = np.concatenate([subgrid[0] for subgrid in subgrids], axis=0)\n",
    "grid_y_concat = np.concatenate([subgrid[1] for subgrid in subgrids], axis=0)\n",
    "grid_z_concat = np.concatenate([subgrid[2] for subgrid in subgrids], axis=0)\n",
    "\n",
    "# Print the concatenated grid shapes\n",
    "print(\"Concatenated grid x shape:\", grid_x_concat.shape)\n",
    "print(\"Concatenated grid y shape:\", grid_y_concat.shape)\n",
    "print(\"Concatenated grid z shape:\", grid_z_concat.shape)"
   ]
  },
  {
   "cell_type": "code",
   "execution_count": null,
   "id": "3f59342b-a82c-4d0f-b891-a925e5cc67c6",
   "metadata": {
    "tags": []
   },
   "outputs": [],
   "source": [
    "grid_x_concat"
   ]
  },
  {
   "cell_type": "code",
   "execution_count": null,
   "id": "96290e91-1eed-4d91-a267-bb2af01063b2",
   "metadata": {
    "tags": []
   },
   "outputs": [],
   "source": [
    "subgrids[0]"
   ]
  },
  {
   "cell_type": "code",
   "execution_count": null,
   "id": "ea7e383d-c40c-414d-8cc6-c2cc6bfe0112",
   "metadata": {
    "tags": []
   },
   "outputs": [],
   "source": [
    "\n",
    "for n, subgrid in enumerate(subgrids):\n",
    "    print(f\"Subgrid {n+1}\")\n",
    "    for k in range(2):\n",
    "        for j in range(2):\n",
    "            for i in range(2):\n",
    "                \n",
    "                print(subgrid[0][i,j,k], subgrid[1][i,j,k], subgrid[2][i,j,k])\n",
    "                print()\n",
    "                "
   ]
  },
  {
   "cell_type": "code",
   "execution_count": null,
   "id": "ac49d5ce-5ce3-42e1-a087-87a46bca6535",
   "metadata": {
    "tags": []
   },
   "outputs": [],
   "source": [
    "concatenated_grid_x = np.concatenate([subgrid[0] for subgrid in subgrids], axis=0)\n",
    "concatenated_grid_y = np.concatenate([subgrid[1] for subgrid in subgrids], axis=0)\n",
    "concatenated_grid_z = np.concatenate([subgrid[2] for subgrid in subgrids], axis=0)"
   ]
  },
  {
   "cell_type": "code",
   "execution_count": null,
   "id": "34c38a7d-b286-49ec-84aa-0a462b268227",
   "metadata": {
    "tags": []
   },
   "outputs": [],
   "source": [
    "concatenated_grid_x"
   ]
  },
  {
   "cell_type": "code",
   "execution_count": null,
   "id": "8c8367a4-2bfc-461d-9cf7-ea5413223f0b",
   "metadata": {
    "tags": []
   },
   "outputs": [],
   "source": [
    "grid_x"
   ]
  },
  {
   "cell_type": "code",
   "execution_count": null,
   "id": "9ab6c4f8-d775-45f8-86c9-b3a4395d2118",
   "metadata": {
    "tags": []
   },
   "outputs": [],
   "source": [
    "strip1.shape, strip2.shape, strip3.shape, strip4.shape, base1.shape, base2.shape, full.shape"
   ]
  },
  {
   "cell_type": "code",
   "execution_count": null,
   "id": "f54ec542-3e44-4092-9c10-b9d3cbe1e79f",
   "metadata": {
    "tags": []
   },
   "outputs": [],
   "source": [
    "subgrids[0][0]"
   ]
  },
  {
   "cell_type": "code",
   "execution_count": null,
   "id": "88c8e7a5-8544-4775-89f6-b713e764bfea",
   "metadata": {
    "tags": []
   },
   "outputs": [],
   "source": [
    "for k in range(4):\n",
    "        for j in range(4):\n",
    "            for i in range(4):\n",
    "                \n",
    "                print(full[i,j,k], full[i,j,k], full[i,j,k])"
   ]
  },
  {
   "cell_type": "code",
   "execution_count": null,
   "id": "7f7109ea-aa67-4700-8ed2-399295f08919",
   "metadata": {
    "tags": []
   },
   "outputs": [],
   "source": [
    "full"
   ]
  },
  {
   "cell_type": "code",
   "execution_count": null,
   "id": "614fc5b4-0013-476d-b217-f1c6744ed26a",
   "metadata": {
    "tags": []
   },
   "outputs": [],
   "source": [
    "grid_x, grid_y, grid_z"
   ]
  },
  {
   "cell_type": "code",
   "execution_count": null,
   "id": "f90dbaad-3665-4bd1-8274-494f812e96a6",
   "metadata": {
    "tags": []
   },
   "outputs": [],
   "source": [
    "subgrids[0]"
   ]
  },
  {
   "cell_type": "code",
   "execution_count": null,
   "id": "8ad4cf98-b708-41db-8932-c98ea4cb6107",
   "metadata": {
    "tags": []
   },
   "outputs": [],
   "source": [
    "subgrids[0]"
   ]
  },
  {
   "cell_type": "code",
   "execution_count": null,
   "id": "deb2fa37-b31c-481a-8148-0f6283178131",
   "metadata": {
    "tags": []
   },
   "outputs": [],
   "source": [
    "grid_y"
   ]
  },
  {
   "cell_type": "code",
   "execution_count": null,
   "id": "28823852-529f-4087-b24e-961811094b0f",
   "metadata": {
    "tags": []
   },
   "outputs": [],
   "source": [
    "grid_z"
   ]
  },
  {
   "cell_type": "code",
   "execution_count": null,
   "id": "937a8975",
   "metadata": {},
   "outputs": [],
   "source": [
    "subresults = []\n",
    "\n",
    "for subgrid in subgrids:\n",
    "    subresult = np.zeros((2,2,2))\n",
    "    for i in range(2):\n",
    "        for j in range(2):\n",
    "            for k in range(2):\n",
    "#                 print('(',subgrid[0][i,j,k] + subgrid[1][i,j,k] + subgrid[2][i,j,k],')')\n",
    "                subresult[i,j,k] = subgrid[0][i,j,k] + subgrid[1][i,j,k] + subgrid[2][i,j,k]\n",
    "    subresults.append(subresult)"
   ]
  },
  {
   "cell_type": "code",
   "execution_count": null,
   "id": "935269b1",
   "metadata": {},
   "outputs": [],
   "source": [
    "subresults"
   ]
  },
  {
   "cell_type": "code",
   "execution_count": null,
   "id": "6f04a928",
   "metadata": {},
   "outputs": [],
   "source": [
    "for subgrid in subgrids:\n",
    "    for i in range(2):\n",
    "        for j in range(2):\n",
    "            for k in range(2):\n",
    "                print('(',subgrid[0][i,j,k] + subgrid[1][i,j,k] + subgrid[2][i,j,k],')')"
   ]
  },
  {
   "cell_type": "code",
   "execution_count": null,
   "id": "bcfc2993",
   "metadata": {},
   "outputs": [],
   "source": []
  },
  {
   "cell_type": "code",
   "execution_count": null,
   "id": "2e77457f",
   "metadata": {},
   "outputs": [],
   "source": [
    "# Define the submatrix size\n",
    "submatrix_size = 4\n",
    "\n",
    "# Divide the matrix into four adjacent 5x5 matrices\n",
    "submatrices = []\n",
    "for i in range(2):\n",
    "    for j in range(2):\n",
    "        submatrix = matrix[i*submatrix_size : (i+1)*submatrix_size, j*submatrix_size : (j+1)*submatrix_size]\n",
    "        submatrices.append(submatrix)\n",
    "\n",
    "# Print the submatrices\n",
    "print(matrix)\n",
    "for i, submatrix in enumerate(submatrices):\n",
    "    print(f\"Submatrix {i+1}:\")\n",
    "    print(submatrix)\n",
    "    print()"
   ]
  },
  {
   "cell_type": "code",
   "execution_count": null,
   "id": "bf9e1bcf",
   "metadata": {},
   "outputs": [],
   "source": [
    "x = np.linspace(1,16,16)\n",
    "y = np.linspace(1,16,16)\n",
    "\n",
    "\n",
    "xx0, yy0 = np.meshgrid(x[0:4],y[0:4], indexing='ij')\n",
    "xx1, yy1 = np.meshgrid(x[4:8],y[4:8], indexing='ij')\n",
    "xx2, yy2 = np.meshgrid(x[8:12],y[8:12], indexing='ij')\n",
    "xx3, yy2 = np.meshgrid(x[12:16],y[12:16], indexing='ij')"
   ]
  },
  {
   "cell_type": "code",
   "execution_count": null,
   "id": "33d1ced4",
   "metadata": {},
   "outputs": [],
   "source": [
    "results0 = np.zeros((xx0.shape[0], yy0.shape[0]))\n",
    "for i in range(xx0.shape[0]):\n",
    "    for j in range(yy0.shape[0]):\n",
    "        results0[i,j] = xx0[i,j] * yy0[i,j]"
   ]
  },
  {
   "cell_type": "code",
   "execution_count": null,
   "id": "2ded5a2b",
   "metadata": {},
   "outputs": [],
   "source": [
    "results0"
   ]
  },
  {
   "cell_type": "code",
   "execution_count": null,
   "id": "6e047817",
   "metadata": {},
   "outputs": [],
   "source": [
    "results1 = np.zeros((xx0.shape[0], yy0.shape[0]))\n",
    "for i in range(xx0.shape[0]):\n",
    "    for j in range(yy0.shape[0]):\n",
    "        results1[i,j] = xx0[i,j] * yy1[i,j]"
   ]
  },
  {
   "cell_type": "code",
   "execution_count": null,
   "id": "c68e7a13",
   "metadata": {},
   "outputs": [],
   "source": [
    "results1"
   ]
  },
  {
   "cell_type": "code",
   "execution_count": null,
   "id": "31b1c837",
   "metadata": {},
   "outputs": [],
   "source": [
    "np.concatenate((results0, results1), axis=1)"
   ]
  },
  {
   "cell_type": "code",
   "execution_count": null,
   "id": "4f7bb481",
   "metadata": {},
   "outputs": [],
   "source": [
    "results2 = np.zeros((xx0.shape[0], yy0.shape[0]))\n",
    "for i in range(xx0.shape[0]):\n",
    "    for j in range(yy0.shape[0]):\n",
    "        results2[i,j] = xx1[i,j] * yy0[i,j]"
   ]
  },
  {
   "cell_type": "code",
   "execution_count": null,
   "id": "a5d02393",
   "metadata": {},
   "outputs": [],
   "source": [
    "results2"
   ]
  },
  {
   "cell_type": "code",
   "execution_count": null,
   "id": "76e01749",
   "metadata": {},
   "outputs": [],
   "source": [
    "import numpy as np\n",
    "\n",
    "# Create a 10x10 matrix\n",
    "matrix = np.arange(1000).reshape(10, 10, 10)\n",
    "\n",
    "print(matrix)\n",
    "# # Define the submatrix size\n",
    "# submatrix_size = 2\n",
    "\n",
    "# # Divide the matrix into four adjacent 5x5 matrices\n",
    "# submatrices = []\n",
    "# for i in range(5):\n",
    "#     for j in range(5):\n",
    "#         submatrix = matrix[i*submatrix_size : (i+1)*submatrix_size, j*submatrix_size : (j+1)*submatrix_size]\n",
    "#         submatrices.append(submatrix)\n",
    "\n",
    "# # Print the submatrices\n",
    "# print(matrix)\n",
    "# for i, submatrix in enumerate(submatrices):\n",
    "#     print(f\"Submatrix {i+1}:\")\n",
    "#     print(submatrix)\n",
    "#     print()\n"
   ]
  },
  {
   "cell_type": "code",
   "execution_count": null,
   "id": "273b4def",
   "metadata": {},
   "outputs": [],
   "source": [
    "import numpy as np\n",
    "\n",
    "# Create a 10x10 matrix\n",
    "matrix = np.arange(100).reshape(10, 10)\n",
    "\n",
    "# Define the submatrix size\n",
    "submatrix_size = 2\n",
    "\n",
    "# Divide the matrix into four adjacent 5x5 matrices\n",
    "submatrices = []\n",
    "for i in range(5):\n",
    "    for j in range(5):\n",
    "        submatrix = matrix[i*submatrix_size : (i+1)*submatrix_size, j*submatrix_size : (j+1)*submatrix_size]\n",
    "        submatrices.append(submatrix)\n",
    "\n",
    "# Print the submatrices\n",
    "print(matrix)\n",
    "for i, submatrix in enumerate(submatrices):\n",
    "    print(f\"Submatrix {i+1}:\")\n",
    "    print(submatrix)\n",
    "    print()\n"
   ]
  },
  {
   "cell_type": "code",
   "execution_count": null,
   "id": "1a2fff1e",
   "metadata": {},
   "outputs": [],
   "source": [
    "c = np.concatenate((results0, results1), axis=1)\n",
    "np.concatenate((c, results2), axis=0)"
   ]
  },
  {
   "cell_type": "code",
   "execution_count": null,
   "id": "0344dfef",
   "metadata": {},
   "outputs": [],
   "source": [
    "for i in range(xx.shape[0]):\n",
    "    for j in range(yy.shape[0]):\n",
    "        for k in range(zz.shape[0]):\n",
    "            print(xx[i,j,k], yy[i,j,k], zz[i,j,k])"
   ]
  },
  {
   "cell_type": "code",
   "execution_count": null,
   "id": "f5d34d1f",
   "metadata": {},
   "outputs": [],
   "source": [
    "# Define cosmology\n",
    "cosmo = FlatLambdaCDM(H0=67.8, Om0=0.307)\n",
    "\n",
    "# Read hdf5 for BGS data\n",
    "bgs = aTable.Table.read('BGS_ANY_full.provabgs.lite.hdf5')\n",
    "is_bgs_bright = bgs['is_bgs_bright']\n",
    "is_bgs_faint = bgs['is_bgs_faint']\n",
    "\n",
    "bgs = bgs[bgs['is_bgs_bright']]\n",
    "\n",
    "mask_zlim = (bgs['Z_HP'].data > 0.01)\n",
    "\n",
    "z_tot = bgs['Z_HP'].data[mask_zlim]\n",
    "x_tot = bgs['provabgs_logMstar'].data[mask_zlim]\n",
    "x_median_tot = np.median(x_tot, axis=1)\n",
    "w_zfail_tot = bgs['provabgs_w_zfail'].data[mask_zlim]\n",
    "w_fib_tot = bgs['provabgs_w_fibassign'].data[mask_zlim]\n",
    "vmax_tot = bgs['Vmax'].data[mask_zlim]\n",
    "\n",
    "mask_mlim = []\n",
    "for i in range(len(x_median_tot)):\n",
    "    mask_mlim.append(x_median_tot[i] > mass_completeness_limit(z_tot[i]))\n",
    "    \n",
    "\n",
    "mask = (w_zfail_tot > 0) & (mask_mlim) & (z_tot<0.4)\n",
    "\n",
    "z = z_tot[mask].astype(np.float32)\n",
    "x = x_tot[mask].astype(np.float32)\n",
    "x_median = x_median_tot[mask].astype(np.float32)\n",
    "w_zfail = w_zfail_tot[mask].astype(np.float32)\n",
    "w_fib = w_fib_tot[mask].astype(np.float32)\n",
    "vmax = vmax_tot[mask].astype(np.float32)\n",
    "\n",
    "# Spectroscopic weights\n",
    "w_spec = (w_zfail*w_fib)\n",
    "\n",
    "# integral_limits_list = []\n",
    "# for z_i, m_i in zip(z, x_median):\n",
    "#     integral_limits_list.append(integral_limits(z_i, m_i))"
   ]
  },
  {
   "cell_type": "code",
   "execution_count": null,
   "id": "4947b65b",
   "metadata": {},
   "outputs": [],
   "source": [
    "nn = 4\n",
    "\n",
    "a0_lin = np.linspace(9.5, 13., nn)\n",
    "a1_lin = np.linspace(2.5, 6., nn)\n",
    "a2_lin = np.linspace(-2.5, -0.5, nn)\n",
    "a3_lin = np.linspace(0, 3., nn)\n",
    "m_lin = np.linspace(x_median.min(), x_median.max(), nn)\n",
    "z_lin = np.linspace(z.min(), z.max(), nn)"
   ]
  },
  {
   "cell_type": "code",
   "execution_count": null,
   "id": "c95f913c",
   "metadata": {},
   "outputs": [],
   "source": [
    "a0_g, a1_g, a2_g, a3_g, m_g, z_g = np.meshgrid(a0_lin[0:2], a1_lin[0:2], \n",
    "                                               a2_lin[0:2], a3_lin[0:2], m_lin[0:2], z_lin[0:2],\n",
    "                                               indexing='ij')\n",
    "\n",
    "box1 = np.zeros((a0_g.shape[0], a0_g.shape[1], a0_g.shape[2], a0_g.shape[3],\n",
    "                a0_g.shape[0], a0_g.shape[1]))\n",
    "\n",
    "for i in range(a0_g.shape[0]):\n",
    "    for j in range(a1_g.shape[1]):\n",
    "        for k in range(a2_g.shape[2]):\n",
    "            for l in range(a3_g.shape[3]):\n",
    "                for q in range(m_g.shape[0]):\n",
    "                    for t in range(z_g.shape[0]):\n",
    "\n",
    "                        int_lim_gt = integral_limits(z_g[i, j, k, l, q, t], m_g[i, j, k, l, q, t])\n",
    "\n",
    "                        result = integral_calculation(int_lim_gt, a0_g[i, j, k, l, q, t], a1_g[i, j, k, l, q, t],\n",
    "                                                      a2_g[i, j, k, l, q, t], a3_g[i, j, k, l, q, t])\n",
    "\n",
    "                        box1[i, j, k, l, q, t] = result\n"
   ]
  },
  {
   "cell_type": "code",
   "execution_count": null,
   "id": "2de9dcc8",
   "metadata": {},
   "outputs": [],
   "source": [
    "# a0_lin,a0_lin[0:2]"
   ]
  },
  {
   "cell_type": "code",
   "execution_count": null,
   "id": "75145b6c",
   "metadata": {},
   "outputs": [],
   "source": [
    "# for i in range(a0_lin.shape[0]-1):\n",
    "#     print(a0_lin[i:i+2])"
   ]
  },
  {
   "cell_type": "code",
   "execution_count": null,
   "id": "81c8f123",
   "metadata": {},
   "outputs": [],
   "source": [
    "a0_g, a1_g, a2_g, a3_g, m_g, z_g = np.meshgrid(a0_lin[2:4], a1_lin[2:4], \n",
    "                                               a2_lin[2:4], a3_lin[2:4], m_lin[2:4], z_lin[2:4],\n",
    "                                               indexing='ij')\n",
    "\n",
    "box2 = np.zeros((a0_g.shape[0], a0_g.shape[1], a0_g.shape[2], a0_g.shape[3],\n",
    "                a0_g.shape[0], a0_g.shape[1]))\n",
    "\n",
    "for i in range(a0_g.shape[0]):\n",
    "    for j in range(a1_g.shape[1]):\n",
    "        for k in range(a2_g.shape[2]):\n",
    "            for l in range(a3_g.shape[3]):\n",
    "                for q in range(m_g.shape[0]):\n",
    "                    for t in range(z_g.shape[0]):\n",
    "\n",
    "                        int_lim_gt = integral_limits(z_g[i, j, k, l, q, t], m_g[i, j, k, l, q, t])\n",
    "\n",
    "                        result = integral_calculation(int_lim_gt, a0_g[i, j, k, l, q, t], a1_g[i, j, k, l, q, t],\n",
    "                                                      a2_g[i, j, k, l, q, t], a3_g[i, j, k, l, q, t])\n",
    "\n",
    "                        box2[i, j, k, l, q, t] = result\n"
   ]
  },
  {
   "cell_type": "code",
   "execution_count": null,
   "id": "d582d396",
   "metadata": {},
   "outputs": [],
   "source": [
    "a0_g, a1_g, a2_g, a3_g, m_g, z_g = np.meshgrid(a0_lin, a1_lin, \n",
    "                                               a2_lin, a3_lin, m_lin, z_lin,\n",
    "                                               indexing='ij')\n",
    "\n",
    "results = np.zeros((a0_g.shape[0], a0_g.shape[1], a0_g.shape[2], a0_g.shape[3],\n",
    "                a0_g.shape[0], a0_g.shape[1]))\n",
    "\n",
    "\n",
    "for i in range(a0_g.shape[0]):\n",
    "    for j in range(a1_g.shape[1]):\n",
    "        for k in range(a2_g.shape[2]):\n",
    "            for l in range(a3_g.shape[3]):\n",
    "                for q in range(m_g.shape[0]):\n",
    "                    for t in range(z_g.shape[0]):\n",
    "\n",
    "                        int_lim_gt = integral_limits(z_g[i, j, k, l, q, t], m_g[i, j, k, l, q, t])\n",
    "\n",
    "                        result = integral_calculation(int_lim_gt, a0_g[i, j, k, l, q, t], a1_g[i, j, k, l, q, t],\n",
    "                                                      a2_g[i, j, k, l, q, t], a3_g[i, j, k, l, q, t])\n",
    "\n",
    "                        results[i, j, k, l, q, t] = result"
   ]
  },
  {
   "cell_type": "code",
   "execution_count": null,
   "id": "3dca5433",
   "metadata": {},
   "outputs": [],
   "source": []
  },
  {
   "cell_type": "code",
   "execution_count": null,
   "id": "63552abe",
   "metadata": {
    "scrolled": true
   },
   "outputs": [],
   "source": [
    "box1"
   ]
  },
  {
   "cell_type": "code",
   "execution_count": null,
   "id": "9e5f5ead",
   "metadata": {
    "scrolled": true
   },
   "outputs": [],
   "source": [
    "box2"
   ]
  },
  {
   "cell_type": "code",
   "execution_count": null,
   "id": "277dc35c",
   "metadata": {},
   "outputs": [],
   "source": [
    "np.concatenate((box1, box2), axis=0)"
   ]
  },
  {
   "cell_type": "code",
   "execution_count": null,
   "id": "3975c69e",
   "metadata": {},
   "outputs": [],
   "source": [
    "box_tot = np.concatenate((box1, box2), axis=2)\n",
    "box_tot = np.concatenate((box_tot, box_tot), axis=1)\n",
    "box_tot = np.concatenate((box_tot, box_tot), axis=4)\n",
    "box_tot = np.concatenate((box_tot, box_tot), axis=3)\n",
    "box_tot = np.concatenate((box_tot, box_tot), axis=5)\n",
    "box_tot = np.concatenate((box_tot, box_tot), axis=0)"
   ]
  },
  {
   "cell_type": "code",
   "execution_count": null,
   "id": "154b885b",
   "metadata": {},
   "outputs": [],
   "source": [
    "box_tot.shape"
   ]
  },
  {
   "cell_type": "code",
   "execution_count": null,
   "id": "1b5f7c87",
   "metadata": {},
   "outputs": [],
   "source": [
    "box_tot == results"
   ]
  },
  {
   "cell_type": "code",
   "execution_count": null,
   "id": "de6f8617",
   "metadata": {},
   "outputs": [],
   "source": [
    "box_tot"
   ]
  },
  {
   "cell_type": "code",
   "execution_count": null,
   "id": "0656db13",
   "metadata": {},
   "outputs": [],
   "source": [
    "results"
   ]
  },
  {
   "cell_type": "code",
   "execution_count": null,
   "id": "221e6ffb",
   "metadata": {},
   "outputs": [],
   "source": [
    "for b in range(int(nn/2)):\n",
    "    a0_g, a1_g, a2_g, a3_g, m_g, z_g = np.meshgrid(a0_lin[b::2], a1_lin[b::2], \n",
    "                                                   a2_lin[b::2], a3_lin[b::2], m_lin[b::2], z_lin[b::2],\n",
    "                                                   indexing='ij')\n",
    "    \n",
    "    results = np.zeros((a0_g.shape[0], a0_g.shape[1], a0_g.shape[2], a0_g.shape[3],\n",
    "                    a0_g.shape[0], a0_g.shape[1]))\n",
    "    \n",
    "    boxes = [np.zeros((a0_g.shape[0], a0_g.shape[1], a0_g.shape[2], a0_g.shape[3],\n",
    "                    a0_g.shape[0], a0_g.shape[1])), np.zeros((a0_g.shape[0], a0_g.shape[1], a0_g.shape[2], a0_g.shape[3],\n",
    "                    a0_g.shape[0], a0_g.shape[1]))]\n",
    "    \n",
    "    for i in range(a0_g.shape[0]):\n",
    "        for j in range(a1_g.shape[1]):\n",
    "            for k in range(a2_g.shape[2]):\n",
    "                for l in range(a3_g.shape[3]):\n",
    "                    for q in range(m_g.shape[0]):\n",
    "                        for t in range(z_g.shape[0]):\n",
    "\n",
    "                            int_lim_gt = integral_limits(z_g[i, j, k, l, q, t], m_g[i, j, k, l, q, t])\n",
    "\n",
    "                            result = integral_calculation(int_lim_gt, a0_g[i, j, k, l, q, t], a1_g[i, j, k, l, q, t],\n",
    "                                                          a2_g[i, j, k, l, q, t], a3_g[i, j, k, l, q, t])\n",
    "\n",
    "                            results[i, j, k, l, q, t] = result\n",
    "        \n",
    "        boxes[i] = results"
   ]
  },
  {
   "cell_type": "code",
   "execution_count": null,
   "id": "abcdc160",
   "metadata": {},
   "outputs": [],
   "source": [
    "boxes[1] == boxes[0]"
   ]
  },
  {
   "cell_type": "code",
   "execution_count": null,
   "id": "67df2037",
   "metadata": {},
   "outputs": [],
   "source": [
    "a0_g, a1_g, a2_g, a3_g, m_g, z_g = np.meshgrid(a0_lin, a1_lin, a2_lin, a3_lin, m_lin, z_lin, indexing='ij')\n",
    "\n",
    "results = np.zeros((a0_g.shape[0], a0_g.shape[1], a0_g.shape[2], a0_g.shape[3],\n",
    "                    a0_g.shape[0], a0_g.shape[1]))\n",
    "\n",
    "for i in range(a0_g.shape[0]):\n",
    "    for j in range(a1_g.shape[1]):\n",
    "        for k in range(a2_g.shape[2]):\n",
    "            for l in range(a3_g.shape[3]):\n",
    "                for q in range(m_g.shape[0]):\n",
    "                    for t in range(z_g.shape[0]):\n",
    "\n",
    "                        int_lim_gt = integral_limits(z_g[i, j, k, l, q, t], m_g[i, j, k, l, q, t])\n",
    "\n",
    "                        result = integral_calculation(int_lim_gt, a0_g[i, j, k, l, q, t], a1_g[i, j, k, l, q, t],\n",
    "                                                      a2_g[i, j, k, l, q, t], a3_g[i, j, k, l, q, t])\n",
    "\n",
    "                        results[i, j, k, l, q, t] = result"
   ]
  },
  {
   "cell_type": "code",
   "execution_count": null,
   "id": "d469c820",
   "metadata": {},
   "outputs": [],
   "source": []
  },
  {
   "cell_type": "code",
   "execution_count": null,
   "id": "4f7cdfdb",
   "metadata": {},
   "outputs": [],
   "source": [
    "box_tot = np.concatenate((boxes[0], boxes[1]), dtype=object, axis=0)"
   ]
  },
  {
   "cell_type": "code",
   "execution_count": null,
   "id": "b671f7bc",
   "metadata": {},
   "outputs": [],
   "source": [
    "box_tot.shape"
   ]
  },
  {
   "cell_type": "code",
   "execution_count": null,
   "id": "6b283052",
   "metadata": {},
   "outputs": [],
   "source": [
    "boxes[0] == boxes[1]"
   ]
  },
  {
   "cell_type": "code",
   "execution_count": null,
   "id": "d4243458",
   "metadata": {},
   "outputs": [],
   "source": [
    "box_tot == results"
   ]
  },
  {
   "cell_type": "code",
   "execution_count": null,
   "id": "31a409e9",
   "metadata": {},
   "outputs": [],
   "source": [
    "box_tot.shape"
   ]
  },
  {
   "cell_type": "code",
   "execution_count": null,
   "id": "73f23980",
   "metadata": {},
   "outputs": [],
   "source": [
    "results.shape"
   ]
  },
  {
   "cell_type": "code",
   "execution_count": null,
   "id": "83ac23b2",
   "metadata": {},
   "outputs": [],
   "source": [
    "a0_lin"
   ]
  },
  {
   "cell_type": "code",
   "execution_count": null,
   "id": "e9a72d64",
   "metadata": {},
   "outputs": [],
   "source": [
    "a0_lin[0::2], a0_lin[1::2]"
   ]
  },
  {
   "cell_type": "code",
   "execution_count": null,
   "id": "bdc03245",
   "metadata": {},
   "outputs": [],
   "source": [
    "a1_lin = np.linspace(-4., 0., nn)\n",
    "m_lin = np.linspace(x_median.min(), (x_median.max() - x_median.min())/2., nn)\n",
    "z_lin = np.linspace(z.min(), (z.max() - z.min())/2., nn)"
   ]
  },
  {
   "cell_type": "code",
   "execution_count": null,
   "id": "ba7d9e81",
   "metadata": {},
   "outputs": [],
   "source": [
    "xx, yy, mm, zz = np.meshgrid(a0_lin, a1_lin, m_lin, z_lin, indexing='ij')\n",
    "box1 = np.zeros((xx.shape[0], yy.shape[0], mm.shape[0], zz.shape[0]))"
   ]
  },
  {
   "cell_type": "code",
   "execution_count": null,
   "id": "b0f751ac",
   "metadata": {},
   "outputs": [],
   "source": [
    "xx"
   ]
  },
  {
   "cell_type": "code",
   "execution_count": null,
   "id": "4dfdaff6",
   "metadata": {},
   "outputs": [],
   "source": [
    "a0_lin2 = np.linspace(17.5, 21.5, nn)\n",
    "a1_lin2 = np.linspace(12, 20, nn)\n",
    "\n",
    "\n",
    "xx2, yy2, x = np.meshgrid(a0_lin2, a1_lin2, m_lin, z_lin, indexing='ij')\n",
    "box2 = np.zeros((xx2.shape[0], yy2.shape[0]))"
   ]
  },
  {
   "cell_type": "code",
   "execution_count": null,
   "id": "97a7e4d7",
   "metadata": {},
   "outputs": [],
   "source": [
    "for i in range(xx.shape[0]):\n",
    "    for j in range(yy.shape[0]):\n",
    "        print(xx[i,j], yy[i,j])"
   ]
  },
  {
   "cell_type": "code",
   "execution_count": null,
   "id": "2f459804",
   "metadata": {},
   "outputs": [],
   "source": []
  },
  {
   "cell_type": "code",
   "execution_count": null,
   "id": "22e4b402",
   "metadata": {},
   "outputs": [],
   "source": [
    "xx, xx2"
   ]
  },
  {
   "cell_type": "code",
   "execution_count": null,
   "id": "0af5cd2a",
   "metadata": {},
   "outputs": [],
   "source": [
    "np.concatenate((xx,xx2), dtype=object)"
   ]
  },
  {
   "cell_type": "code",
   "execution_count": null,
   "id": "330af32f",
   "metadata": {},
   "outputs": [],
   "source": [
    "nn = 11\n",
    "\n",
    "a0_lin = np.linspace(9.5, 13.5, nn)\n",
    "a1_lin = np.linspace(-4., 4., nn)\n",
    "a2_lin = np.linspace(-2.5, -0.5, nn)\n",
    "a3_lin = np.linspace(1.5, 6., nn)\n",
    "m_lin = np.linspace(x_median.min(), x_median.max(), nn)\n",
    "z_lin = np.linspace(z.min(), z.max(), nn)\n",
    "\n",
    "# m_g, z_g = np.meshgrid(m_lin, z_lin, indexing='ij')\n",
    "# integral_lim_matrix = np.zeros((m_g.shape[0], z_g.shape[0]), dtype=np.ndarray)\n",
    "\n",
    "# for i in range(m_g.shape[0]):\n",
    "#     for j in range(z_g.shape[0]):\n",
    "#         integral_lim_matrix[i,j] = integral_limits(z_g[i,j], m_g[i,j])\n",
    "        \n",
    "# a0_g, a1_g, a2_g, a3_g, int_lim_g = np.meshgrid(a0_lin, a1_lin, a2_lin, a3_lin, integral_lim_matrix,\n",
    "#                                                     indexing='ij')"
   ]
  },
  {
   "cell_type": "code",
   "execution_count": null,
   "id": "3960b3b2",
   "metadata": {},
   "outputs": [],
   "source": [
    "grid_data = np.load('grid_6d_11sample_emcee.npy')"
   ]
  },
  {
   "cell_type": "code",
   "execution_count": null,
   "id": "c9cd740e",
   "metadata": {},
   "outputs": [],
   "source": [
    "interp = RegularGridInterpolator((a0_lin, a1_lin, a2_lin, a3_lin, m_lin, z_lin), grid_data)"
   ]
  },
  {
   "cell_type": "code",
   "execution_count": null,
   "id": "83469252",
   "metadata": {},
   "outputs": [],
   "source": [
    "grid_data.min(), grid_data.max()"
   ]
  },
  {
   "cell_type": "code",
   "execution_count": null,
   "id": "b504abb9",
   "metadata": {},
   "outputs": [],
   "source": [
    "grid_data[0,:,:,:,:,:].min()"
   ]
  },
  {
   "cell_type": "code",
   "execution_count": null,
   "id": "a8606a31",
   "metadata": {},
   "outputs": [],
   "source": [
    "grid_data[0,:,:,:,:,:]"
   ]
  },
  {
   "cell_type": "code",
   "execution_count": null,
   "id": "e8f0f77e",
   "metadata": {},
   "outputs": [],
   "source": [
    "def log_likelihood(a0, a1, a2, a3, interp, x_median,  w, z, x):\n",
    "    q = smf_single_schechter_sty(x, z, a0, a1, a2, a3)\n",
    "    a0_v = np.repeat(a0, x_median.shape[0])\n",
    "    a1_v = np.repeat(a1, x_median.shape[0])\n",
    "    a2_v = np.repeat(a2, x_median.shape[0])\n",
    "    a3_v = np.repeat(a3, x_median.shape[0])\n",
    "    \n",
    "    pt = np.array([a0_v, a1_v, a2_v, a3_v, x_median, z]).T\n",
    "    I = interp(pt)\n",
    "    \n",
    "    a = np.log10(np.sum(q, axis=1)) - np.log10(I)\n",
    "    return a * w"
   ]
  },
  {
   "cell_type": "code",
   "execution_count": null,
   "id": "58f04ffc",
   "metadata": {},
   "outputs": [],
   "source": [
    "log_likelihood(9,0.3,-1,3, interp, x_median, w_spec, z, x)"
   ]
  },
  {
   "cell_type": "code",
   "execution_count": null,
   "id": "6734b1cf",
   "metadata": {},
   "outputs": [],
   "source": [
    "interp(np.array([9.,0.3, -1, 3, 10., 0.2]))"
   ]
  },
  {
   "cell_type": "code",
   "execution_count": null,
   "id": "6df6f470",
   "metadata": {},
   "outputs": [],
   "source": [
    "interp(np.array([13.,0.5, 0., 4., x_median.max(), z.max()]))"
   ]
  },
  {
   "cell_type": "code",
   "execution_count": null,
   "id": "6d3f9d0b",
   "metadata": {},
   "outputs": [],
   "source": [
    "a0_v = np.repeat(8., x_median.shape[0])\n",
    "a1_v = np.repeat(0.3, x_median.shape[0])\n",
    "a2_v = np.repeat(-1, x_median.shape[0])\n",
    "a3_v = np.repeat(3, x_median.shape[0])"
   ]
  },
  {
   "cell_type": "code",
   "execution_count": null,
   "id": "d22c4d08",
   "metadata": {},
   "outputs": [],
   "source": [
    "pt = np.array([a0_v, a1_v, a2_v, a3_v, x_median, z])"
   ]
  },
  {
   "cell_type": "code",
   "execution_count": null,
   "id": "4007fdf1",
   "metadata": {},
   "outputs": [],
   "source": [
    "pt.T"
   ]
  },
  {
   "cell_type": "code",
   "execution_count": null,
   "id": "1e8a2bac",
   "metadata": {},
   "outputs": [],
   "source": [
    "interp(pt.T)"
   ]
  },
  {
   "cell_type": "code",
   "execution_count": null,
   "id": "8b9316af",
   "metadata": {},
   "outputs": [],
   "source": [
    "pt = np.array([[10, 10],[0.3, 0.3],[-1, -1],[3,3],[10., 10],[0.2,0.2]])"
   ]
  },
  {
   "cell_type": "code",
   "execution_count": null,
   "id": "08a296ff",
   "metadata": {},
   "outputs": [],
   "source": [
    "pt.T"
   ]
  },
  {
   "cell_type": "code",
   "execution_count": null,
   "id": "55a6d348",
   "metadata": {},
   "outputs": [],
   "source": [
    "interp(pt.T)"
   ]
  },
  {
   "cell_type": "code",
   "execution_count": null,
   "id": "1f43cae5",
   "metadata": {},
   "outputs": [],
   "source": [
    "pt = np.array([10,0.3,-1,3,10.,0.2])\n",
    "print(integral_calculation2(10,0.3,-1,3,0.2, 10))\n",
    "print(interp(pt))\n",
    "print(integral_calculation2(10,0.3,-1,3,0.2, 10) - interp(pt))"
   ]
  },
  {
   "cell_type": "markdown",
   "id": "7bcf46fa",
   "metadata": {},
   "source": [
    "---\n",
    "---\n",
    "----"
   ]
  },
  {
   "cell_type": "code",
   "execution_count": null,
   "id": "9e7eb277",
   "metadata": {},
   "outputs": [],
   "source": [
    "start_time = time.time()\n",
    "a0_lin = np.linspace(9, 13, 2)\n",
    "a1_lin = np.linspace(0, 0.5, 2)\n",
    "a2_lin = np.linspace(-3, 0, 2)\n",
    "a3_lin = np.linspace(2, 4, 2)\n",
    "m_lin = np.linspace(x_median.min(), x_median.max(), 2)\n",
    "z_lin = np.linspace(z.min(), z.max(), 2)\n",
    "\n",
    "a0_g, a1_g, a2_g, a3_g, m_g, z_g = np.meshgrid(a0_lin, a1_lin, a2_lin, a3_lin, m_lin, z_lin, indexing='ij')\n",
    "\n",
    "results = np.zeros((a0_g.shape[0], a0_g.shape[1], a0_g.shape[2], a0_g.shape[3],\n",
    "                    a0_g.shape[0], a0_g.shape[1]))\n",
    "\n",
    "for i in range(a0_g.shape[0]):\n",
    "    for j in range(a1_g.shape[1]):\n",
    "        for k in range(a2_g.shape[2]):\n",
    "            for l in range(a3_g.shape[3]):\n",
    "                for q in range(m_g.shape[0]):\n",
    "                    for t in range(z_g.shape[0]):\n",
    "#                     print(a0_g[i,j,k,l,q], a1_g[i,j,k,l,q], \n",
    "#                           a2_g[i,j,k,l,q], a3_g[i,j,k,l,q], int_lim_g[i,j,k,l,q])\n",
    "#                     print(i,j,k,l,q)\n",
    "                        int_lim_gt = integral_limits(z_g[i, j, k, l, q, t], m_g[i, j, k, l, q, t])\n",
    "                        print(int_lim_gt, '\\n')\n",
    "                        result = integral_calculation(int_lim_gt, a0_g[i, j, k, l, q, t], a1_g[i, j, k, l, q, t],\n",
    "                                                      a2_g[i, j, k, l, q, t], a3_g[i, j, k, l, q, t])\n",
    "                        results[i, j, k, l, q, t] = result\n",
    "            \n",
    "end_time = time.time()\n",
    "print(\" took {0:.1f} min \".format((end_time-start_time)/60.))"
   ]
  },
  {
   "cell_type": "code",
   "execution_count": null,
   "id": "7d13e440",
   "metadata": {},
   "outputs": [],
   "source": [
    "integral_lim_matrix"
   ]
  },
  {
   "cell_type": "code",
   "execution_count": null,
   "id": "f403b5dc",
   "metadata": {},
   "outputs": [],
   "source": [
    "for i in range(a0_g.shape[0]):\n",
    "    for j in range(a1_g.shape[1]):\n",
    "        for k in range(a2_g.shape[2]):\n",
    "            for l in range(a3_g.shape[3]):\n",
    "                for q in range(m_g.shape[0]):\n",
    "                    for t in range(z_g.shape[0]):\n",
    "                        print(results[i,j,k,l,q,t], ' - ', a0_g[i, j, k, l, q, t], a1_g[i, j, k, l, q, t],\n",
    "                                                      a2_g[i, j, k, l, q, t], a3_g[i, j, k, l, q, t], \n",
    "                             z_g[i, j, k, l, q, t], m_g[i, j, k, l, q, t])"
   ]
  },
  {
   "cell_type": "code",
   "execution_count": null,
   "id": "3346a5c0",
   "metadata": {},
   "outputs": [],
   "source": [
    "results"
   ]
  },
  {
   "cell_type": "code",
   "execution_count": null,
   "id": "71eeca63",
   "metadata": {},
   "outputs": [],
   "source": [
    "z_g[0,0]"
   ]
  },
  {
   "cell_type": "code",
   "execution_count": null,
   "id": "ea6b1c6c",
   "metadata": {},
   "outputs": [],
   "source": [
    "integral_calculation(integral_limits_list[0],a0_lin[0], a1_lin[0], a2_lin[0], a3_lin[0])"
   ]
  },
  {
   "cell_type": "code",
   "execution_count": null,
   "id": "26db58a7",
   "metadata": {},
   "outputs": [],
   "source": [
    "# 6D GRID  (a0, a1, a2, a3, mstar, z)\n",
    "\n",
    "n_sample_per_dim = [2,3]\n",
    "times_list = []\n",
    "for nn in n_sample_per_dim:\n",
    "    start_time = time.time()\n",
    "    a0_lin = np.linspace(9, 13, nn)\n",
    "    a1_lin = np.linspace(0, 0.5, nn)\n",
    "    a2_lin = np.linspace(-3, 0, nn)\n",
    "    a3_lin = np.linspace(2, 4, nn)\n",
    "    m_lin = np.linspace(x_median.min(), x_median.max(), nn)\n",
    "    z_lin = np.linspace(z.min(), z.max(), nn)\n",
    "\n",
    "    # a0_g, a1_g, a2_g, a3_g, m_g, z_g = np.meshgrid(a0_lin, a1_lin, a2_lin, a3_lin, m_lin, z_lin, indexing='ij')\n",
    "\n",
    "    m_g, z_g = np.meshgrid(m_lin, z_lin, indexing='ij')\n",
    "    integral_lim_matrix = np.zeros((m_g.shape[0], z_g.shape[0]), dtype=np.ndarray)\n",
    "\n",
    "    for i in range(m_g.shape[0]):\n",
    "        for j in range(z_g.shape[0]):\n",
    "            integral_lim_matrix[i,j] = integral_limits(z_g[i,j], m_g[i,j])\n",
    "\n",
    "    a0_g, a1_g, a2_g, a3_g, int_lim_g = np.meshgrid(a0_lin, a1_lin, a2_lin, a3_lin, integral_lim_matrix,\n",
    "                                                    indexing='ij')\n",
    "\n",
    "    \n",
    "    start_time = time.time()\n",
    "\n",
    "    # Create an array to store the results\n",
    "    results = np.zeros((a0_g.shape[0], a0_g.shape[1], a0_g.shape[2], a0_g.shape[3], int_lim_g.shape[0]))\n",
    "\n",
    "    # Evaluate the function on each point of the grid\n",
    "\n",
    "    for i in range(a0_g.shape[0]):\n",
    "        for j in range(a1_g.shape[1]):\n",
    "            for k in range(a2_g.shape[2]):\n",
    "                for l in range(a3_g.shape[3]):\n",
    "                    for q in range(int_lim_g.shape[0]):\n",
    "\n",
    "    #                     print(a0_g[i,j,k,l,q], a1_g[i,j,k,l,q], \n",
    "    #                           a2_g[i,j,k,l,q], a3_g[i,j,k,l,q], int_lim_g[i,j,k,l,q])\n",
    "                        print(i,j,k,l,q)\n",
    "                        result = integral_calculation(int_lim_g[i,j,k,l,q], a0_g[i, j, k, l,q], a1_g[i, j, k, l,q],\n",
    "                                                          a2_g[i, j, k, l,q], a3_g[i, j, k, l,q])\n",
    "\n",
    "\n",
    "                        results[i, j, k, l, q] = result\n",
    "\n",
    "\n",
    "    end_time = time.time()\n",
    "    times_list.append((end_time-start_time)/60)"
   ]
  },
  {
   "cell_type": "code",
   "execution_count": null,
   "id": "116f1379",
   "metadata": {},
   "outputs": [],
   "source": [
    "int_lim_g[0,0,0,0,0], a0_g[0,0,0,0,0], a1_g[0,0,0,0,0], a2_g[0,0,0,0,0], a3_g[0,0,0,0,0]"
   ]
  },
  {
   "cell_type": "code",
   "execution_count": null,
   "id": "0be7a2f4",
   "metadata": {},
   "outputs": [],
   "source": [
    "integral_limits_list[0],a0_lin[0], a1_lin[0], a2_lin[0], a3_lin[0]"
   ]
  },
  {
   "cell_type": "code",
   "execution_count": null,
   "id": "0d7ab8f0",
   "metadata": {},
   "outputs": [],
   "source": [
    "integral_calculation(int_lim_g[0,0,0,0,0], a0_g[0,0,0,0,0], a1_g[0,0,0,0,0], a2_g[0,0,0,0,0], a3_g[0,0,0,0,0])"
   ]
  },
  {
   "cell_type": "code",
   "execution_count": null,
   "id": "af7e572a",
   "metadata": {},
   "outputs": [],
   "source": [
    "print(times_list)"
   ]
  },
  {
   "cell_type": "code",
   "execution_count": null,
   "id": "ac7e1a70",
   "metadata": {},
   "outputs": [],
   "source": [
    "print(\" took {0:.1f} min\".format((end_time-start_time)/60))"
   ]
  },
  {
   "cell_type": "code",
   "execution_count": null,
   "id": "36292fd0",
   "metadata": {},
   "outputs": [],
   "source": [
    "results"
   ]
  },
  {
   "cell_type": "code",
   "execution_count": null,
   "id": "6d52e5a6",
   "metadata": {},
   "outputs": [],
   "source": [
    "results[0,0,0,0,0]"
   ]
  },
  {
   "cell_type": "code",
   "execution_count": null,
   "id": "d496975a",
   "metadata": {},
   "outputs": [],
   "source": [
    "# 4D GRID (a0, a1, a2, a3) JUST ONE GALAXY\n",
    "\n",
    "start_time = time.time()\n",
    "a0_lin = np.linspace(9, 13, 20)\n",
    "a1_lin = np.linspace(0, 0.5, 20)\n",
    "a2_lin = np.linspace(-3, 0, 20)\n",
    "a3_lin = np.linspace(2, 4, 20)\n",
    "\n",
    "\n",
    "a0_g, a1_g, a2_g, a3_g = np.meshgrid(a0_lin, a1_lin, a2_lin, a3_lin, indexing='ij')\n",
    "\n",
    "\n",
    "# Create an array to store the results\n",
    "results = np.zeros((a0_g.shape[0], a0_g.shape[1], a0_g.shape[2], a0_g.shape[3]))\n",
    "\n",
    "# Evaluate the function on each point of the grid\n",
    "for i in range(a0_g.shape[0]):\n",
    "    for j in range(a0_g.shape[1]):\n",
    "        for k in range(a0_g.shape[2]):\n",
    "            for l in range(a0_g.shape[3]):\n",
    "                \n",
    "                \n",
    "                result = integral_calculation(integral_limits_list[0], \n",
    "                                              a0_g[i, j, k, l], a1_g[i, j, k, l],\n",
    "                                              a2_g[i, j, k, l], a3_g[i, j, k, l])\n",
    "\n",
    "                results[i, j, k, l] = result\n",
    "\n",
    "# Print the results\n",
    "# print(results)\n",
    "end_time = time.time()"
   ]
  },
  {
   "cell_type": "code",
   "execution_count": null,
   "id": "416d42f6",
   "metadata": {},
   "outputs": [],
   "source": [
    "print(\" took {0:.1f} min\".format((end_time-start_time)/60))"
   ]
  },
  {
   "cell_type": "code",
   "execution_count": null,
   "id": "04002b32",
   "metadata": {},
   "outputs": [],
   "source": [
    "def integral_calculation_pool(params):\n",
    "    limits, a0, a1, a2, a3 = params\n",
    "    result = 0\n",
    "    result += integrate.dblquad(smf_single_schechter_integral, limits[0][0],\n",
    "                                limits[0][1], limits[1][0], limits[1][1], args=(a0, a1, a2, a3))[0]\n",
    "    result += integrate.dblquad(smf_single_schechter_integral, limits[2][0],\n",
    "                            limits[2][1], limits[3][0] , limits[3][1], args=(a0, a1, a2, a3))[0]\n",
    "    \n",
    "    return result\n",
    "\n",
    "def evaluate_integral_pool(params):\n",
    "    return integral_calculation_pool(params)"
   ]
  },
  {
   "cell_type": "code",
   "execution_count": null,
   "id": "e2884de9",
   "metadata": {},
   "outputs": [],
   "source": [
    "para = [integral_limits_list[0], a0_g[i, j, k, l], a1_g[i, j, k, l], a2_g[i, j, k, l], a3_g[i, j, k, l]]\n",
    "\n",
    "num_processes = 4\n",
    "pool = Pool(processes=num_processes)\n",
    "\n",
    "results = np.zeros((a0_g.shape[0], a0_g.shape[1], a0_g.shape[2], a0_g.shape[3]))\n",
    "start_time = time.time()\n",
    "# Evaluate the function on each point of the grid\n",
    "for i in range(a0_g.shape[0]):\n",
    "    for j in range(a0_g.shape[1]):\n",
    "        for k in range(a0_g.shape[2]):\n",
    "            for l in range(a0_g.shape[3]):\n",
    "                \n",
    "                \n",
    "                result = pool.map(evaluate_integral_pool,para)\n",
    "\n",
    "                results[i, j, k, l] = result\n",
    "\n",
    "# Print the results\n",
    "# print(results)\n",
    "end_time = time.time()\n",
    "print(\"With parallelisation took {0:.1f} min\".format((end_time-start_time)/60))"
   ]
  },
  {
   "cell_type": "code",
   "execution_count": null,
   "id": "28117b27",
   "metadata": {},
   "outputs": [],
   "source": []
  }
 ],
 "metadata": {
  "kernelspec": {
   "display_name": "NERSC Python",
   "language": "python",
   "name": "python3"
  },
  "language_info": {
   "codemirror_mode": {
    "name": "ipython",
    "version": 3
   },
   "file_extension": ".py",
   "mimetype": "text/x-python",
   "name": "python",
   "nbconvert_exporter": "python",
   "pygments_lexer": "ipython3",
   "version": "3.9.7"
  }
 },
 "nbformat": 4,
 "nbformat_minor": 5
}
