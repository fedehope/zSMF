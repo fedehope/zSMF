{
 "cells": [
  {
   "cell_type": "code",
   "execution_count": 1,
   "id": "f7c84afb-982a-41e8-a5a7-ae1bcc70fb45",
   "metadata": {},
   "outputs": [],
   "source": [
    "import numpy as np\n",
    "from astropy.table import Table\n",
    "from astropy.io.misc.hdf5 import write_table_hdf5\n",
    "import matplotlib.pyplot as plt\n",
    "import tables\n",
    "import h5py\n",
    "import astropy.table as aTable\n",
    "from scipy.interpolate import interp1d\n",
    "from astropy.cosmology import FlatLambdaCDM\n",
    "\n",
    "plt.rcParams['axes.labelsize'] = 15\n",
    "plt.rcParams['xtick.labelsize'] = 15\n",
    "plt.rcParams['ytick.labelsize'] = 15\n",
    "\n",
    "# def mass_completeness_limit(z):\n",
    "    \n",
    "#     x_values = [0.175, 0.5, 0.8, 1.125, 1.525, 2.0, 2.5, 3.125, 3.75, 4.4]\n",
    "#     y_values = [8.1, 8.7, 9.1, 9.3, 9.7, 9.9, 10.0, 10.1, 10.1,10.1]\n",
    "\n",
    "#     f = interp1d(x_values, y_values)\n",
    "#     return f(z)\n",
    "\n",
    "\n",
    "\n",
    "# def gathering_data(data, zmin, zmax):\n",
    "\n",
    "#     cosmos = data\n",
    "#     mask_zlim = (cosmos['ZPDF'].data > zmin) & (cosmos['ZPDF'].data < zmax)\n",
    "    \n",
    "#     z_tot = cosmos['ZPDF'].data[mask_zlim]\n",
    "#     x_tot = cosmos['MASS_MED'].data[mask_zlim]\n",
    "    \n",
    "    \n",
    "#     mass_comp_lim = mass_completeness_limit(z_tot)\n",
    "#     # mask_mlim = []\n",
    "#     # for i in range(len(x_median_tot)):\n",
    "#     #     mask_mlim.append(x_median_tot[i] > mass_comp_lim[i])\n",
    "#     mask_mlim = x_tot > mass_completeness_limit(z_tot)\n",
    "        \n",
    "    \n",
    "#     mask = (mask_mlim)\n",
    "    \n",
    "#     z = z_tot[mask].astype(np.float32)\n",
    "#     x = x_tot[mask].astype(np.float32)\n",
    "    \n",
    "#     return z, x"
   ]
  },
  {
   "cell_type": "markdown",
   "id": "18655f4d-b505-4059-96da-209c586a8cd5",
   "metadata": {},
   "source": [
    "# 3D-HST Leja et al."
   ]
  },
  {
   "cell_type": "code",
   "execution_count": 2,
   "id": "cfa37346-c557-4ad8-bcce-461a3a51a6d9",
   "metadata": {},
   "outputs": [],
   "source": [
    "def mass_completeness_limit(z):\n",
    "    \n",
    "    x_values = [0.65, 1.0, 1.5, 2.1, 3.0]\n",
    "    y_values = [8.72, 9.07, 9.63, 9.79, 10.15]\n",
    "    \n",
    "    f = interp1d(x_values, y_values)\n",
    "    return f(z)\n",
    "\n",
    "\n",
    "def zmax(mstar):\n",
    "    y_values = [8.72, 9.07, 9.63, 9.79, 10.15]\n",
    "    x_values = [0.65, 1.0, 1.5, 2.1, 3.0]\n",
    "\n",
    "    f = interp1d(y_values, x_values)\n",
    "    if mstar > y_values[-1]:\n",
    "        return x_values[-1] \n",
    "    else:\n",
    "        return f(mstar)\n",
    "\n",
    "\n",
    "\n",
    "def gathering_data(data, zmin, zmax):\n",
    "\n",
    "    hst = data\n",
    "    mask_zlim = (hst['z_peak'].data > zmin) & (hst['z_peak'].data < zmax)\n",
    "    \n",
    "    z_tot = hst['z_peak'].data[mask_zlim]\n",
    "    x_tot = hst['lmass'].data[mask_zlim]\n",
    "    \n",
    "    \n",
    "    mass_comp_lim = mass_completeness_limit(z_tot)\n",
    "    # mask_mlim = []\n",
    "    # for i in range(len(x_median_tot)):\n",
    "    #     mask_mlim.append(x_median_tot[i] > mass_comp_lim[i])\n",
    "    mask_mlim = x_tot > mass_completeness_limit(z_tot)\n",
    "        \n",
    "    \n",
    "    mask = (mask_mlim)\n",
    "    \n",
    "    z = z_tot[mask].astype(np.float32)\n",
    "    x = x_tot[mask].astype(np.float32)\n",
    "    \n",
    "    return z, x"
   ]
  },
  {
   "cell_type": "code",
   "execution_count": 3,
   "id": "56cf1df9-9526-441d-91bc-440ea54341a0",
   "metadata": {},
   "outputs": [],
   "source": [
    "hst = Table.read('../data/3dhst_master.phot.v4.1.cat.FITS')"
   ]
  },
  {
   "cell_type": "code",
   "execution_count": 4,
   "id": "52ad9852-151e-432b-a78d-dd224a50a97b",
   "metadata": {},
   "outputs": [
    {
     "data": {
      "text/html": [
       "<div><i>Table length=5</i>\n",
       "<table id=\"table4400816464\" class=\"table-striped table-bordered table-condensed\">\n",
       "<thead><tr><th>id</th><th>field</th><th>ra</th><th>dec</th><th>x</th><th>y</th><th>z_spec</th><th>z_peak</th><th>faper_F140W</th><th>eaper_F140W</th><th>faper_F160W</th><th>eaper_F160W</th><th>f_F606W</th><th>e_F606W</th><th>f_F814W</th><th>e_F814W</th><th>f_F125W</th><th>e_F125W</th><th>f_F140W</th><th>e_F140W</th><th>f_F160W</th><th>e_F160W</th><th>tot_cor</th><th>kron_radius</th><th>a_image</th><th>b_image</th><th>flux_radius</th><th>fwhm_image</th><th>flags</th><th>f140w_flag</th><th>star_flag</th><th>use_phot</th><th>near_star</th><th>nexp_f125w</th><th>nexp_f140w</th><th>nexp_f160w</th><th>lmass</th><th>Av</th></tr></thead>\n",
       "<thead><tr><th>float64</th><th>bytes7</th><th>float64</th><th>float64</th><th>float64</th><th>float64</th><th>float64</th><th>float64</th><th>float64</th><th>float64</th><th>float64</th><th>float64</th><th>float64</th><th>float64</th><th>float64</th><th>float64</th><th>float64</th><th>float64</th><th>float64</th><th>float64</th><th>float64</th><th>float64</th><th>float64</th><th>float64</th><th>float64</th><th>float64</th><th>float64</th><th>float64</th><th>int64</th><th>int64</th><th>int64</th><th>int64</th><th>int64</th><th>int64</th><th>int64</th><th>int64</th><th>float64</th><th>float64</th></tr></thead>\n",
       "<tr><td>1.0</td><td>AEGIS</td><td>215.22238159</td><td>53.00418472</td><td>9590.5</td><td>3057.3</td><td>-1.0</td><td>0.01</td><td>-82.041</td><td>-82.041</td><td>22531.0</td><td>0.039282</td><td>1790.6</td><td>0.037991</td><td>2804.9</td><td>0.057433</td><td>25063.0</td><td>0.060967</td><td>-99.0</td><td>-99.0</td><td>27188.0</td><td>0.32896</td><td>1.0088</td><td>3.5</td><td>9.65</td><td>8.82</td><td>2.59</td><td>3.42</td><td>0</td><td>0</td><td>1</td><td>0</td><td>0</td><td>2</td><td>0</td><td>3</td><td>7.51</td><td>1.1</td></tr>\n",
       "<tr><td>2.0</td><td>AEGIS</td><td>215.09658813</td><td>52.91805267</td><td>16473.2</td><td>3150.2</td><td>-1.0</td><td>0.01</td><td>3.5078</td><td>0.074233</td><td>3.9905</td><td>0.037441</td><td>90.928</td><td>1.7795</td><td>146.05</td><td>2.7091</td><td>252.44</td><td>3.0231</td><td>259.59</td><td>5.4934</td><td>295.31</td><td>1.6266</td><td>1.0</td><td>4.08</td><td>31.13</td><td>26.89</td><td>38.1</td><td>67.52</td><td>3</td><td>0</td><td>0</td><td>0</td><td>0</td><td>4</td><td>4</td><td>4</td><td>5.62</td><td>0.1</td></tr>\n",
       "<tr><td>3.0</td><td>AEGIS</td><td>215.16146851</td><td>52.95946121</td><td>13060.1</td><td>2982.3</td><td>-1.0</td><td>0.2062</td><td>-1.9043</td><td>-1.9043</td><td>1.3811</td><td>0.054104</td><td>26.373</td><td>1.2775</td><td>37.981</td><td>1.8974</td><td>66.125</td><td>3.2241</td><td>-99.0</td><td>-99.0</td><td>71.802</td><td>1.488</td><td>1.0</td><td>5.37</td><td>29.77</td><td>7.9</td><td>35.1</td><td>0.0</td><td>1</td><td>0</td><td>0</td><td>1</td><td>0</td><td>2</td><td>0</td><td>2</td><td>9.0</td><td>1.1</td></tr>\n",
       "<tr><td>4.0</td><td>AEGIS</td><td>215.30529785</td><td>53.0529213</td><td>5422.8</td><td>2692.1</td><td>-1.0</td><td>0.0355</td><td>-72.325</td><td>-72.325</td><td>0.82549</td><td>0.075126</td><td>0.44439</td><td>0.032801</td><td>0.45982</td><td>0.051409</td><td>1.1233</td><td>0.12688</td><td>-99.0</td><td>-99.0</td><td>1.1299</td><td>0.096035</td><td>1.161</td><td>3.5</td><td>2.52</td><td>1.75</td><td>3.67</td><td>0.0</td><td>0</td><td>0</td><td>0</td><td>0</td><td>0</td><td>1</td><td>0</td><td>1</td><td>4.78</td><td>0.4</td></tr>\n",
       "<tr><td>5.0</td><td>AEGIS</td><td>215.0418396</td><td>52.87127304</td><td>19894.6</td><td>2834.4</td><td>-1.0</td><td>0.3427</td><td>1890.5</td><td>0.1333</td><td>-99.0</td><td>-99.0</td><td>212.1</td><td>0.028669</td><td>705.77</td><td>0.044182</td><td>-99.0</td><td>-99.0</td><td>2272.9</td><td>0.16026</td><td>-99.0</td><td>-99.0</td><td>1.0645</td><td>3.5</td><td>4.8</td><td>4.56</td><td>2.24</td><td>3.36</td><td>0</td><td>1</td><td>2</td><td>0</td><td>1</td><td>0</td><td>3</td><td>0</td><td>11.57</td><td>0.5</td></tr>\n",
       "</table></div>"
      ],
      "text/plain": [
       "<Table length=5>\n",
       "   id   field       ra          dec        x    ... nexp_f140w nexp_f160w  lmass     Av  \n",
       "float64 bytes7   float64      float64   float64 ...   int64      int64    float64 float64\n",
       "------- ------ ------------ ----------- ------- ... ---------- ---------- ------- -------\n",
       "    1.0  AEGIS 215.22238159 53.00418472  9590.5 ...          0          3    7.51     1.1\n",
       "    2.0  AEGIS 215.09658813 52.91805267 16473.2 ...          4          4    5.62     0.1\n",
       "    3.0  AEGIS 215.16146851 52.95946121 13060.1 ...          0          2     9.0     1.1\n",
       "    4.0  AEGIS 215.30529785  53.0529213  5422.8 ...          0          1    4.78     0.4\n",
       "    5.0  AEGIS  215.0418396 52.87127304 19894.6 ...          3          0   11.57     0.5"
      ]
     },
     "execution_count": 4,
     "metadata": {},
     "output_type": "execute_result"
    }
   ],
   "source": [
    "hst[:5]"
   ]
  },
  {
   "cell_type": "code",
   "execution_count": 5,
   "id": "0a5a66a1-a56c-4a73-bb47-2fd5d694c1a5",
   "metadata": {},
   "outputs": [],
   "source": [
    "z, x = gathering_data(hst, 0.65, 3.0)"
   ]
  },
  {
   "cell_type": "code",
   "execution_count": 6,
   "id": "0af2f991-f335-4e35-b4a8-64f91618fdea",
   "metadata": {},
   "outputs": [
    {
     "data": {
      "text/plain": [
       "(8.0, 15.0)"
      ]
     },
     "execution_count": 6,
     "metadata": {},
     "output_type": "execute_result"
    },
    {
     "data": {
      "image/png": "[encoded data removed]",
      "text/plain": [
       "<Figure size 800x800 with 1 Axes>"
      ]
     },
     "metadata": {},
     "output_type": "display_data"
    }
   ],
   "source": [
    "z_lin = np.linspace(0.65, 3.0, 100)\n",
    "plt.figure(figsize=(8,8))\n",
    "plt.plot(z, x, 'o', markersize=1)\n",
    "plt.plot(z_lin, mass_completeness_limit(z_lin))\n",
    "plt.xlabel(r\"redshift ($z$)\")\n",
    "plt.ylabel(r\"$\\log M_*$\")\n",
    "# plt.xlim(0.5, 3.5)\n",
    "plt.ylim(8., 15)\n"
   ]
  },
  {
   "cell_type": "code",
   "execution_count": null,
   "id": "a4a11cc4-c24f-4e02-9150-2e572cebcb42",
   "metadata": {},
   "outputs": [],
   "source": [
    "footprint = 0.25 #deg^2\n",
    "\n",
    "cosmo = FlatLambdaCDM(H0=67.8, Om0=0.307)\n",
    "\n",
    "dmin3 = cosmo.comoving_distance(0.65).value ** 3\n",
    "vmax = np.array([4*np.pi/3 * 0.25/41253 * (cosmo.comoving_distance(zmax(m_i)).value ** 3 - dmin3) for m_i in x])"
   ]
  },
  {
   "cell_type": "code",
   "execution_count": null,
   "id": "60cf6510-d975-4344-86cc-00bbe61bdab8",
   "metadata": {},
   "outputs": [],
   "source": [
    "x_lin = np.linspace(x.min(), x.max(), 100)\n",
    "for i in range(x_lin.shape[0]):\n",
    "    plt.scatter(x_lin[i], zmax(x_lin[i]))"
   ]
  },
  {
   "cell_type": "code",
   "execution_count": 10,
   "id": "ae786305-6daf-46e4-8c0d-7e29f3d005ec",
   "metadata": {},
   "outputs": [
    {
     "data": {
      "text/plain": [
       "array([6664017.47514103, 6664017.47514103, 4010286.59079552, ...,\n",
       "       6664017.47514103, 4090701.52882329, 6664017.47514103])"
      ]
     },
     "execution_count": 10,
     "metadata": {},
     "output_type": "execute_result"
    }
   ],
   "source": [
    "vmax"
   ]
  },
  {
   "cell_type": "code",
   "execution_count": null,
   "id": "5d91d58c-3306-4fa7-ab8d-22931675a5fc",
   "metadata": {},
   "outputs": [],
   "source": [
    "x_lin[10], zmax(x_lin[10])"
   ]
  },
  {
   "cell_type": "code",
   "execution_count": null,
   "id": "6a0b330e-898e-41de-9d0d-e1960cf4e9ce",
   "metadata": {},
   "outputs": [],
   "source": [
    "x_test = x[x<9.]\n",
    "z_test = z[x<9]"
   ]
  },
  {
   "cell_type": "code",
   "execution_count": null,
   "id": "ede562a1-e78d-4906-ba5d-20a6a2cd1804",
   "metadata": {},
   "outputs": [],
   "source": [
    "mass_completeness_limit(z_test[0])"
   ]
  },
  {
   "cell_type": "code",
   "execution_count": null,
   "id": "52692796-bd44-4ecc-8b24-72620c919324",
   "metadata": {},
   "outputs": [],
   "source": [
    "zmax(x_test[0])"
   ]
  },
  {
   "cell_type": "code",
   "execution_count": null,
   "id": "abca6d9e-faeb-41e1-8c2f-3c84371d2dc7",
   "metadata": {},
   "outputs": [],
   "source": [
    "mass_completeness_limit(3.0)"
   ]
  },
  {
   "cell_type": "code",
   "execution_count": null,
   "id": "b3e6f19d-8d2c-4678-bb5d-7343a9b2ff6b",
   "metadata": {},
   "outputs": [],
   "source": [
    "z_lin = np.linspace(0.65, 3.0, 100)\n",
    "plt.figure(figsize=(8,8))\n",
    "plt.plot(z_test, x_test, 'o', markersize=1)\n",
    "plt.plot(z_lin, mass_completeness_limit(z_lin))\n",
    "plt.xlabel(r\"redshift ($z$)\")\n",
    "plt.ylabel(r\"$\\log M_*$\")\n",
    "# plt.xlim(0.5, 3.5)\n",
    "plt.ylim(8., 15)\n"
   ]
  },
  {
   "cell_type": "code",
   "execution_count": null,
   "id": "891fa6e4-845e-42fc-a594-040d57c22ade",
   "metadata": {},
   "outputs": [],
   "source": [
    "cosmo.comoving_distance()"
   ]
  },
  {
   "cell_type": "code",
   "execution_count": null,
   "id": "45934615-e227-4255-b347-f2876f5f5d52",
   "metadata": {},
   "outputs": [],
   "source": [
    "write_table_hdf5(hst['lmass', 'z_peak'], '3dhst_master.phot.v4.1.cat.lite.hdf5', overwrite=True)"
   ]
  },
  {
   "cell_type": "code",
   "execution_count": null,
   "id": "b837542f-6f95-4132-b4c9-8622a75bd192",
   "metadata": {},
   "outputs": [],
   "source": [
    "x.shape"
   ]
  },
  {
   "cell_type": "code",
   "execution_count": null,
   "id": "ac959055-5dfa-4a12-8b71-faa73e35708d",
   "metadata": {},
   "outputs": [],
   "source": [
    "lmass = hst['lmass']\n",
    "# z_spec = hst['z_spec']\n",
    "z_peak = hst['z_peak']\n",
    "\n",
    "# mask_spec = (z_spec >= 0.)\n",
    "mask_peak = (z_peak >= 0.) & (lmass > 0.)"
   ]
  },
  {
   "cell_type": "code",
   "execution_count": null,
   "id": "c1c031d9-a9a1-4abb-a1fd-523db690b117",
   "metadata": {},
   "outputs": [],
   "source": [
    "mass_complete = np.array(list(zip([0.65, 1.0, 1.5, 2.1, 3.0], [8.72, 9.07, 9.63, 9.79, 10.15])))"
   ]
  },
  {
   "cell_type": "code",
   "execution_count": null,
   "id": "27824578-77a2-4107-ac8f-d2d4c4b6416a",
   "metadata": {},
   "outputs": [],
   "source": [
    "mass_complete[:,0]\n"
   ]
  },
  {
   "cell_type": "code",
   "execution_count": null,
   "id": "03138371-7c44-43ee-9693-190d7626ad4f",
   "metadata": {},
   "outputs": [],
   "source": [
    "hst['lmass','z_peak'].to_pandas().to_hdf('3dhst_master.phot.v4.1.cat.lite.hdf5', key='hst_lite', mode='w')"
   ]
  },
  {
   "cell_type": "code",
   "execution_count": null,
   "id": "1ca62cb7-6822-48a4-b97c-e96612d72a7d",
   "metadata": {},
   "outputs": [],
   "source": [
    "# cosmos = h5py.File('../data/COSMOS2015_Laigle+_v1.1.lite.hdf5')"
   ]
  },
  {
   "cell_type": "code",
   "execution_count": null,
   "id": "7b53daac-cc8f-4a8f-9f7f-2753430410e0",
   "metadata": {},
   "outputs": [],
   "source": [
    "cosmos = aTable.Table.read('../data/COSMOS2015_Laigle+_v1.1.lite.hdf5')"
   ]
  },
  {
   "cell_type": "code",
   "execution_count": null,
   "id": "2abde295-3f0b-4c5f-9d91-c7e59a7133cd",
   "metadata": {},
   "outputs": [],
   "source": [
    "# z, x = gathering_data(cosmos, 0.175, 4.4)"
   ]
  },
  {
   "cell_type": "code",
   "execution_count": null,
   "id": "77d82798-e532-4c18-beb2-4c7f44a4821c",
   "metadata": {},
   "outputs": [],
   "source": [
    "plt.figure(figsize=(8,8))\n",
    "plt.plot(z, x, 'o', markersize=0.3)\n",
    "plt.plot(np.linspace(0.175, 4.4, 100), mass_completeness_limit(np.linspace(0.175, 4.4, 100)))\n",
    "# plt.plot(mass_complete_cosmos[:,0], mass_complete_cosmos[:,1])\n",
    "# plt.plot(np.linspace(x_values[0],x_values[-1],100), mass_completeness_cosmos(np.linspace(x_values[0],x_values[-1],100)))"
   ]
  },
  {
   "cell_type": "code",
   "execution_count": null,
   "id": "4952bd69-5d2c-432b-a2c0-a1c574e9c5e3",
   "metadata": {},
   "outputs": [],
   "source": [
    "z.shape"
   ]
  },
  {
   "cell_type": "code",
   "execution_count": null,
   "id": "beece28d-001c-4281-a446-cd22d84990ff",
   "metadata": {},
   "outputs": [],
   "source": [
    "z_cosmos = cosmos['ZPDF']\n",
    "m_cosmos = cosmos['MASS_MED']\n",
    "mask = (z_cosmos >= .175) & (z_cosmos <= 4.4) & (m_cosmos > 8.1)\n",
    "z = z_cosmos[mask]\n",
    "mask_lim = m_cosmos > mass_completeness_cosmos(z)\n",
    "mstar = m_cosmos[mask_lim]\n",
    "z = z_cosmos[mask_lim]"
   ]
  },
  {
   "cell_type": "code",
   "execution_count": null,
   "id": "5f7f1676-8970-4a16-b51c-7d9239d169fb",
   "metadata": {},
   "outputs": [],
   "source": [
    "mass_complete_cosmos = np.array(list(zip([0.175, 0.5, 0.8, 1.125, 1.525, 2.0, 2.5, 3.125, 3.75, 4.4], \n",
    "                                         [8.1, 8.7, 9.1, 9.3, 9.7, 9.9, 10.0, 10.1, 10.1, 10.1])))"
   ]
  },
  {
   "cell_type": "code",
   "execution_count": null,
   "id": "15988ca2-7bfb-4e8c-af75-1effa9e7d032",
   "metadata": {},
   "outputs": [],
   "source": [
    "x_values = [0.175, 0.5, 0.8, 1.125, 1.525, 2.0, 2.5, 3.125, 3.75, 4.4]"
   ]
  },
  {
   "cell_type": "code",
   "execution_count": null,
   "id": "640036cb-50ab-4701-9e10-31999afdc37d",
   "metadata": {},
   "outputs": [],
   "source": [
    "plt.figure(figsize=(8,8))\n",
    "plt.plot(z, x, 'o', markersize=1)\n",
    "plt.plot(mass_complete_cosmos[:,0], mass_complete_cosmos[:,1])\n",
    "plt.plot(np.linspace(x_values[0],x_values[-1],100), mass_completeness_cosmos(np.linspace(x_values[0],x_values[-1],100)))\n",
    "\n",
    "plt.xlabel(r\"redshift ($z$)\")\n",
    "plt.ylabel(r\"$\\log M_*$\")\n",
    "# plt.xlim(0.5, 3.5)\n",
    "# plt.ylim(8., 15)"
   ]
  },
  {
   "cell_type": "code",
   "execution_count": null,
   "id": "817e620d-5da7-49e4-81dc-c06d2cb091b9",
   "metadata": {},
   "outputs": [],
   "source": [
    "\n",
    "x_values = [0.175, 0.5, 0.8, 1.125, 1.525, 2.0, 2.5, 3.125, 3.75, 4.4]\n",
    "y_values = [8.1, 8.7, 9.1, 9.3, 9.7, 9.9, 10.0, 10.1, 10.1, 10.1]\n",
    "\n",
    "f = interp1d(x_values, y_values)"
   ]
  },
  {
   "cell_type": "code",
   "execution_count": null,
   "id": "d590639c-fce2-4d4d-8ef1-751990e73e89",
   "metadata": {},
   "outputs": [],
   "source": [
    "f(1.3)"
   ]
  },
  {
   "cell_type": "code",
   "execution_count": null,
   "id": "b4996919-3e7d-4440-9fe6-1b8cc4f94b92",
   "metadata": {},
   "outputs": [],
   "source": [
    "def mass_completeness_cosmos(x):\n",
    "    \n",
    "    x_values = [0.175, 0.5, 0.8, 1.125, 1.525, 2.0, 2.5, 3.125, 3.75, 4.4]\n",
    "    y_values = [8.1, 8.7, 9.1, 9.3, 9.7, 9.9, 10.0, 10.1, 10.1,10.1]\n",
    "\n",
    "    f = interp1d(x_values, y_values)\n",
    "    return f(x)"
   ]
  },
  {
   "cell_type": "code",
   "execution_count": null,
   "id": "e4564736-b6c2-4d19-8541-7b6d0a6a2791",
   "metadata": {},
   "outputs": [],
   "source": [
    "plt.figure(figsize=(8,8))\n",
    "plt.plot(z_cosmos[mask], m_cosmos[mask], 'o', markersize=1)\n",
    "plt.plot(mass_complete_cosmos[:,0], mass_complete_cosmos[:,1])\n",
    "plt.plot(np.linspace(x_values[0], x_values[-1], 100), mass_completeness_cosmos(np.linspace(x_values[0], x_values[-1], 100)))\n",
    "plt.xlabel(r\"redshift ($z$)\")\n",
    "plt.ylabel(r\"$\\log M_*$\")\n",
    "# plt.xlim(0.5, 3.5)\n",
    "# plt.ylim(8., 15)\n",
    "# plt.plot(np.linspace(1, 10, 100), mass_completeness_cosmos(np.linspace(1, 10, 100)))"
   ]
  },
  {
   "cell_type": "markdown",
   "id": "69aef3a1-bbfa-4328-904d-76a06e1f9305",
   "metadata": {},
   "source": [
    "# COSMOS2015 Laigle et al. 2016"
   ]
  },
  {
   "cell_type": "code",
   "execution_count": null,
   "id": "259caa44-951f-4b03-a25a-06504477eb3f",
   "metadata": {},
   "outputs": [],
   "source": [
    "cosmos2015 = Table.read('../data/COSMOS2015_Laigle+_v1.1.fits')"
   ]
  },
  {
   "cell_type": "code",
   "execution_count": null,
   "id": "23dafa61-115a-43e9-a657-83e339ba2540",
   "metadata": {},
   "outputs": [],
   "source": []
  },
  {
   "cell_type": "code",
   "execution_count": null,
   "id": "d95f5a95-27d1-4452-a5a5-30c69f11d267",
   "metadata": {},
   "outputs": [],
   "source": [
    "write_table_hdf5(cosmos2015['ZPDF', 'MASS_MED'], 'COSMOS2015_Laigle+_v1.1.lite.hdf5')"
   ]
  },
  {
   "cell_type": "code",
   "execution_count": null,
   "id": "3097fe2a-eae2-4a34-8609-3c5e267c2e1a",
   "metadata": {},
   "outputs": [],
   "source": [
    "cosmos2015[:5]"
   ]
  },
  {
   "cell_type": "code",
   "execution_count": null,
   "id": "eb6ed4fe-23ca-4abb-a06a-83201e650afa",
   "metadata": {},
   "outputs": [],
   "source": [
    "mask_flag = (cosmos2015['FLAG_DEEP'] == 1)"
   ]
  },
  {
   "cell_type": "code",
   "execution_count": null,
   "id": "8854d004-68b9-484a-a732-3827820e322a",
   "metadata": {},
   "outputs": [],
   "source": [
    "c = cosmos2015['ZPDF'][mask_flag]"
   ]
  },
  {
   "cell_type": "code",
   "execution_count": null,
   "id": "739a80f5-0ccf-48c8-9755-1033683d33c3",
   "metadata": {},
   "outputs": [],
   "source": [
    "c[:5]"
   ]
  },
  {
   "cell_type": "code",
   "execution_count": null,
   "id": "9334242a-1662-4906-8988-409f3676b7d4",
   "metadata": {},
   "outputs": [],
   "source": [
    "z_cosmos = cosmos2015['ZPDF']\n",
    "m_cosmos = cosmos2015['MASS_MED']\n",
    "mask = (z_cosmos >= 0.) & (m_cosmos > 0.)"
   ]
  },
  {
   "cell_type": "code",
   "execution_count": null,
   "id": "593d8cea-a144-4228-a5d2-0ba87d849f9d",
   "metadata": {},
   "outputs": [],
   "source": [
    "mass_complete_cosmos = np.array(list(zip([0.175, 0.5, 0.8, 1.125, 1.525, 2.0, 2.5, 3.125, 3.75, 4.4], \n",
    "                                         [8.1, 8.7, 9.1, 9.3, 9.7, 9.9, 10.0, 10.1, 10.1])))"
   ]
  },
  {
   "cell_type": "code",
   "execution_count": null,
   "id": "f09a122a-385e-4e0c-90ee-5aece969aa3f",
   "metadata": {},
   "outputs": [],
   "source": [
    "plt.figure(figsize=(8,8))\n",
    "plt.plot(z_cosmos[mask], m_cosmos[mask], 'o', markersize=1)\n",
    "plt.plot(mass_complete_cosmos[:,0], mass_complete_cosmos[:,1])\n",
    "plt.xlabel(r\"redshift ($z$)\")\n",
    "plt.ylabel(r\"$\\log M_*$\")\n",
    "# plt.xlim(0.5, 3.5)\n",
    "# plt.ylim(8., 15)\n"
   ]
  },
  {
   "cell_type": "code",
   "execution_count": null,
   "id": "b071c897-f820-4906-8c74-2e0c62884eca",
   "metadata": {},
   "outputs": [],
   "source": [
    "cosmos2015['ZPDF', 'MASS_MED'].to_pandas().to_hdf('../data/COSMOS2015_Laigle+_v1.1.lite.hdf5', key='cosmos_lite', mode='w')"
   ]
  },
  {
   "cell_type": "code",
   "execution_count": null,
   "id": "5798b533-69cb-45fd-8745-bb9fd4075a42",
   "metadata": {},
   "outputs": [],
   "source": []
  }
 ],
 "metadata": {
  "kernelspec": {
   "display_name": "bgs",
   "language": "python",
   "name": "bgs"
  },
  "language_info": {
   "codemirror_mode": {
    "name": "ipython",
    "version": 3
   },
   "file_extension": ".py",
   "mimetype": "text/x-python",
   "name": "python",
   "nbconvert_exporter": "python",
   "pygments_lexer": "ipython3",
   "version": "3.11.5"
  }
 },
 "nbformat": 4,
 "nbformat_minor": 5
}
