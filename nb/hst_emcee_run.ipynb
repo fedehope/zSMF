{
 "cells": [
  {
   "cell_type": "code",
   "execution_count": 1,
   "id": "76118382-828a-4204-8fef-758fc626c9d1",
   "metadata": {},
   "outputs": [],
   "source": [
    "from astropy.cosmology import Planck13, Planck15, Planck18\n",
    "from scipy.interpolate import interp1d\n",
    "from scipy import integrate"
   ]
  },
  {
   "cell_type": "code",
   "execution_count": 2,
   "id": "f7c84afb-982a-41e8-a5a7-ae1bcc70fb45",
   "metadata": {},
   "outputs": [],
   "source": [
    "import sys\n",
    "import numpy as np\n",
    "from matplotlib import pyplot as plt\n",
    "\n",
    "\n",
    "sys.path.append('../')\n",
    "\n",
    "from BGS import BGS\n",
    "from HST import HST\n",
    "\n",
    "from FileEmcee import FileEmcee\n",
    "from EmceeRun import EmceeRun\n",
    "\n",
    "from Plotter import Plotter\n",
    "from PlotterHst import PlotterHst\n",
    "\n",
    "from VMaxDensity import VmaxDensity\n",
    "from VMaxDensityHst import VmaxDensityHst\n",
    "\n",
    "from ZSchechterModel import ZSchechterModel\n",
    "from NoZSchechterModel import NoZSchechterModel\n",
    "\n",
    "from Fileh5 import Fileh5"
   ]
  },
  {
   "cell_type": "code",
   "execution_count": 3,
   "id": "b0531181-6d01-4d5f-8b67-a5fdb03b0af4",
   "metadata": {},
   "outputs": [],
   "source": [
    "def zmax_lim(mstar):\n",
    "    y_values = [8.72, 8.72, 9.07, 9.63, 9.79, 10.15]\n",
    "    x_values = [0.5, 0.65, 1.0, 1.5, 2.1, 3.0]\n",
    "\n",
    "    f = interp1d(y_values, x_values)\n",
    "    if mstar > y_values[-1]:\n",
    "        return x_values[-1]\n",
    "    else:\n",
    "        return f(mstar)"
   ]
  },
  {
   "cell_type": "markdown",
   "id": "18655f4d-b505-4059-96da-209c586a8cd5",
   "metadata": {},
   "source": [
    "# 3D-HST Leja et al."
   ]
  },
  {
   "cell_type": "code",
   "execution_count": 4,
   "id": "13fcd1aa-357c-464b-a2b1-af8e9e88900b",
   "metadata": {},
   "outputs": [],
   "source": [
    "def parameter_at_z0(y,z0,z1=0.2,z2=1.6,z3=3.0):\n",
    "    \"\"\"\n",
    "    Compute parameter at redshift ‘z0‘ as a function\n",
    "    of the polynomial parameters ‘y‘ and the\n",
    "    redshift anchor points ‘z1‘, ‘z2‘, and ‘z3‘.\n",
    "    \"\"\"\n",
    "    y1, y2, y3 = y\n",
    "    a = (((y3-y1) + (y2-y1) / (z2-z1) * (z1-z3)) / (z3**2-z1**2 + (z2**2-z1**2) / (z2-z1) * (z1-z3)))\n",
    "    b = ((y2-y1) - a * (z2**2-z1**2)) / (z2-z1)\n",
    "    c = y1-a * z1**2 - b * z1\n",
    "    # return a * z0**2 + b * z0 + c\n",
    "    return a, b, c"
   ]
  },
  {
   "cell_type": "code",
   "execution_count": 5,
   "id": "9000f731-b87a-476a-a17b-88e6abeade4c",
   "metadata": {},
   "outputs": [],
   "source": [
    "def par_at_z0(y,z0,z1=0.2,z2=1.6,z3=3.0):\n",
    "    \"\"\"\n",
    "    Compute parameter at redshift ‘z0‘ as a function\n",
    "    of the polynomial parameters ‘y‘ and the\n",
    "    redshift anchor points ‘z1‘, ‘z2‘, and ‘z3‘.\n",
    "    \"\"\"\n",
    "    y1, y2, y3 = y\n",
    "    a = (((y3-y1) + (y2-y1) / (z2-z1) * (z1-z3)) / (z3**2-z1**2 + (z2**2-z1**2) / (z2-z1) * (z1-z3)))\n",
    "    b = ((y2-y1) - a * (z2**2-z1**2)) / (z2-z1)\n",
    "    c = y1-a * z1**2 - b * z1\n",
    "    return a * z0**2 + b * z0 + c\n",
    "    # return a, b, c"
   ]
  },
  {
   "cell_type": "code",
   "execution_count": 6,
   "id": "7425a1f1-a65e-4d2c-9ff8-3ee6a83da6d2",
   "metadata": {},
   "outputs": [],
   "source": [
    "def logMz(z, a, b, c):\n",
    "    return a*z**2 + b*z + c\n",
    "\n",
    "\n",
    "def logPhi1z(z, a, b, c):\n",
    "    return a*z**2 + b*z + c\n",
    "\n",
    "\n",
    "def logPhi2z(z, a, b, c):\n",
    "    return a*z**2 + b*z + c\n",
    "\n",
    "\n",
    "def logPhi2_Phi1(z, a, b, c):\n",
    "    return a*z**2 + b*z + c\n",
    "\n",
    "\n",
    "def double_schechter(x, params):\n",
    "    logM, alpha1, logphi1, alpha2, logphi2 = params\n",
    "\n",
    "    term0 = np.exp(-10 ** (x-logM))\n",
    "    term1 = 10**logphi2 * 10 ** ((alpha2+1)*(x - logM))\n",
    "    term2 = 10**logphi1 * 10 ** ((alpha1+1)*(x - logM))\n",
    "    return term0 * (term1 + term2)\n",
    "\n",
    "\n",
    "def single_schechter(x, params):\n",
    "    logM, alpha, logphi = params\n",
    "\n",
    "    term0 = np.log(10) * np.exp(-10 ** (x-logM))\n",
    "    term1 = 10**logphi * 10 ** ((alpha+1)*(x - logM))\n",
    "    return term0 * term1\n",
    "\n",
    "\n",
    "\n",
    "def smf_double_schechter_paper(x, z0_i):\n",
    "    logM = par_at_z0([10.79, 10.88, 10.84], z0_i)\n",
    "    logphi1 = par_at_z0([-2.44, -3.08, -4.14], z0_i)\n",
    "    logphi2 = par_at_z0([-2.89, -3.29, -3.51], z0_i)\n",
    "\n",
    "    alpha1 = -0.28\n",
    "    alpha2 = -1.48\n",
    "    \n",
    "    term0 = np.log(10) * np.exp(-10 ** (x-logM))\n",
    "    term1 = 10**logphi2 * 10 ** ((alpha2+1)*(x - logM))\n",
    "    term2 = 10**logphi1 * 10 ** ((alpha1+1)*(x - logM))\n",
    "    return term0 * (term1 + term2)\n",
    "\n",
    "\n",
    "\n",
    "def normalisation(z0, zmin, zmax, best_params):\n",
    "    a0, a1, a2, alpha1, alpha2, a7, a8, a9 = best_params\n",
    "    v_zmin = Planck13.comoving_volume(zmin).value * Planck13.h ** 3 * 0.25/ 41253 # (Mpc/h)^3\n",
    "    v_zmax = Planck13.comoving_volume(zmax).value * Planck13.h ** 3 * 0.25/ 41253 # (Mpc/h)^3\n",
    "    m_max = 13.\n",
    "    m_min = 6.\n",
    "    nbin = 56\n",
    "    bin_size = (m_max - m_min) / nbin\n",
    "\n",
    "    z, x = hst.select_galaxies(zmin, zmax)\n",
    "    z = z[x<12.]\n",
    "    x = x[x<12.]\n",
    "    \n",
    "    I = [integrate.quad(smf_double_schechter_sty, hst.mass_completeness_limit(z)[i], 12., args=(z0, a0, a1, a2, alpha1, alpha2, a7, a8, a9))[0] for i in\n",
    "             range(z.shape[0])]\n",
    "    return 1 / (v_zmax - v_zmin) * np.sum((bin_size) / np.array(I))\n",
    "\n",
    "\n",
    "def smf_double_schechter_sty(x, z,  a0, a1, a2, alpha1, alpha2, a7, a8, a9):\n",
    "    logM = a0*z**2 + a1*z + a2\n",
    "#     alpha1 = -.28\n",
    "#     alpha2 = -1.48\n",
    "    log_phi2_phi1 = a7*z**2 + a8*z + a9\n",
    "    \n",
    "    term0 = np.exp(-10 ** (x-logM))\n",
    "    term1 = 10 ** ((alpha2+1)*(x - logM))\n",
    "    term2 = 10 ** ((alpha1+1)*(x - logM) + log_phi2_phi1)\n",
    "    return term0 * (term1 + term2)\n",
    "\n",
    "\n",
    "def plot_zschechter_double(x, z0, norm, best_params, **plot_params):\n",
    "    a0, a1, a2, alpha1, alpha2, a7, a8, a9 = best_params\n",
    "    zschechter = smf_double_schechter_sty(x, z0,  a0, a1, a2, alpha1, alpha2, a7, a8, a9)\n",
    "    plt.plot(x, norm * zschechter, **plot_params)\n",
    "\n",
    "    plt.yscale('log')\n",
    "    plt.ylim(1e-5, 4e-2)\n",
    "    plt.xlim(7, 13)\n",
    "\n",
    "    plt.xlabel(r'$\\log M_*$', fontsize=15)\n",
    "    plt.ylabel(r'$p(\\log M_*)$ [$({\\rm Mpc}/h)^{-3}{\\rm dex}^{-1}$]', fontsize=15)"
   ]
  },
  {
   "cell_type": "code",
   "execution_count": 7,
   "id": "0ac4ec20-068a-4b31-b80f-0ddc57bfe46e",
   "metadata": {},
   "outputs": [],
   "source": [
    "hst = HST('3dhst_master.phot.v4.1.cat.lite.hdf5')"
   ]
  },
  {
   "cell_type": "code",
   "execution_count": 8,
   "id": "31713567-a082-408e-bb5b-82ef1db0fedc",
   "metadata": {},
   "outputs": [],
   "source": [
    "emcee_file = Fileh5(folder='emcee_runs', info_file='hst_v2')\n",
    "emcee_run = EmceeRun(emcee_file)\n",
    "plotter = PlotterHst(hst, emcee_run)"
   ]
  },
  {
   "cell_type": "code",
   "execution_count": 9,
   "id": "e1e84244-2116-4c08-9079-34fa5e67461b",
   "metadata": {},
   "outputs": [],
   "source": [
    "emcee_run.set_best_params(discard=200)"
   ]
  },
  {
   "cell_type": "code",
   "execution_count": 10,
   "id": "659392fc-b1b5-4a1e-a090-7d299d7d9a70",
   "metadata": {},
   "outputs": [],
   "source": [
    "a0, a1, a2, alpha1, alpha2, a7, a8, a9 = emcee_run.get_best_params()"
   ]
  },
  {
   "cell_type": "code",
   "execution_count": 11,
   "id": "489d4607-7ce1-415d-b49c-0f5823137328",
   "metadata": {},
   "outputs": [],
   "source": [
    "plotter_hst = PlotterHst(hst, emcee_run)"
   ]
  },
  {
   "cell_type": "code",
   "execution_count": 12,
   "id": "cb1bdcf3-60b6-48f0-8750-4ca93ee0e6a8",
   "metadata": {
    "scrolled": true
   },
   "outputs": [
    {
     "data": {
      "image/png": "[encoded data removed]",
      "text/plain": [
       "<Figure size 1000x2000 with 5 Axes>"
      ]
     },
     "metadata": {},
     "output_type": "display_data"
    }
   ],
   "source": [
    "zmins = [0.5, 0.8, 1.3, 1.9, 2.4]\n",
    "zmaxs = [0.8, 1.3, 1.9, 2.4, 3.0]\n",
    "z0s = [0.65, 1.05, 1.6, 2.15, 2.7]\n",
    "\n",
    "plt.figure(figsize=(10,20))\n",
    "for p, zmin, zmax, z0_i in zip(range(0,5),zmins, zmaxs, z0s):\n",
    "    plt.subplot(3, 2, p+1)\n",
    "    \n",
    "    norm = normalisation(z0_i, zmin, zmax, emcee_run.get_best_params())\n",
    "    plot_zschechter_double(np.linspace(8,12.2, 100), z0_i, norm, emcee_run.get_best_params(), label=f'{z0_i}')\n",
    "\n",
    "    plt.plot(np.linspace(8,12.2, 100), smf_double_schechter_paper(np.linspace(8,12.2, 100), z0_i))\n",
    "    plt.ylim(1e-5, 10**(-1))\n",
    "    plt.xlim(8,12.5)\n",
    "    plt.legend(loc='best')\n",
    "plt.tight_layout()"
   ]
  },
  {
   "cell_type": "code",
   "execution_count": 13,
   "id": "561be15e-68d2-428d-b232-c66e3d538933",
   "metadata": {
    "scrolled": true
   },
   "outputs": [
    {
     "data": {
      "image/png": "[encoded data removed]",
      "text/plain": [
       "<Figure size 600x600 with 1 Axes>"
      ]
     },
     "metadata": {},
     "output_type": "display_data"
    }
   ],
   "source": [
    "plt.figure(figsize=(6,6))\n",
    "# for p, z0_i in enumerate([0.65, 1.05, 1.6, 2.15, 2.7]):\n",
    "zmins = [0.5, 0.8, 1.3, 1.9, 2.4]\n",
    "zmaxs = [0.8, 1.3, 1.9, 2.4, 3.0]\n",
    "for z0_i, zmin, zmax in zip([0.65, 1.05, 1.6, 2.15, 2.7], zmins, zmaxs):\n",
    "    # plt.subplot(3, 2, p+1)\n",
    "    norm = normalisation(z0_i, zmin, zmax, emcee_run.get_best_params())\n",
    "    plot_zschechter_double(np.linspace(8,12., 100), z0_i, norm, emcee_run.get_best_params(), label=f'{z0_i}')\n",
    "    plt.ylim(1e-5, 1e-1)\n",
    "    plt.xlim(8,12.)\n",
    "    plt.legend(loc='best')\n",
    "plt.tight_layout()"
   ]
  },
  {
   "cell_type": "code",
   "execution_count": 14,
   "id": "0bdd6eae-407a-47e0-a983-ca84a14d6a16",
   "metadata": {},
   "outputs": [],
   "source": [
    "zz, xx = hst.select_galaxies(0.5, 0.8)"
   ]
  },
  {
   "cell_type": "code",
   "execution_count": 15,
   "id": "f3c8ee07-56f6-40c1-980d-418095948702",
   "metadata": {},
   "outputs": [],
   "source": [
    "x = xx[xx<12.]\n",
    "z = zz[xx<12.]"
   ]
  },
  {
   "cell_type": "code",
   "execution_count": 16,
   "id": "eccba1f8-a0bd-4ee0-bda4-5b013b73bd28",
   "metadata": {},
   "outputs": [],
   "source": [
    "v_zmin = Planck13.comoving_volume(0.5).value * Planck13.h ** 3 # (Mpc/h)^3\n",
    "vmax = np.array([Planck13.comoving_volume(zmax_lim(m_i)).value - v_zmin for m_i in x]) * 0.25 / 41253 * Planck13.h **3"
   ]
  },
  {
   "cell_type": "code",
   "execution_count": 17,
   "id": "3841ca58-42de-4309-aabd-9769169e264e",
   "metadata": {},
   "outputs": [],
   "source": [
    "vmin_bin = Planck13.comoving_volume(0.5).value * Planck13.h ** 3\n",
    "vmax_bin = Planck13.comoving_volume(0.8).value * Planck13.h ** 3"
   ]
  },
  {
   "cell_type": "code",
   "execution_count": 18,
   "id": "71c95dd5-f7dd-49c2-b182-67c630dd7b6c",
   "metadata": {},
   "outputs": [],
   "source": [
    "vmax = vmax.clip(v_zmin, vmax_bin) -vmin_bin"
   ]
  },
  {
   "cell_type": "code",
   "execution_count": 19,
   "id": "36b728b5-84bb-4baa-b8ed-8b61f751836a",
   "metadata": {},
   "outputs": [
    {
     "name": "stderr",
     "output_type": "stream",
     "text": [
      "/var/folders/7q/qq4djnwd45n6znblnxh0t64m0000gn/T/ipykernel_15231/502189857.py:2: RuntimeWarning: divide by zero encountered in divide\n",
      "  plt.hist(x , weights=1/(vmax), bins=56, range=(6,13))\n"
     ]
    },
    {
     "data": {
      "image/png": "[encoded data removed]",
      "text/plain": [
       "<Figure size 600x600 with 1 Axes>"
      ]
     },
     "metadata": {},
     "output_type": "display_data"
    }
   ],
   "source": [
    "plt.figure(figsize=(6,6))\n",
    "plt.hist(x , weights=1/(vmax), bins=56, range=(6,13))\n",
    "norm = normalisation(0.65, 0.5, 0.8, emcee_run.get_best_params())\n",
    "plot_zschechter_double(np.linspace(8,12.2, 100), 0.65, norm, emcee_run.get_best_params(), label=f'{z0_i}')\n",
    "plt.ylim(1e-5, 1e-1)\n",
    "plt.xlim(8,12.)\n",
    "plt.yscale('log')"
   ]
  },
  {
   "cell_type": "code",
   "execution_count": 20,
   "id": "f64be407-baeb-4daa-b0d6-470670169860",
   "metadata": {},
   "outputs": [
    {
     "data": {
      "text/plain": [
       "(array([0., 0., 0., ..., 0., 0., 0.]), 0.31125221943299997)"
      ]
     },
     "execution_count": 20,
     "metadata": {},
     "output_type": "execute_result"
    }
   ],
   "source": [
    "vmax , Planck13.h ** 3"
   ]
  },
  {
   "cell_type": "code",
   "execution_count": null,
   "id": "bc9772f2-2cdd-4971-8a38-c4842f1c85c0",
   "metadata": {},
   "outputs": [],
   "source": [
    "z_lin = np.linspace(0.2, 3, 100)\n",
    "\n",
    "plt.figure(figsize=(8,8))\n",
    "\n",
    "plt.subplot(2,2,1)\n",
    "plt.plot(z_lin, par_at_z0([10.79, 10.88, 10.84], z_lin))\n",
    "plt.plot(z_lin, logMz(z_lin, a0, a1, a2))\n",
    "plt.ylim(10.79, 10.91)\n",
    "plt.xlim(0.2, 3)\n",
    "plt.ylabel(r'$\\log M^*$')\n",
    "plt.xlabel('z')\n",
    "\n",
    "plt.subplot(2, 2, 2)\n",
    "plt.plot(z_lin, par_at_z0([-2.44, -3.08, -4.14], z_lin))\n",
    "plt.ylim(-4, -2)\n",
    "plt.xlim(0.2, 3)\n",
    "plt.ylabel(r'$\\phi_{1}$')\n",
    "plt.xlabel('z')\n",
    "\n",
    "plt.subplot(2, 2, 3)\n",
    "plt.plot(z_lin, par_at_z0([-2.89, -3.29, -3.51], z_lin))\n",
    "plt.ylim(-3.52, -2.5)\n",
    "plt.xlim(0.2, 3)\n",
    "plt.ylabel(r'$\\phi_{2}$')\n",
    "plt.xlabel('z')\n",
    "\n",
    "plt.subplot(2, 2, 4)\n",
    "plt.plot(z_lin, par_at_z0([-2.89, -3.29, -3.51], z_lin) - par_at_z0([-2.44, -3.08, -4.14], z_lin))\n",
    "plt.plot(z_lin, logPhi2_Phi1(z_lin, a7, a8, a9))\n",
    "# plt.ylim(-3.52, -2.5)\n",
    "# plt.xlim(0.2, 3)\n",
    "plt.ylabel(r'$\\log(\\phi_{2}/\\phi_{1})$')\n",
    "plt.xlabel('z')\n",
    "\n",
    "plt.tight_layout()"
   ]
  },
  {
   "cell_type": "code",
   "execution_count": null,
   "id": "22fc087e-3310-4656-929d-02129f866e8d",
   "metadata": {},
   "outputs": [],
   "source": [
    "phi1s = []\n",
    "for zmin, zmax in zip(zmins, zmaxs):\n",
    "    phi1s.append(normalisation(z0_i, zmin, zmax, emcee_run.get_best_params()))"
   ]
  },
  {
   "cell_type": "code",
   "execution_count": null,
   "id": "bcb0ff0f-e106-457f-bf38-f09e27148fcc",
   "metadata": {},
   "outputs": [],
   "source": [
    "phi2s = []\n",
    "for norm, z0_i in zip(phi1s, z0s):\n",
    "    phi2s.append(norm*10**logPhi2_Phi1(z0_i, a7, a8, a9))"
   ]
  },
  {
   "cell_type": "code",
   "execution_count": null,
   "id": "65de6437-34ee-41bf-9b86-e8671a82f5a8",
   "metadata": {},
   "outputs": [],
   "source": [
    "plt.figure(figsize=(10,20))\n",
    "for p, zmin, zmax, z0_i in zip(range(0,5),zmins, zmaxs, z0s):\n",
    "    plt.subplot(3, 2, p+1)\n",
    "    \n",
    "    phi1 = normalisation(z0_i, zmin, zmax, emcee_run.get_best_params())\n",
    "    phi2 = norm*10**logPhi2_Phi1(z0_i, a7, a8, a9)\n",
    "    logm = logMz(z0_i, a0,a1,a2)\n",
    "    \n",
    "    \n",
    "    plt.plot(np.linspace(8,12,100), single_schechter(np.linspace(8,12,100), [logm, alpha1, np.log10(phi1)]), label=f'{z0_i}')\n",
    "    plt.plot(np.linspace(8,12,100), single_schechter(np.linspace(8,12,100), [logm, alpha2, np.log10(phi1)]), label=f'{z0_i}')\n",
    "    plot_zschechter_double(np.linspace(8,12.2, 100), z0_i, np.log(10)*phi1, emcee_run.get_best_params(), label=f'{z0_i}')\n",
    "    plt.ylim(1e-5, 1e-1)\n",
    "    plt.xlim(8,12.5)\n",
    "    plt.yscale('log')\n",
    "    plt.legend(loc='best')\n",
    "plt.tight_layout()"
   ]
  },
  {
   "cell_type": "markdown",
   "id": "2f649c9f-23d5-46c8-bf77-7829aed7418d",
   "metadata": {},
   "source": [
    "----\n",
    "----"
   ]
  },
  {
   "cell_type": "code",
   "execution_count": null,
   "id": "8d818ddd-2499-4fbb-b531-a785a4801ec0",
   "metadata": {},
   "outputs": [],
   "source": [
    "logM065, logPhi1065, logPhi2065= [logMz(2, a_logM, b_logM, c_logM), logPhi1z(2, a_logPhi1, b_logPhi1, c_logPhi1), \n",
    " logPhi2z(2, a_logPhi2, b_logPhi2, c_logPhi2)]"
   ]
  },
  {
   "cell_type": "code",
   "execution_count": null,
   "id": "792d1a30-451e-4dfc-aa22-b12d1ad232b5",
   "metadata": {},
   "outputs": [],
   "source": [
    "logM065, logPhi2065/logPhi1065"
   ]
  },
  {
   "cell_type": "code",
   "execution_count": null,
   "id": "a1790e0b-a0bb-4b6b-a676-3876b60eabd4",
   "metadata": {},
   "outputs": [],
   "source": [
    "a_logM, b_logM, c_logM"
   ]
  },
  {
   "cell_type": "code",
   "execution_count": null,
   "id": "b0305443-6c12-4133-bbe9-71cdb6bfde5b",
   "metadata": {},
   "outputs": [],
   "source": [
    " a_logPhi1, b_logPhi1, c_logPhi1"
   ]
  },
  {
   "cell_type": "code",
   "execution_count": null,
   "id": "21f07fe8-8f0e-4fcb-89ad-f2a84b0a7a9e",
   "metadata": {},
   "outputs": [],
   "source": [
    "a_logPhi2, b_logPhi2, c_logPhi2"
   ]
  },
  {
   "cell_type": "code",
   "execution_count": null,
   "id": "e4f3c5bc-03f9-4aa8-a22c-f0561be5b39d",
   "metadata": {},
   "outputs": [],
   "source": [
    "for i in [0.5, 1, 1.5, 2., 3., 4. ]:\n",
    "    print(logPhi2z(i, a_logPhi2, b_logPhi2, c_logPhi2) - logPhi1z(i, a_logPhi1, b_logPhi1, c_logPhi1))"
   ]
  },
  {
   "cell_type": "code",
   "execution_count": null,
   "id": "34210eb6-1e4f-4dc1-97aa-4bd676453a6f",
   "metadata": {},
   "outputs": [],
   "source": [
    "from scipy.optimize import curve_fit"
   ]
  },
  {
   "cell_type": "code",
   "execution_count": null,
   "id": "c4fc9cd8-bba7-448a-9343-77b7aa6c94e9",
   "metadata": {},
   "outputs": [],
   "source": [
    "curve_fit(logPhi1z, np.array([0.5, 1, 1.5, 2., 3, 4]), np.array([-0.449,-0.386,-0.247, -0.031, 0.629, 1.597]))"
   ]
  },
  {
   "cell_type": "code",
   "execution_count": null,
   "id": "3e96615f-915c-4baa-bce4-787aa0c623c3",
   "metadata": {},
   "outputs": [],
   "source": [
    "emcee_file = Fileh5(folder='emcee_runs/bin_tests_runs/HST/', info_file='new')"
   ]
  },
  {
   "cell_type": "code",
   "execution_count": null,
   "id": "e4a296e0-1def-4b0c-98eb-8944f984f875",
   "metadata": {},
   "outputs": [],
   "source": [
    "emcee_run = EmceeRun(emcee_file)"
   ]
  },
  {
   "cell_type": "code",
   "execution_count": null,
   "id": "7a9b7cc1-68e8-4cfb-a570-6f80d3bb8769",
   "metadata": {},
   "outputs": [],
   "source": [
    "plotter_hst.plot_emcee_samples()"
   ]
  },
  {
   "cell_type": "code",
   "execution_count": null,
   "id": "e252b349-db72-4a73-aa20-06a8681bee71",
   "metadata": {},
   "outputs": [],
   "source": [
    "emcee_run.set_best_params(discard=200)"
   ]
  },
  {
   "cell_type": "code",
   "execution_count": null,
   "id": "5652f636-f156-4d15-a86a-12bae6176f17",
   "metadata": {},
   "outputs": [],
   "source": [
    "plotter_hst.plot_emcee_corner(emcee_run.flat_samples, emcee_run.labels4)"
   ]
  },
  {
   "cell_type": "code",
   "execution_count": null,
   "id": "cd815f9a-2480-4cc9-93df-e26c793911c4",
   "metadata": {},
   "outputs": [],
   "source": [
    "plotter_z.plot_emcee_samples8()"
   ]
  },
  {
   "cell_type": "code",
   "execution_count": null,
   "id": "0564afc4-25cd-4d65-8d34-df5e347b89e4",
   "metadata": {},
   "outputs": [],
   "source": [
    "emcee_run_z.set_best_params(discard=300)"
   ]
  },
  {
   "cell_type": "code",
   "execution_count": null,
   "id": "6db2d223-bfa0-4092-9723-e57db82003a7",
   "metadata": {},
   "outputs": [],
   "source": [
    "plotter_hst.plot_emcee_corner(emcee_run_z.flat_samples, emcee_run_z.labels8)"
   ]
  },
  {
   "cell_type": "code",
   "execution_count": null,
   "id": "36bb09b7-8f17-43b3-9aa9-7f50fbac32c0",
   "metadata": {},
   "outputs": [],
   "source": [
    "a0, a1, a2, alpha1, alpha2, a7, a8, a9 = emcee_run_z.get_best_params()"
   ]
  },
  {
   "cell_type": "code",
   "execution_count": null,
   "id": "068462ff-b741-4486-89e4-d769b13eb101",
   "metadata": {},
   "outputs": [],
   "source": [
    "def smf_double_schechter_sty(x, z,  a0, a1, a2, alpha1, alpha2, a7, a8, a9):\n",
    "    logM = a0*z**2 + a1*z + a2\n",
    "#     alpha1 = -.28\n",
    "#     alpha2 = -1.48\n",
    "    log_phi2_phi1 = a7*z**2 + a8*z + a9\n",
    "    \n",
    "    term0 = np.exp(-10 ** (x-logM))\n",
    "    term1 = 10 ** ((alpha2+1)*(x - logM))\n",
    "    term2 = 10 ** ((alpha1+1)*(x - logM) + log_phi2_phi1)\n",
    "    return term0 * (term1 + term2)\n",
    "\n",
    "\n",
    "def par_at_z0(y,z0,z1=0.2,z2=1.6,z3=3.0):\n",
    "    \"\"\"\n",
    "    Compute parameter at redshift ‘z0‘ as a function\n",
    "    of the polynomial parameters ‘y‘ and the\n",
    "    redshift anchor points ‘z1‘, ‘z2‘, and ‘z3‘.\n",
    "    \"\"\"\n",
    "    y1, y2, y3 = y\n",
    "    a = (((y3-y1) + (y2-y1) / (z2-z1) * (z1-z3)) / (z3**2-z1**2 + (z2**2-z1**2) / (z2-z1) * (z1-z3)))\n",
    "    b = ((y2-y1) - a * (z2**2-z1**2)) / (z2-z1)\n",
    "    c = y1-a * z1**2 - b * z1\n",
    "    return a * z0**2 + b * z0 + c\n",
    "    \n",
    "\n",
    "\n",
    "def smf_double_schechter_paper(x, z0_i):\n",
    "\n",
    "    logM = par_at_z0([10.79, 10.88, 10.84], z0_i)\n",
    "    logphi1 = par_at_z0([-2.44, -3.08, -4.14], z0_i)\n",
    "    logphi2 = par_at_z0([-2.89, -3.29, -3.51], z0_i)\n",
    "    \n",
    "    term0 = np.exp(-10 ** (x-logM))\n",
    "    term1 = 10**logphi2 * 10 ** ((alpha2+1)*(x - logM))\n",
    "    term2 = 10**logphi1 * 10 ** ((alpha1+1)*(x - logM))\n",
    "    return term0 * (term1 + term2)\n",
    "\n",
    "\n",
    "\n",
    "def plot_zschechter_double(x, z0, norm, best_params, **plot_params):\n",
    "    a0, a1, a2, alpha1, alpha2, a7, a8, a9 = best_params\n",
    "    zschechter = smf_double_schechter_sty(x, z0,  a0, a1, a2, alpha1, alpha2, a7, a8, a9)\n",
    "    plt.plot(x, norm * zschechter, **plot_params)\n",
    "\n",
    "    plt.yscale('log')\n",
    "    plt.ylim(1e-5, 4e-2)\n",
    "    plt.xlim(7, 13)\n",
    "\n",
    "    plt.xlabel(r'$\\log M_*$', fontsize=15)\n",
    "    plt.ylabel(r'$p(\\log M_*)$ [$({\\rm Mpc}/h)^{-3}{\\rm dex}^{-1}$]', fontsize=15)"
   ]
  },
  {
   "cell_type": "code",
   "execution_count": null,
   "id": "58642b55-b278-44e0-8638-64cd41d34932",
   "metadata": {},
   "outputs": [],
   "source": [
    "from scipy import integrate\n",
    "def normalisation(z0, zmin, zmax, best_params):\n",
    "    a0, a1, a2, alpha1, alpha2, a7, a8, a9 = best_params\n",
    "    v_zmin = Planck13.comoving_volume(zmin).value * Planck13.h * 0.25/ 41253 # (Mpc/h)^3\n",
    "    v_zmax = Planck13.comoving_volume(zmax).value * Planck13.h * 0.25/ 41253 # (Mpc/h)^3\n",
    "    m_max = 13.\n",
    "    m_min = 6.\n",
    "    nbin = 40\n",
    "    bin_size = (m_max - m_min) / nbin\n",
    "\n",
    "    z, x = hst.select_galaxies(zmin, zmax)\n",
    "    z = z[x<12.]\n",
    "    x = x[x<12.]\n",
    "    \n",
    "    I = [integrate.quad(smf_double_schechter_sty, hst.mass_completeness_limit(z)[i], 12., args=(z0, a0, a1, a2, alpha1, alpha2, a7, a8, a9))[0] for i in\n",
    "             range(z.shape[0])]\n",
    "    return 1 / (v_zmax - v_zmin) * np.sum((bin_size) / np.array(I))"
   ]
  },
  {
   "cell_type": "code",
   "execution_count": null,
   "id": "f6056e2e-3e10-49d0-8503-70540fe95984",
   "metadata": {},
   "outputs": [],
   "source": [
    "plt.figure(figsize=(6,6))\n",
    "# for p, z0_i in enumerate([0.65, 1.05, 1.6, 2.15, 2.7]):\n",
    "zmins = [0.5, 0.8, 1.3, 1.9, 2.4]\n",
    "zmaxs = [0.8, 1.3, 1.9, 2.4, 3.0]\n",
    "for z0_i, zmin, zmax in zip([0.65, 1.05, 1.6, 2.15, 2.7], zmins, zmaxs):\n",
    "    # plt.subplot(3, 2, p+1)\n",
    "    norm = normalisation(z0_i, zmin, zmax, emcee_run.get_best_params())\n",
    "    plot_zschechter_double(np.linspace(8,12., 100), z0_i, np.log(10)*norm, emcee_run.get_best_params(), label=f'{z0_i}')\n",
    "    plt.ylim(1e-5, 1e-1)\n",
    "    plt.xlim(8,12.)\n",
    "    plt.legend(loc='best')\n",
    "plt.tight_layout()"
   ]
  },
  {
   "cell_type": "code",
   "execution_count": null,
   "id": "e5dd3577-8ad5-4f81-8c21-d6f7b431dad3",
   "metadata": {},
   "outputs": [],
   "source": [
    "# norms = []\n",
    "# for z0_i, zmin, zmax in zip([0.65, 1.05, 1.6, 2.15, 2.7], zmins, zmaxs):\n",
    "#     # plt.subplot(3, 2, p+1)\n",
    "#     norms.append(normalisation(z0_i, zmin, zmax, emcee_run_z.get_best_params()))"
   ]
  },
  {
   "cell_type": "code",
   "execution_count": null,
   "id": "6e61ef3d-2726-4f71-ab26-dece1c9b7fca",
   "metadata": {},
   "outputs": [],
   "source": [
    "plt.figure(figsize=(10,20))\n",
    "for p, zmin, zmax, z0_i in zip(range(0,5),zmins, zmaxs, [0.65, 1.05, 1.6, 2.15, 2.7]):\n",
    "    plt.subplot(3, 2, p+1)\n",
    "    \n",
    "    norm = normalisation(z0_i, zmin, zmax, emcee_run.get_best_params())\n",
    "    plot_zschechter_double(np.linspace(8,12.2, 100), z0_i, np.log(10)*norm, emcee_run.get_best_params(), label=f'{z0_i}')\n",
    "\n",
    "    plt.plot(np.linspace(8,12.2, 100), smf_double_schechter_paper(np.linspace(8,12.2, 100), z0_i))\n",
    "    plt.ylim(1e-5, 2e-1)\n",
    "    plt.xlim(8,12.5)\n",
    "    plt.legend(loc='best')\n",
    "plt.tight_layout()"
   ]
  },
  {
   "cell_type": "code",
   "execution_count": null,
   "id": "d92c72fd-6352-4fb7-905f-ff1ac95166f8",
   "metadata": {},
   "outputs": [],
   "source": [
    "list(enumerate(zip(zmins, zmaxs, [0.65, 1.05, 1.6, 2.15, 2.7])))"
   ]
  },
  {
   "cell_type": "code",
   "execution_count": null,
   "id": "010d7eaa-3910-4747-9ccf-438e0c4f5da8",
   "metadata": {},
   "outputs": [],
   "source": [
    "z_lin = np.linspace(0.5, 3, 100)\n",
    "plt.figure(figsize=(8,8))\n",
    "\n",
    "plt.subplot(2,2,1)\n",
    "plt.plot(z_lin, logMz(z_lin, a_logM, b_logM, c_logM))\n",
    "plt.plot(z_lin, logMz(z_lin, a0, a1, a2))\n",
    "plt.ylim(10.79, 11.5)\n",
    "plt.xlim(0.2, 3)\n",
    "\n",
    "plt.subplot(2, 2, 2)\n",
    "plt.plot(z_lin, logPhi1z(z_lin, a_logPhi1, b_logPhi1, c_logPhi1))\n",
    "plt.ylim(-4, -2)\n",
    "plt.xlim(0.2, 3)\n",
    "\n",
    "plt.subplot(2, 2, 3)\n",
    "plt.plot(z_lin, logPhi2z(z_lin, a_logPhi2, b_logPhi2, c_logPhi2))\n",
    "plt.ylim(-3.52, -2.5)\n",
    "plt.xlim(0.2, 3)\n",
    "\n",
    "plt.subplot(2, 2, 4)\n",
    "plt.plot(z_lin, logPhi2z(z_lin, a_logPhi2, b_logPhi2, c_logPhi2) - logPhi1z(z_lin, a_logPhi1, b_logPhi1, c_logPhi1))\n",
    "plt.plot(z_lin, logPhi1z(z_lin, a7, a8, a9))\n",
    "# plt.ylim(-3.52, -2.5)\n",
    "# plt.xlim(0.2, 3)"
   ]
  },
  {
   "cell_type": "code",
   "execution_count": null,
   "id": "8b711edb-5912-4e52-a1e4-8466aacf6461",
   "metadata": {},
   "outputs": [],
   "source": [
    "logMz(2.7, a0, a1, a2)"
   ]
  },
  {
   "cell_type": "code",
   "execution_count": null,
   "id": "68d35e9f-4278-4509-b1e6-fff3a9dcb613",
   "metadata": {},
   "outputs": [],
   "source": [
    "from scipy import integrate\n",
    "def log_likelihood(logM, alpha1, alpha2, phi2_phi1, x, z):\n",
    "    q = smf_double_schechter_sty(x, logM, alpha1, alpha2, phi2_phi1)\n",
    "\n",
    "    mlim = mass_completeness_limit(z)\n",
    "    I = [integrate.quad(smf_double_schechter_sty, mlim[i], 12., args=(logM, alpha1, alpha2, phi2_phi1))[0] for i in range(z.shape[0])]\n",
    "\n",
    "    a = np.log10(q) - np.log10(I)\n",
    "    \n",
    "    return a\n",
    "\n",
    "def smf_double_schechter_sty(x, logM, alpha1, alpha2, phi2_phi1):\n",
    "    term0 = np.exp(-10 ** (x-logM))\n",
    "    term1 = 10 ** ((alpha1+1)*(x - logM))\n",
    "    term2 = 10**np.log10(phi2_phi1) * 10 ** ((alpha2+1)*(x - logM))\n",
    "    return term0 * (term1 + term2)\n",
    "\n",
    "def mass_completeness_limit(z):\n",
    "    \n",
    "    x_values = [0.5, 0.65, 1.0, 1.5, 2.1, 3.0]\n",
    "    y_values = [8.72, 8.72, 9.07, 9.63, 9.79, 10.15]\n",
    "    \n",
    "    f = interp1d(x_values, y_values)\n",
    "    return f(z)"
   ]
  },
  {
   "cell_type": "code",
   "execution_count": null,
   "id": "4c3d49ed-1ebe-4d7f-8d09-71b2c406fbc6",
   "metadata": {},
   "outputs": [],
   "source": [
    "zz, xx = hst.select_galaxies(0.5, 0.8)\n",
    "x = xx[xx<12.]\n",
    "z = zz[xx<12.]"
   ]
  },
  {
   "cell_type": "code",
   "execution_count": null,
   "id": "74c20be4-2636-49e6-8827-e93d00f36e7f",
   "metadata": {},
   "outputs": [],
   "source": [
    "logM, alpha1, alpha2, phi2_phi1 = emcee_run.samples[-1, -1, :]"
   ]
  },
  {
   "cell_type": "code",
   "execution_count": null,
   "id": "3e168dac-6ac4-47ad-ae6b-192e9b061a53",
   "metadata": {},
   "outputs": [],
   "source": [
    "log_likelihood(10.94904972281439, -1.1834147027433823, -1.4153880363892524, -0.11456322719589629, x, z)"
   ]
  },
  {
   "cell_type": "code",
   "execution_count": null,
   "id": "c52955c7-c6c3-46d0-b7ff-1eb50b2f617a",
   "metadata": {},
   "outputs": [],
   "source": [
    "plt.figure(figsize=(8,8))\n",
    "plotter_hst.plot_selected_data(0.5, 3.0)\n",
    "plt.plot(hst.zmax_lim(10.5), 10.5, 'o', color='red')\n",
    "# plotter_hst.plot_selected_data(0.5, 0.8)\n",
    "# plt.plot(np.linspace(0.65, 3.0, 100), np.repeat(hst.mass_completeness_limit(3.0), 100))\n",
    "# plt.plot(np.linspace(0.65, 3.0, 100), np.repeat(12, 100))"
   ]
  },
  {
   "cell_type": "code",
   "execution_count": null,
   "id": "fe7886e1-b303-4539-9d91-5d209a81e4e6",
   "metadata": {},
   "outputs": [],
   "source": [
    "hst.z.max()"
   ]
  },
  {
   "cell_type": "code",
   "execution_count": null,
   "id": "b4f45f9b-46f7-4237-a6f0-32eb5c5c90ca",
   "metadata": {},
   "outputs": [],
   "source": [
    "z, x = hst.select_galaxies(1.3, 1.9)"
   ]
  },
  {
   "cell_type": "code",
   "execution_count": null,
   "id": "340ce69c-fb1a-41fd-acdb-653f2e285ce8",
   "metadata": {},
   "outputs": [],
   "source": [
    "xx = x[(x > 10.15) & (x < 12.)]\n",
    "zz = z[(x > 10.15) & (x < 12.)]\n",
    "xxx = x[(x < 10.15)]\n",
    "zzz = z[(x < 10.15)]"
   ]
  },
  {
   "cell_type": "code",
   "execution_count": null,
   "id": "04fb4e16-be05-4050-84a3-1bc95fa3d348",
   "metadata": {},
   "outputs": [],
   "source": [
    "plt.plot(zz, xx, 'o', markersize=0.5)\n",
    "plt.plot(zzz, xxx, 'o', markersize=0.5)\n",
    "plt.xlim(0., 3)\n",
    "plt.ylim(6, 12)"
   ]
  },
  {
   "cell_type": "code",
   "execution_count": null,
   "id": "5cb60a91-7c85-4935-972d-f2c7c5cf151b",
   "metadata": {},
   "outputs": [],
   "source": [
    "v_zmin = Planck13.comoving_volume(0.5).value  * 0.25 / 41253  # (Mpc/h)^3\n",
    "vmax = np.array([(Planck15.comoving_volume(zmax_lim(m_i)).value  * 0.25 / 41253) - v_zmin for m_i in x])"
   ]
  },
  {
   "cell_type": "code",
   "execution_count": null,
   "id": "1f452163-2a70-4e6f-9c88-274607c4a33e",
   "metadata": {},
   "outputs": [],
   "source": [
    "vmin_bin = Planck13.comoving_volume(1.3).value  * 0.25  / 41253\n",
    "vmax_bin = Planck13.comoving_volume(1.9).value   * 0.25 / 41253"
   ]
  },
  {
   "cell_type": "code",
   "execution_count": null,
   "id": "499a6c35-cd50-49ec-a94a-9a7b0d724c77",
   "metadata": {},
   "outputs": [],
   "source": [
    "# vmax_blw = np.array([(Planck15.comoving_volume(zmax_lim(m_i)).value  * 0.25 / 41253) - v_zmin for m_i in xxx])* Planck13.h **3"
   ]
  },
  {
   "cell_type": "code",
   "execution_count": null,
   "id": "61112d22-4099-48d0-b2a2-c2bfe8188be6",
   "metadata": {},
   "outputs": [],
   "source": [
    "vmax = vmax.clip(vmin_bin, vmax_bin) - vmin_bin\n",
    "# vmax_blw = vmax_blw.clip(vmin_bin, vmax_bin) - vmin_bin"
   ]
  },
  {
   "cell_type": "code",
   "execution_count": null,
   "id": "02bc7a7b-09b4-47a2-9c92-3c9b81f5dc59",
   "metadata": {},
   "outputs": [],
   "source": [
    "plt.hist(x , weights=1/(vmax), bins=40, range=(6,13))\n",
    "# plt.hist(xxx, weights=1/(vmax_blw), bins=40, range=(8,12))\n",
    "plt.ylim(1e-5, 1e-1)\n",
    "plt.yscale('log')"
   ]
  },
  {
   "cell_type": "code",
   "execution_count": null,
   "id": "890dfb5a-f43a-4b6a-9cec-1f7f1ce1a186",
   "metadata": {},
   "outputs": [],
   "source": [
    "z, x = hst.select_galaxies(0.5, 3.0)"
   ]
  },
  {
   "cell_type": "code",
   "execution_count": null,
   "id": "5cfecafd-e2fa-4088-b3e4-cb1a08bda9be",
   "metadata": {},
   "outputs": [],
   "source": [
    "plt.figure(figsize=(8,8))\n",
    "plt.plot(Planck13.lookback_time(1500) - Planck13.lookback_time(z), x, 'o', markersize=0.4)\n",
    "plt.ylim(8, 12)\n",
    "plt.xlim(2.2, 12)"
   ]
  },
  {
   "cell_type": "code",
   "execution_count": null,
   "id": "27b07e43-8982-425d-8ba3-30b1f0ea18d0",
   "metadata": {},
   "outputs": [],
   "source": [
    "vmax_hst = VmaxDensityHst(hst.file)\n",
    "h, b = vmax_hst.histogram_norm(0.8, 1.30)\n",
    "PlotterHst.plot_vmax_hist(h, b, h, b)"
   ]
  },
  {
   "cell_type": "code",
   "execution_count": null,
   "id": "0c8899f3-0cac-415f-a803-ddabe104bcaa",
   "metadata": {},
   "outputs": [],
   "source": [
    "z, x = hst.select_galaxies(0.8, 1.3)"
   ]
  },
  {
   "cell_type": "code",
   "execution_count": null,
   "id": "1bf8a93b-7587-4b39-8b49-0adab2099332",
   "metadata": {},
   "outputs": [],
   "source": [
    "from astropy.cosmology import Planck13\n",
    "from scipy.interpolate import interp1d\n",
    "\n",
    "v_zmin = Planck13.comoving_volume(0.5).value * Planck13.h ** 3 * 0.25 / 41253  # (Mpc/h)^3\n",
    "# v_zmax = Planck13.comoving_volume(zmax).value * Planck13.h ** 3 * self.footprint / self.sky  # (Mpc/h)^3\n",
    "vmax = np.array([Planck13.comoving_volume(zmax_lim(m_i)).value * Planck13.h ** 3 * 0.25 / 41253 - v_zmin for m_i in x])\n"
   ]
  },
  {
   "cell_type": "code",
   "execution_count": null,
   "id": "dce9a561-48cc-48c0-9b03-4dba9e0727d6",
   "metadata": {},
   "outputs": [],
   "source": [
    "hist, bin_edges = np.histogram(x, bins=100, range=(6., 13.), weights=1/vmax)"
   ]
  },
  {
   "cell_type": "code",
   "execution_count": null,
   "id": "9368a7db-e005-4a00-9e44-961ad04be6a5",
   "metadata": {},
   "outputs": [],
   "source": [
    "PlotterHst.plot_vmax_hist(h, b, h, b)\n",
    "plt.hist(x, bins=40, range=(6., 13.), weights=1/vmax)\n",
    "plt.yscale('log')\n",
    "plt.xlim(8,12)\n",
    "plt.ylim(1e-5, 4e-1)"
   ]
  },
  {
   "cell_type": "code",
   "execution_count": null,
   "id": "3a5771e0-1f35-4e56-86d8-05f7bb31d73b",
   "metadata": {},
   "outputs": [],
   "source": [
    "vmax"
   ]
  },
  {
   "cell_type": "code",
   "execution_count": null,
   "id": "f2ac8e2e-3162-484e-939f-471b42aacdac",
   "metadata": {},
   "outputs": [],
   "source": [
    "emcee_file_0508 = Fileh5(folder='emcee_runs/bin_tests_runs/HST', info_file='50w_300step_0.5_0.8')\n",
    "emcee_file_0813 = Fileh5(folder='emcee_runs/bin_tests_runs/HST', info_file='50w_300step_0.8_1.3')\n",
    "emcee_file_1319 = Fileh5(folder='emcee_runs/bin_tests_runs/HST', info_file='50w_300step_1.3_1.9')\n",
    "emcee_file_1924 = Fileh5(folder='emcee_runs/bin_tests_runs/HST', info_file='50w_300step_1.9_2.4')\n",
    "emcee_file_2430 = Fileh5(folder='emcee_runs/bin_tests_runs/HST', info_file='50w_300step_2.4_3.0')\n",
    "\n",
    "emcee_run_0508 = EmceeRun(emcee_file_0508)\n",
    "emcee_run_0813 = EmceeRun(emcee_file_0813)\n",
    "emcee_run_1319 = EmceeRun(emcee_file_1319)\n",
    "emcee_run_1924 = EmceeRun(emcee_file_1924)\n",
    "emcee_run_2430 = EmceeRun(emcee_file_2430)\n",
    "\n",
    "emcee_run_0508.set_best_params(discard=110)\n",
    "emcee_run_0813.set_best_params(discard=110)\n",
    "emcee_run_1319.set_best_params(discard=110)\n",
    "emcee_run_1924.set_best_params(discard=110)\n",
    "emcee_run_2430.set_best_params(discard=110)\n",
    "emcee_runs = [emcee_run_0508, emcee_run_0813, emcee_run_1319, emcee_run_1924, emcee_run_2430]\n",
    "\n",
    "best_params_0508 = emcee_run_0508.get_best_params()\n",
    "best_params_0813 = emcee_run_0813.get_best_params()\n",
    "best_params_1319 = emcee_run_1319.get_best_params()\n",
    "best_params_1924 = emcee_run_1924.get_best_params()\n",
    "best_params_2430 = emcee_run_2430.get_best_params()\n",
    "best_params = [best_params_0508, best_params_0813, best_params_1319, best_params_1924, best_params_2430]"
   ]
  },
  {
   "cell_type": "code",
   "execution_count": null,
   "id": "df02c936-091e-4490-8cc8-3b971f9371e2",
   "metadata": {},
   "outputs": [],
   "source": [
    "plt.figure(figsize=(15,7.5))\n",
    "\n",
    "z_i = np.array([0.65, 1.05, 1.6, 2.15, 2.7])\n",
    "\n",
    "plt.subplot(1,2,1)\n",
    "for zii, best_i in zip(z_i, best_params):\n",
    "    plt.plot(zii, best_i[0], 'o')\n",
    "    plt.ylim(10, 12)\n",
    "\n",
    "plt.subplot(1,2,2)\n",
    "for zii, best_i in zip(z_i, best_params):\n",
    "    plt.plot(zii, best_i[1], 'o')\n",
    "    plt.ylim(-3, 0)"
   ]
  },
  {
   "cell_type": "code",
   "execution_count": null,
   "id": "76f6dc0e-9ebb-440a-b367-54d2065d50ae",
   "metadata": {},
   "outputs": [],
   "source": [
    "plt.figure(figsize=(8,8))\n",
    "for zii, best_i in zip(z_i, best_params):\n",
    "    PlotterHst.plot_NoZschechter(np.linspace(7,13, 100),best_i, **{'label':f'{zii}'})\n",
    "\n",
    "plt.legend()"
   ]
  },
  {
   "cell_type": "code",
   "execution_count": null,
   "id": "f51f15f0-9627-480c-9ac9-2e429d6cc388",
   "metadata": {},
   "outputs": [],
   "source": [
    "emcee_file_0508_dl = Fileh5(folder='emcee_runs/bin_tests_runs/HST', info_file='70w_400step_0.5_0.8_double')\n",
    "emcee_file_0813_dl = Fileh5(folder='emcee_runs/bin_tests_runs/HST', info_file='70w_400step_0.8_1.3_double')\n",
    "emcee_file_1319_dl = Fileh5(folder='emcee_runs/bin_tests_runs/HST', info_file='70w_400step_1.3_1.9_double')\n",
    "emcee_file_1924_dl = Fileh5(folder='emcee_runs/bin_tests_runs/HST', info_file='70w_400step_1.9_2.4_double')\n",
    "emcee_file_2430_dl = Fileh5(folder='emcee_runs/bin_tests_runs/HST', info_file='70w_400step_2.4_3.0_double')\n",
    "\n",
    "emcee_run_0508_dl = EmceeRun(emcee_file_0508_dl)\n",
    "emcee_run_0813_dl = EmceeRun(emcee_file_0813_dl)\n",
    "emcee_run_1319_dl = EmceeRun(emcee_file_1319_dl)\n",
    "emcee_run_1924_dl = EmceeRun(emcee_file_1924_dl)\n",
    "emcee_run_2430_dl = EmceeRun(emcee_file_2430_dl)\n",
    "\n",
    "emcee_run_0508_dl.set_best_params(discard=110)\n",
    "emcee_run_0813_dl.set_best_params(discard=110)\n",
    "emcee_run_1319_dl.set_best_params(discard=110)\n",
    "emcee_run_1924_dl.set_best_params(discard=110)\n",
    "emcee_run_2430_dl.set_best_params(discard=110)\n",
    "emcee_runs_dl = [emcee_run_0508, emcee_run_0813, emcee_run_1319, emcee_run_1924, emcee_run_2430]\n",
    "\n",
    "best_params_0508_dl = emcee_run_0508_dl.get_best_params()\n",
    "best_params_0813_dl = emcee_run_0813_dl.get_best_params()\n",
    "best_params_1319_dl = emcee_run_1319_dl.get_best_params()\n",
    "best_params_1924_dl = emcee_run_1924_dl.get_best_params()\n",
    "best_params_2430_dl = emcee_run_2430_dl.get_best_params()\n",
    "best_params_dl = [best_params_0508_dl, best_params_0813_dl, best_params_1319_dl, best_params_1924_dl, best_params_2430_dl]"
   ]
  },
  {
   "cell_type": "code",
   "execution_count": null,
   "id": "71a3598b-671e-4d42-8f13-2ce187524eaf",
   "metadata": {},
   "outputs": [],
   "source": [
    "plotter_1319_dl = PlotterHst(hst, emcee_run_1319_dl)\n",
    "plotter_1924_dl = PlotterHst(hst, emcee_run_1924_dl)\n",
    "plotter_2430_dl = PlotterHst(hst, emcee_run_2430_dl)"
   ]
  },
  {
   "cell_type": "code",
   "execution_count": null,
   "id": "0f7b184a-377b-4869-b849-9fe2a6bf4578",
   "metadata": {},
   "outputs": [],
   "source": [
    "# plotter_1319_dl.plot_emcee_samples3()"
   ]
  },
  {
   "cell_type": "code",
   "execution_count": null,
   "id": "fb544db3-63c8-41cc-897d-d0e160b00bce",
   "metadata": {},
   "outputs": [],
   "source": [
    "# plotter_1924_dl.plot_emcee_samples3()"
   ]
  },
  {
   "cell_type": "code",
   "execution_count": null,
   "id": "b736557d-12f7-43d6-b49e-0e7e092286f4",
   "metadata": {},
   "outputs": [],
   "source": [
    "# plotter_2430_dl.plot_emcee_samples3()"
   ]
  },
  {
   "cell_type": "code",
   "execution_count": null,
   "id": "04f172fd-87b0-428f-96f1-4b7162b8d45a",
   "metadata": {},
   "outputs": [],
   "source": [
    "def logmZ(x, a, b, c):\n",
    "    return a*x**2 + b*x + c\n",
    "\n",
    "def alphaZ(x, a, b):\n",
    "    return a*x + b\n",
    "\n",
    "from scipy.optimize import curve_fit\n",
    "popt_logm, _ = curve_fit(logmZ, np.array(z_i)[1:], np.array(best_params_dl)[:,0][1:])\n",
    "\n",
    "\n",
    "popt_alpha1, _ = curve_fit(alphaZ, np.array(z_i), np.array(best_params_dl)[:,1])\n",
    "\n",
    "popt_alpha2, _ = curve_fit(alphaZ, np.array(z_i), np.array(best_params_dl)[:,2])"
   ]
  },
  {
   "cell_type": "code",
   "execution_count": null,
   "id": "fd34ee76-9aeb-40f1-bbbc-aad73d2eadb2",
   "metadata": {},
   "outputs": [],
   "source": [
    "plt.figure(figsize=(15,7.5))\n",
    "\n",
    "z_i = np.array([0.65, 1.05, 1.6, 2.15, 2.7])\n",
    "logMpar = np.array([-1.83937458e-01,  3.40834292e+02, -3.31031442e+02])\n",
    "\n",
    "plt.subplot(2,2,1)\n",
    "for zii, best_i in zip(z_i, best_params_dl):\n",
    "    plt.plot(zii, best_i[0], 'o')\n",
    "    plt.plot(np.linspace(0.1, 3, 100), logmZ(np.linspace(0.1, 3, 100), popt_logm[0], popt_logm[1], popt_logm[2]))\n",
    "    plt.xlim(0,3.05)\n",
    "    plt.ylim(10, 12)\n",
    "\n",
    "plt.subplot(2,2,2)\n",
    "for zii, best_i in zip(z_i, best_params_dl):\n",
    "    plt.plot(zii, best_i[1], 'o')\n",
    "    plt.plot(np.linspace(0.1, 3, 100), alphaZ(np.linspace(0.1, 3, 100), popt_alpha1[0], popt_alpha1[1]))\n",
    "    plt.xlim(0,3.05)\n",
    "    plt.ylim(-3, 2)\n",
    "\n",
    "\n",
    "plt.subplot(2,2,3)\n",
    "for zii, best_i in zip(z_i, best_params_dl):\n",
    "    plt.plot(zii, best_i[2], 'o')\n",
    "    plt.plot(np.linspace(0.1, 3, 100), alphaZ(np.linspace(0.1, 3, 100), popt_alpha2[0], popt_alpha2[1]))\n",
    "    plt.xlim(0,3.05)\n",
    "    plt.ylim(-3, 0)"
   ]
  },
  {
   "cell_type": "code",
   "execution_count": null,
   "id": "4f56162e-d8aa-403c-9aac-d884bfdc911f",
   "metadata": {},
   "outputs": [],
   "source": [
    "popt_logm, popt_alpha1, popt_alpha2"
   ]
  },
  {
   "cell_type": "code",
   "execution_count": null,
   "id": "5009862d-a218-4bbd-8b2e-fc2668668b14",
   "metadata": {},
   "outputs": [],
   "source": [
    "file = Fileh5(folder='emcee_runs', info_file='ZDoubleSchechter_50w_700step')\n",
    "emcee_run_hst = EmceeRun(file)"
   ]
  },
  {
   "cell_type": "code",
   "execution_count": null,
   "id": "d1c37133-0aa1-43f3-96b0-a714b581db61",
   "metadata": {},
   "outputs": [],
   "source": [
    "plotter_hst  = PlotterHst(hst, emcee_run_hst)"
   ]
  },
  {
   "cell_type": "code",
   "execution_count": null,
   "id": "d79195c3-469c-4764-a67a-bba55475155d",
   "metadata": {},
   "outputs": [],
   "source": [
    "plotter_hst.plot_emcee_samplesZ()"
   ]
  },
  {
   "cell_type": "code",
   "execution_count": null,
   "id": "c0291616-28b9-47f3-9f3c-e8275edab232",
   "metadata": {},
   "outputs": [],
   "source": [
    "emcee_run_hst.set_best_params(discard=350)"
   ]
  },
  {
   "cell_type": "code",
   "execution_count": null,
   "id": "a56c8169-c3d3-4ccf-b6e3-85a55b5e5111",
   "metadata": {},
   "outputs": [],
   "source": [
    "plotter_hst.plot_emcee_corner(emcee_run_hst.flat_samples, emcee_run_hst.labels6)"
   ]
  },
  {
   "cell_type": "code",
   "execution_count": null,
   "id": "85c1f17b-4aa1-41c7-b40f-0f9717a08cd6",
   "metadata": {},
   "outputs": [],
   "source": [
    "plt.figure(figsize=(8,8))\n",
    "for zii in z_i:\n",
    "    plotter_hst.plot_zschechter_double(np.linspace(7,15,100), zii, 1., emcee_run_hst.get_best_params(), **{'label':f'{zii}'})\n",
    "    plt.ylim(1e-5, 1e3)\n",
    "plt.legend()\n"
   ]
  },
  {
   "cell_type": "code",
   "execution_count": null,
   "id": "8e06da3d-ade0-4466-9bdf-27a00cfcdc3f",
   "metadata": {},
   "outputs": [],
   "source": [
    "from scipy import integrate\n",
    "def normalisation(z0, zmin, zmax, best_params):\n",
    "    a0, a1, a2, a3, a4, a5, a6 = best_params\n",
    "    v_zmin = Planck13.comoving_volume(zmin).value * Planck13.h ** 3 / 41253 * 0.125  # (Mpc/h)^3\n",
    "    v_zmax = Planck13.comoving_volume(zmax).value * Planck13.h ** 3 / 41253 * 0.125  # (Mpc/h)^3\n",
    "    m_max = 13.\n",
    "    m_min = 6.\n",
    "    nbin = 40\n",
    "    bin_size = (m_max - m_min) / nbin\n",
    "\n",
    "    z, x = hst.select_galaxies(zmin, zmax)\n",
    "    \n",
    "    I = [integrate.quad(ZSchechterModel.phi_double_hst, hst.mass_completeness_limit(z)[i], 13., args=(z0, a0, a1, a2, a3, a4, a5, a6))[0] for i in\n",
    "             range(z.shape[0])]\n",
    "    return 1 / (v_zmax - v_zmin) * np.sum((bin_size) / np.array(I))"
   ]
  },
  {
   "cell_type": "code",
   "execution_count": null,
   "id": "0690bbca-48de-4f41-a7b2-d1c0348401b9",
   "metadata": {},
   "outputs": [],
   "source": [
    "zmins = [0.5, 0.8, 1.3, 1.9, 2.4]\n",
    "zmaxs = [0.8, 1.3, 1.9, 2.4, 3.0]\n",
    "best_params_hst = emcee_run_hst.get_best_params()\n",
    "plt.figure(figsize=(8,8))\n",
    "for z0, zmin, zmax in zip(z_i[:-1], zmins[:-1], zmaxs[:-1]):\n",
    "    norm = normalisation(z0, zmin, zmax, best_params_hst)\n",
    "    plotter_hst.plot_zschechter_double(np.linspace(7,15,100), z0, norm, best_params_hst, **{'label':rf'$z_{0}$ = {z0}'})\n",
    "    plt.ylim(1e-5, 1e-0)\n",
    "plt.legend()"
   ]
  },
  {
   "cell_type": "code",
   "execution_count": null,
   "id": "4c2384bb-737f-49ce-a95c-0cc1a5038f66",
   "metadata": {},
   "outputs": [],
   "source": [
    "a0, a1, a2, a3, a4, a5, a6 =best_params_hst"
   ]
  },
  {
   "cell_type": "code",
   "execution_count": null,
   "id": "b131912f-3c4e-4171-bb65-6d4d5856682d",
   "metadata": {},
   "outputs": [],
   "source": [
    "plt.figure(figsize=(15,7.5))\n",
    "\n",
    "z_i = np.array([0.65, 1.05, 1.6, 2.15, 2.7])\n",
    "zz_lin = np.linspace(0.1, 4, 100)\n",
    "logMpar = np.array([-1.83937458e-01,  3.40834292e+02, -3.31031442e+02])\n",
    "\n",
    "plt.subplot(2,2,1)\n",
    "for zii, best_i in zip(z_i, best_params_dl):\n",
    "    plt.plot(zii, best_i[0], 'o')\n",
    "    plt.plot(np.linspace(0.1, 3, 100), logmZ(np.linspace(0.1, 3, 100), popt_logm[0], popt_logm[1], popt_logm[2]), c='green')\n",
    "    \n",
    "    plt.xlim(0,3.05)\n",
    "    plt.ylim(10, 12)\n",
    "    plt.ylabel(r'$\\log(M^{*})$')\n",
    "    plt.xlabel(r'$z$')\n",
    "plt.plot(zz_lin, logmZ(zz_lin, a0, a1, a2), label='emcee')\n",
    "plt.legend()\n",
    "\n",
    "plt.subplot(2,2,2)\n",
    "for zii, best_i in zip(z_i, best_params_dl):\n",
    "    plt.plot(zii, best_i[1], 'o')\n",
    "    plt.plot(np.linspace(0.1, 3, 100), alphaZ(np.linspace(0.1, 3, 100), popt_alpha1[0], popt_alpha1[1]), c='green')\n",
    "    plt.xlim(0,3.05)\n",
    "    plt.ylim(-3, 2)\n",
    "    plt.ylabel(r'$\\alpha_{1}$')\n",
    "    plt.xlabel(r'$z$')\n",
    "plt.plot(zz_lin, alphaZ(zz_lin, a3, a4), label='emcee')\n",
    "plt.legend()\n",
    "\n",
    "\n",
    "plt.subplot(2,2,3)\n",
    "for zii, best_i in zip(z_i, best_params_dl):\n",
    "    plt.plot(zii, best_i[2], 'o')\n",
    "    plt.plot(np.linspace(0.1, 3, 100), alphaZ(np.linspace(0.1, 3, 100), popt_alpha2[0], popt_alpha2[1]), c='green')\n",
    "    plt.xlim(0,3.05)\n",
    "    plt.ylim(-3, 0)\n",
    "    plt.ylabel(r'$\\alpha_{2}$')\n",
    "    plt.xlabel(r'$z$')\n",
    "plt.plot(zz_lin, alphaZ(zz_lin, a5, a6), label='emcee')\n",
    "plt.legend()"
   ]
  },
  {
   "cell_type": "code",
   "execution_count": null,
   "id": "15cd7864-d19d-49e7-a28c-77900403f962",
   "metadata": {},
   "outputs": [],
   "source": [
    "# plt.figure(figsize=(8,8))\n",
    "# for zii, best_i in zip(z_i, best_params_dl):\n",
    "#     PlotterHst.plot_NoZschechter_double(np.linspace(7,13, 100),best_i, **{'label':f'{zii}'})\n",
    "\n",
    "# plt.legend()"
   ]
  },
  {
   "cell_type": "code",
   "execution_count": null,
   "id": "346bd908-27b3-4e6e-a7b2-ce75a2e069f2",
   "metadata": {},
   "outputs": [],
   "source": [
    "popt_alpha1, popt_alpha2"
   ]
  },
  {
   "cell_type": "code",
   "execution_count": null,
   "id": "9b43abeb-e7ac-4ef9-b23f-bb5e744a0a32",
   "metadata": {},
   "outputs": [],
   "source": [
    "# plotter_0508_dl = PlotterHst(hst, emcee_run_0508_dl)\n",
    "# plotter_0813_dl = PlotterHst(hst, emcee_run_0813_dl)"
   ]
  },
  {
   "cell_type": "code",
   "execution_count": null,
   "id": "ad09eef4-f847-441c-a180-32e677aacebd",
   "metadata": {},
   "outputs": [],
   "source": [
    "plotter_0508_dl.plot_emcee_samples3()"
   ]
  },
  {
   "cell_type": "code",
   "execution_count": null,
   "id": "0dafdef1-b51c-47dc-90be-fa59e2314d3b",
   "metadata": {},
   "outputs": [],
   "source": [
    "plotter_0813_dl.plot_emcee_samples3()"
   ]
  },
  {
   "cell_type": "code",
   "execution_count": null,
   "id": "35a9b6fb-c711-4c28-b0bd-27538459eadb",
   "metadata": {},
   "outputs": [],
   "source": [
    "emcee_file_1924_dll = Fileh5(folder='emcee_runs/bin_tests_runs/HST', info_file='1.9_2.4_double')"
   ]
  },
  {
   "cell_type": "code",
   "execution_count": null,
   "id": "a3e00961-b203-4c6f-b801-672e705a46f0",
   "metadata": {},
   "outputs": [],
   "source": [
    "emcee_run_1924_dll = EmceeRun(emcee_file_1924_dll)"
   ]
  },
  {
   "cell_type": "code",
   "execution_count": null,
   "id": "32a07e07-573e-41c0-8f0d-4472e918e6a9",
   "metadata": {},
   "outputs": [],
   "source": [
    "plpl = PlotterHst(hst, emcee_run_1924_dll)"
   ]
  },
  {
   "cell_type": "code",
   "execution_count": null,
   "id": "5f14a30b-c63a-4838-bc63-7b25edbb5c52",
   "metadata": {},
   "outputs": [],
   "source": [
    "plpl.plot_emcee_samples3()"
   ]
  },
  {
   "cell_type": "code",
   "execution_count": null,
   "id": "5acd49f8-8769-4334-9103-bf11e8aee361",
   "metadata": {},
   "outputs": [],
   "source": [
    "emcee_run_1924_dll.set_best_params(discard=50)"
   ]
  },
  {
   "cell_type": "code",
   "execution_count": null,
   "id": "81070ea1-fe4a-4280-8aed-a52bd72ece94",
   "metadata": {},
   "outputs": [],
   "source": [
    "plpl.plot_emcee_corner(emcee_run_1924_dll.flat_samples, emcee_run_1924_dll.labels3)"
   ]
  },
  {
   "cell_type": "code",
   "execution_count": null,
   "id": "49c9f577-8e54-4d2a-85f5-092a3f56280d",
   "metadata": {},
   "outputs": [],
   "source": [
    "plt.figure(figsize=(15, 7))\n",
    "for i in range(5):\n",
    "\n",
    "    plotter_hst.plot_emcee_corner(emcee_runs[i].flat_samples, emcee_runs[i].labels2)"
   ]
  },
  {
   "cell_type": "code",
   "execution_count": null,
   "id": "b2060e6d-c850-491d-9ae5-f3908a917f16",
   "metadata": {},
   "outputs": [],
   "source": [
    "PlotterHst.plot_vmax_hist(h, b, h, b)"
   ]
  },
  {
   "cell_type": "code",
   "execution_count": null,
   "id": "e5c2753a-c58f-415d-91bb-a8bdac15462f",
   "metadata": {},
   "outputs": [],
   "source": [
    "plotter_hst.plot_emcee_samples2()"
   ]
  },
  {
   "cell_type": "code",
   "execution_count": null,
   "id": "77b3d164-2e82-4726-96ea-d968ef3ff092",
   "metadata": {},
   "outputs": [],
   "source": [
    "emcee_run.set_best_params(discard=110)"
   ]
  },
  {
   "cell_type": "code",
   "execution_count": null,
   "id": "0df59abe-ccf0-4230-9574-3b5574f58683",
   "metadata": {},
   "outputs": [],
   "source": [
    "plotter_hst.plot_emcee_corner(emcee_run.flat_samples, emcee_run.labels2)"
   ]
  },
  {
   "cell_type": "code",
   "execution_count": null,
   "id": "840bdef4-64e2-4964-830d-6d455bddad16",
   "metadata": {},
   "outputs": [],
   "source": [
    "plotter1319 = PlotterHst(hst, emcee_run_1319)\n",
    "plotter1924 = PlotterHst(hst, emcee_run_1924)\n",
    "plotter2430 = PlotterHst(hst, emcee_run_2430)"
   ]
  },
  {
   "cell_type": "code",
   "execution_count": null,
   "id": "6c52b0d6-f440-4c01-94cf-3e116997c8e6",
   "metadata": {},
   "outputs": [],
   "source": [
    "plotter1319.plot_emcee_samples2()"
   ]
  },
  {
   "cell_type": "code",
   "execution_count": null,
   "id": "8fa37b4d-eecf-4b4d-94e3-37321b56ee90",
   "metadata": {},
   "outputs": [],
   "source": [
    "plotter1924.plot_emcee_samples2()"
   ]
  },
  {
   "cell_type": "code",
   "execution_count": null,
   "id": "14268a86-7701-4a23-b631-9228f605091d",
   "metadata": {},
   "outputs": [],
   "source": [
    "plotter2430.plot_emcee_samples2()"
   ]
  },
  {
   "cell_type": "code",
   "execution_count": null,
   "id": "73ca589c-3840-4a00-be5b-96733bf39881",
   "metadata": {},
   "outputs": [],
   "source": [
    "x_tot, z_tot = hst.x, hst.z\n",
    "mask = (z_tot > 0.01) & (x_tot > 0.)\n",
    "x, z = x_tot[mask], z_tot[mask]"
   ]
  },
  {
   "cell_type": "code",
   "execution_count": null,
   "id": "63fcf482-d100-46d5-abee-a20c58be8c3c",
   "metadata": {},
   "outputs": [],
   "source": [
    "plt.figure(figsize=(8,8))\n",
    "plt.plot(z, x , 'o', markersize=0.5)"
   ]
  },
  {
   "cell_type": "code",
   "execution_count": null,
   "id": "80f5c4b8-83ee-4604-8b48-89d85178ac46",
   "metadata": {},
   "outputs": [],
   "source": [
    "cosmo = hst.cosmo"
   ]
  },
  {
   "cell_type": "code",
   "execution_count": null,
   "id": "08842e27-52ad-4e4a-b239-b55c5bcd4091",
   "metadata": {},
   "outputs": [],
   "source": [
    "dmin3 = cosmo.comoving_distance(0.01).value ** 3 \n",
    "vmax = np.array([4 * np.pi / 3 * hst.footprint / hst.sky * (\n",
    "                cosmo.comoving_distance(z_i).value ** 3 - dmin3) for z_i in z])"
   ]
  },
  {
   "cell_type": "code",
   "execution_count": null,
   "id": "12bc13b8-dee1-4986-b9e6-f0144bccd6a2",
   "metadata": {},
   "outputs": [],
   "source": [
    "vmax"
   ]
  },
  {
   "cell_type": "code",
   "execution_count": null,
   "id": "55c26a45-a9d0-4883-94f6-f9e55cf3c2ba",
   "metadata": {},
   "outputs": [],
   "source": [
    "bgs = BGS('BGS_ANY_full.provabgs.lite.hdf5')"
   ]
  },
  {
   "cell_type": "code",
   "execution_count": null,
   "id": "6dbe51b4-42f4-4e6d-a19e-6cc006b184ae",
   "metadata": {},
   "outputs": [],
   "source": [
    "import astropy.table as aTable\n",
    "bgs_cat = aTable.Table.read('../data/BGS_ANY_full.provabgs.lite.hdf5')"
   ]
  },
  {
   "cell_type": "code",
   "execution_count": null,
   "id": "a7979012-16ac-4e96-91b6-a1c3130b74ac",
   "metadata": {},
   "outputs": [],
   "source": [
    "bgs_vmax = bgs_cat['Vmax']"
   ]
  },
  {
   "cell_type": "code",
   "execution_count": null,
   "id": "e7d9d45e-4117-4f49-a73d-b86615e41bc1",
   "metadata": {},
   "outputs": [],
   "source": [
    "bgs_z = bgs_cat['Z_HP']"
   ]
  },
  {
   "cell_type": "code",
   "execution_count": null,
   "id": "80e3b00c-d3a8-4fdd-a02c-937304934cb3",
   "metadata": {},
   "outputs": [],
   "source": [
    "bgs_vmax_calc = np.array([4 * np.pi / 3 * 14000 / hst.sky * (\n",
    "                cosmo.comoving_distance(z_i).value ** 3 - dmin3) for z_i in bgs_z])"
   ]
  },
  {
   "cell_type": "code",
   "execution_count": null,
   "id": "e898f00e-3e2c-447d-8ea8-8df3f471f3c4",
   "metadata": {},
   "outputs": [],
   "source": [
    "bgs_vmax_calc"
   ]
  },
  {
   "cell_type": "code",
   "execution_count": null,
   "id": "bffd7f2c-db72-46b6-9fce-de8e22521ead",
   "metadata": {},
   "outputs": [],
   "source": [
    "bgs_vmax"
   ]
  },
  {
   "cell_type": "code",
   "execution_count": null,
   "id": "c10fe630-66a1-4abf-806f-52ff9480850e",
   "metadata": {},
   "outputs": [],
   "source": [
    "14000/hst.sky"
   ]
  },
  {
   "cell_type": "code",
   "execution_count": null,
   "id": "f7d39561-6eee-47aa-aeca-912a2355c4f0",
   "metadata": {},
   "outputs": [],
   "source": [
    "def vmax(x):\n",
    "    dmin3 = self.cosmo.comoving_distance(0.65).value ** 3\n",
    "    return np.array([4 * np.pi / 3 * self.footprint / self.sky * (\n",
    "                self.cosmo.comoving_distance(self.zmax_lim(m_i)).value ** 3 - dmin3) for m_i in x])"
   ]
  },
  {
   "cell_type": "code",
   "execution_count": null,
   "id": "dff551db-8b99-4b1a-a593-61cc68a8fe2c",
   "metadata": {},
   "outputs": [],
   "source": [
    "z, x = hst.select_galaxies(0.65, 3.0)"
   ]
  },
  {
   "cell_type": "code",
   "execution_count": null,
   "id": "0e8125a0-6928-408b-89e1-624c833a4256",
   "metadata": {},
   "outputs": [],
   "source": [
    "vmax = hst.get_vmax(x)"
   ]
  },
  {
   "cell_type": "code",
   "execution_count": null,
   "id": "e5978212-ea38-493b-a830-07e833bd20bd",
   "metadata": {},
   "outputs": [],
   "source": [
    "np.unique(vmax)"
   ]
  },
  {
   "cell_type": "code",
   "execution_count": null,
   "id": "21c5030c-2589-45b5-89a0-fd8d6ece967c",
   "metadata": {},
   "outputs": [],
   "source": [
    "np.unique(bgs.vmax[bgs.x_median > 10.15])"
   ]
  },
  {
   "cell_type": "code",
   "execution_count": null,
   "id": "824d719a-4a7b-438a-aa55-a9f111b8dffb",
   "metadata": {},
   "outputs": [],
   "source": [
    "hst.mass_completeness_limit(3.0)"
   ]
  },
  {
   "cell_type": "code",
   "execution_count": null,
   "id": "6284af09-9089-40bc-a1d9-491393156186",
   "metadata": {},
   "outputs": [],
   "source": [
    "hst.x[hst.x>10.15].shape[0]/ hst.x.shape[0]"
   ]
  },
  {
   "cell_type": "code",
   "execution_count": null,
   "id": "ae818a21-0974-4ad7-8cc5-ead0006b1ed6",
   "metadata": {},
   "outputs": [],
   "source": [
    "x[x>10.15].shape[0]/x.shape[0]"
   ]
  },
  {
   "cell_type": "code",
   "execution_count": null,
   "id": "1467f01d-f1a7-46b6-979f-28892521a590",
   "metadata": {},
   "outputs": [],
   "source": [
    "plt.plot(hst.z[hst.z > 0], hst.x[hst.z > 0], 'o', markersize=1)"
   ]
  },
  {
   "cell_type": "code",
   "execution_count": null,
   "id": "718f5d45-5ea4-49cc-b39d-eff6a967522f",
   "metadata": {},
   "outputs": [],
   "source": [
    "hst.get_number_galaxies(bin=True, zmin=0.65, zmax=0.69)"
   ]
  },
  {
   "cell_type": "code",
   "execution_count": null,
   "id": "fddd4cdd-4ae5-405e-adca-2ca4002152d9",
   "metadata": {},
   "outputs": [],
   "source": [
    "z, x = hst.select_galaxies(0.65, 0.69)"
   ]
  },
  {
   "cell_type": "code",
   "execution_count": null,
   "id": "8ce55d93-1895-45a7-81f9-da9ea83222fd",
   "metadata": {},
   "outputs": [],
   "source": [
    "NoZSchechterModel.phi(x, 10., -0.2)"
   ]
  },
  {
   "cell_type": "code",
   "execution_count": null,
   "id": "5b7d2666-d1b1-481a-8f2a-ec55e0512788",
   "metadata": {},
   "outputs": [],
   "source": [
    "z, x = hst.select_galaxies(0.65, 0.69)"
   ]
  },
  {
   "cell_type": "code",
   "execution_count": null,
   "id": "f0316275-6f71-4464-a80d-9084a7724ac1",
   "metadata": {},
   "outputs": [],
   "source": [
    "# plotter_hst.plot_emcee_samples()"
   ]
  },
  {
   "cell_type": "code",
   "execution_count": null,
   "id": "0a5a66a1-a56c-4a73-bb47-2fd5d694c1a5",
   "metadata": {},
   "outputs": [],
   "source": [
    "z, x = gathering_data(hst, 0.65, 3.0)"
   ]
  },
  {
   "cell_type": "code",
   "execution_count": null,
   "id": "0af2f991-f335-4e35-b4a8-64f91618fdea",
   "metadata": {},
   "outputs": [],
   "source": [
    "z_lin = np.linspace(0.65, 3.0, 100)\n",
    "plt.figure(figsize=(8,8))\n",
    "plt.plot(z, x, 'o', markersize=1)\n",
    "plt.plot(z_lin, mass_completeness_limit(z_lin))\n",
    "plt.xlabel(r\"redshift ($z$)\")\n",
    "plt.ylabel(r\"$\\log M_*$\")\n",
    "# plt.xlim(0.5, 3.5)\n",
    "plt.ylim(8., 15)\n"
   ]
  },
  {
   "cell_type": "code",
   "execution_count": null,
   "id": "a4a11cc4-c24f-4e02-9150-2e572cebcb42",
   "metadata": {},
   "outputs": [],
   "source": [
    "footprint = 0.25 #deg^2\n",
    "\n",
    "cosmo = FlatLambdaCDM(H0=67.8, Om0=0.307)\n",
    "\n",
    "dmin3 = cosmo.comoving_distance(0.65).value ** 3\n",
    "vmax = np.array([4*np.pi/3 * 0.25/41253 * (cosmo.comoving_distance(zmax(m_i)).value ** 3 - dmin3) for m_i in x])"
   ]
  },
  {
   "cell_type": "code",
   "execution_count": null,
   "id": "60cf6510-d975-4344-86cc-00bbe61bdab8",
   "metadata": {},
   "outputs": [],
   "source": [
    "x_lin = np.linspace(x.min(), x.max(), 100)\n",
    "for i in range(x_lin.shape[0]):\n",
    "    plt.scatter(x_lin[i], zmax(x_lin[i]))"
   ]
  },
  {
   "cell_type": "code",
   "execution_count": null,
   "id": "ae786305-6daf-46e4-8c0d-7e29f3d005ec",
   "metadata": {},
   "outputs": [],
   "source": [
    "vmax"
   ]
  },
  {
   "cell_type": "code",
   "execution_count": null,
   "id": "5d91d58c-3306-4fa7-ab8d-22931675a5fc",
   "metadata": {},
   "outputs": [],
   "source": [
    "x_lin[10], zmax(x_lin[10])"
   ]
  },
  {
   "cell_type": "code",
   "execution_count": null,
   "id": "6a0b330e-898e-41de-9d0d-e1960cf4e9ce",
   "metadata": {},
   "outputs": [],
   "source": [
    "x_test = x[x<9.]\n",
    "z_test = z[x<9]"
   ]
  },
  {
   "cell_type": "code",
   "execution_count": null,
   "id": "ede562a1-e78d-4906-ba5d-20a6a2cd1804",
   "metadata": {},
   "outputs": [],
   "source": [
    "mass_completeness_limit(z_test[0])"
   ]
  },
  {
   "cell_type": "code",
   "execution_count": null,
   "id": "52692796-bd44-4ecc-8b24-72620c919324",
   "metadata": {},
   "outputs": [],
   "source": [
    "zmax(x_test[0])"
   ]
  },
  {
   "cell_type": "code",
   "execution_count": null,
   "id": "abca6d9e-faeb-41e1-8c2f-3c84371d2dc7",
   "metadata": {},
   "outputs": [],
   "source": [
    "mass_completeness_limit(3.0)"
   ]
  },
  {
   "cell_type": "code",
   "execution_count": null,
   "id": "b3e6f19d-8d2c-4678-bb5d-7343a9b2ff6b",
   "metadata": {},
   "outputs": [],
   "source": [
    "z_lin = np.linspace(0.65, 3.0, 100)\n",
    "plt.figure(figsize=(8,8))\n",
    "plt.plot(z_test, x_test, 'o', markersize=1)\n",
    "plt.plot(z_lin, mass_completeness_limit(z_lin))\n",
    "plt.xlabel(r\"redshift ($z$)\")\n",
    "plt.ylabel(r\"$\\log M_*$\")\n",
    "# plt.xlim(0.5, 3.5)\n",
    "plt.ylim(8., 15)\n"
   ]
  },
  {
   "cell_type": "code",
   "execution_count": null,
   "id": "891fa6e4-845e-42fc-a594-040d57c22ade",
   "metadata": {},
   "outputs": [],
   "source": [
    "cosmo.comoving_distance()"
   ]
  },
  {
   "cell_type": "code",
   "execution_count": null,
   "id": "45934615-e227-4255-b347-f2876f5f5d52",
   "metadata": {},
   "outputs": [],
   "source": [
    "write_table_hdf5(hst['lmass', 'z_peak'], '3dhst_master.phot.v4.1.cat.lite.hdf5', overwrite=True)"
   ]
  },
  {
   "cell_type": "code",
   "execution_count": null,
   "id": "b837542f-6f95-4132-b4c9-8622a75bd192",
   "metadata": {},
   "outputs": [],
   "source": [
    "x.shape"
   ]
  },
  {
   "cell_type": "code",
   "execution_count": null,
   "id": "ac959055-5dfa-4a12-8b71-faa73e35708d",
   "metadata": {},
   "outputs": [],
   "source": [
    "lmass = hst['lmass']\n",
    "# z_spec = hst['z_spec']\n",
    "z_peak = hst['z_peak']\n",
    "\n",
    "# mask_spec = (z_spec >= 0.)\n",
    "mask_peak = (z_peak >= 0.) & (lmass > 0.)"
   ]
  },
  {
   "cell_type": "code",
   "execution_count": null,
   "id": "c1c031d9-a9a1-4abb-a1fd-523db690b117",
   "metadata": {},
   "outputs": [],
   "source": [
    "mass_complete = np.array(list(zip([0.65, 1.0, 1.5, 2.1, 3.0], [8.72, 9.07, 9.63, 9.79, 10.15])))"
   ]
  },
  {
   "cell_type": "code",
   "execution_count": null,
   "id": "27824578-77a2-4107-ac8f-d2d4c4b6416a",
   "metadata": {},
   "outputs": [],
   "source": [
    "mass_complete[:,0]\n"
   ]
  },
  {
   "cell_type": "code",
   "execution_count": null,
   "id": "03138371-7c44-43ee-9693-190d7626ad4f",
   "metadata": {},
   "outputs": [],
   "source": [
    "hst['lmass','z_peak'].to_pandas().to_hdf('3dhst_master.phot.v4.1.cat.lite.hdf5', key='hst_lite', mode='w')"
   ]
  },
  {
   "cell_type": "code",
   "execution_count": null,
   "id": "1ca62cb7-6822-48a4-b97c-e96612d72a7d",
   "metadata": {},
   "outputs": [],
   "source": [
    "# cosmos = h5py.File('../data/COSMOS2015_Laigle+_v1.1.lite.hdf5')"
   ]
  },
  {
   "cell_type": "code",
   "execution_count": null,
   "id": "7b53daac-cc8f-4a8f-9f7f-2753430410e0",
   "metadata": {},
   "outputs": [],
   "source": [
    "cosmos = aTable.Table.read('../data/COSMOS2015_Laigle+_v1.1.lite.hdf5')"
   ]
  },
  {
   "cell_type": "code",
   "execution_count": null,
   "id": "2abde295-3f0b-4c5f-9d91-c7e59a7133cd",
   "metadata": {},
   "outputs": [],
   "source": [
    "# z, x = gathering_data(cosmos, 0.175, 4.4)"
   ]
  },
  {
   "cell_type": "code",
   "execution_count": null,
   "id": "77d82798-e532-4c18-beb2-4c7f44a4821c",
   "metadata": {},
   "outputs": [],
   "source": [
    "plt.figure(figsize=(8,8))\n",
    "plt.plot(z, x, 'o', markersize=0.3)\n",
    "plt.plot(np.linspace(0.175, 4.4, 100), mass_completeness_limit(np.linspace(0.175, 4.4, 100)))\n",
    "# plt.plot(mass_complete_cosmos[:,0], mass_complete_cosmos[:,1])\n",
    "# plt.plot(np.linspace(x_values[0],x_values[-1],100), mass_completeness_cosmos(np.linspace(x_values[0],x_values[-1],100)))"
   ]
  },
  {
   "cell_type": "code",
   "execution_count": null,
   "id": "4952bd69-5d2c-432b-a2c0-a1c574e9c5e3",
   "metadata": {},
   "outputs": [],
   "source": [
    "z.shape"
   ]
  },
  {
   "cell_type": "code",
   "execution_count": null,
   "id": "beece28d-001c-4281-a446-cd22d84990ff",
   "metadata": {},
   "outputs": [],
   "source": [
    "z_cosmos = cosmos['ZPDF']\n",
    "m_cosmos = cosmos['MASS_MED']\n",
    "mask = (z_cosmos >= .175) & (z_cosmos <= 4.4) & (m_cosmos > 8.1)\n",
    "z = z_cosmos[mask]\n",
    "mask_lim = m_cosmos > mass_completeness_cosmos(z)\n",
    "mstar = m_cosmos[mask_lim]\n",
    "z = z_cosmos[mask_lim]"
   ]
  },
  {
   "cell_type": "code",
   "execution_count": null,
   "id": "5f7f1676-8970-4a16-b51c-7d9239d169fb",
   "metadata": {},
   "outputs": [],
   "source": [
    "mass_complete_cosmos = np.array(list(zip([0.175, 0.5, 0.8, 1.125, 1.525, 2.0, 2.5, 3.125, 3.75, 4.4], \n",
    "                                         [8.1, 8.7, 9.1, 9.3, 9.7, 9.9, 10.0, 10.1, 10.1, 10.1])))"
   ]
  },
  {
   "cell_type": "code",
   "execution_count": null,
   "id": "15988ca2-7bfb-4e8c-af75-1effa9e7d032",
   "metadata": {},
   "outputs": [],
   "source": [
    "x_values = [0.175, 0.5, 0.8, 1.125, 1.525, 2.0, 2.5, 3.125, 3.75, 4.4]"
   ]
  },
  {
   "cell_type": "code",
   "execution_count": null,
   "id": "640036cb-50ab-4701-9e10-31999afdc37d",
   "metadata": {},
   "outputs": [],
   "source": [
    "plt.figure(figsize=(8,8))\n",
    "plt.plot(z, x, 'o', markersize=1)\n",
    "plt.plot(mass_complete_cosmos[:,0], mass_complete_cosmos[:,1])\n",
    "plt.plot(np.linspace(x_values[0],x_values[-1],100), mass_completeness_cosmos(np.linspace(x_values[0],x_values[-1],100)))\n",
    "\n",
    "plt.xlabel(r\"redshift ($z$)\")\n",
    "plt.ylabel(r\"$\\log M_*$\")\n",
    "# plt.xlim(0.5, 3.5)\n",
    "# plt.ylim(8., 15)"
   ]
  },
  {
   "cell_type": "code",
   "execution_count": null,
   "id": "817e620d-5da7-49e4-81dc-c06d2cb091b9",
   "metadata": {},
   "outputs": [],
   "source": [
    "\n",
    "x_values = [0.175, 0.5, 0.8, 1.125, 1.525, 2.0, 2.5, 3.125, 3.75, 4.4]\n",
    "y_values = [8.1, 8.7, 9.1, 9.3, 9.7, 9.9, 10.0, 10.1, 10.1, 10.1]\n",
    "\n",
    "f = interp1d(x_values, y_values)"
   ]
  },
  {
   "cell_type": "code",
   "execution_count": null,
   "id": "d590639c-fce2-4d4d-8ef1-751990e73e89",
   "metadata": {},
   "outputs": [],
   "source": [
    "f(1.3)"
   ]
  },
  {
   "cell_type": "code",
   "execution_count": null,
   "id": "b4996919-3e7d-4440-9fe6-1b8cc4f94b92",
   "metadata": {},
   "outputs": [],
   "source": [
    "def mass_completeness_cosmos(x):\n",
    "    \n",
    "    x_values = [0.175, 0.5, 0.8, 1.125, 1.525, 2.0, 2.5, 3.125, 3.75, 4.4]\n",
    "    y_values = [8.1, 8.7, 9.1, 9.3, 9.7, 9.9, 10.0, 10.1, 10.1,10.1]\n",
    "\n",
    "    f = interp1d(x_values, y_values)\n",
    "    return f(x)"
   ]
  },
  {
   "cell_type": "code",
   "execution_count": null,
   "id": "e4564736-b6c2-4d19-8541-7b6d0a6a2791",
   "metadata": {},
   "outputs": [],
   "source": [
    "plt.figure(figsize=(8,8))\n",
    "plt.plot(z_cosmos[mask], m_cosmos[mask], 'o', markersize=1)\n",
    "plt.plot(mass_complete_cosmos[:,0], mass_complete_cosmos[:,1])\n",
    "plt.plot(np.linspace(x_values[0], x_values[-1], 100), mass_completeness_cosmos(np.linspace(x_values[0], x_values[-1], 100)))\n",
    "plt.xlabel(r\"redshift ($z$)\")\n",
    "plt.ylabel(r\"$\\log M_*$\")\n",
    "# plt.xlim(0.5, 3.5)\n",
    "# plt.ylim(8., 15)\n",
    "# plt.plot(np.linspace(1, 10, 100), mass_completeness_cosmos(np.linspace(1, 10, 100)))"
   ]
  },
  {
   "cell_type": "markdown",
   "id": "69aef3a1-bbfa-4328-904d-76a06e1f9305",
   "metadata": {
    "jp-MarkdownHeadingCollapsed": true
   },
   "source": [
    "# COSMOS2015 Laigle et al. 2016"
   ]
  },
  {
   "cell_type": "code",
   "execution_count": null,
   "id": "259caa44-951f-4b03-a25a-06504477eb3f",
   "metadata": {},
   "outputs": [],
   "source": [
    "cosmos2015 = Table.read('../data/COSMOS2015_Laigle+_v1.1.fits')"
   ]
  },
  {
   "cell_type": "code",
   "execution_count": null,
   "id": "23dafa61-115a-43e9-a657-83e339ba2540",
   "metadata": {},
   "outputs": [],
   "source": []
  },
  {
   "cell_type": "code",
   "execution_count": null,
   "id": "d95f5a95-27d1-4452-a5a5-30c69f11d267",
   "metadata": {},
   "outputs": [],
   "source": [
    "write_table_hdf5(cosmos2015['ZPDF', 'MASS_MED'], 'COSMOS2015_Laigle+_v1.1.lite.hdf5')"
   ]
  },
  {
   "cell_type": "code",
   "execution_count": null,
   "id": "3097fe2a-eae2-4a34-8609-3c5e267c2e1a",
   "metadata": {},
   "outputs": [],
   "source": [
    "cosmos2015[:5]"
   ]
  },
  {
   "cell_type": "code",
   "execution_count": null,
   "id": "eb6ed4fe-23ca-4abb-a06a-83201e650afa",
   "metadata": {},
   "outputs": [],
   "source": [
    "mask_flag = (cosmos2015['FLAG_DEEP'] == 1)"
   ]
  },
  {
   "cell_type": "code",
   "execution_count": null,
   "id": "8854d004-68b9-484a-a732-3827820e322a",
   "metadata": {},
   "outputs": [],
   "source": [
    "c = cosmos2015['ZPDF'][mask_flag]"
   ]
  },
  {
   "cell_type": "code",
   "execution_count": null,
   "id": "739a80f5-0ccf-48c8-9755-1033683d33c3",
   "metadata": {},
   "outputs": [],
   "source": [
    "c[:5]"
   ]
  },
  {
   "cell_type": "code",
   "execution_count": null,
   "id": "9334242a-1662-4906-8988-409f3676b7d4",
   "metadata": {},
   "outputs": [],
   "source": [
    "z_cosmos = cosmos2015['ZPDF']\n",
    "m_cosmos = cosmos2015['MASS_MED']\n",
    "mask = (z_cosmos >= 0.) & (m_cosmos > 0.)"
   ]
  },
  {
   "cell_type": "code",
   "execution_count": null,
   "id": "593d8cea-a144-4228-a5d2-0ba87d849f9d",
   "metadata": {},
   "outputs": [],
   "source": [
    "mass_complete_cosmos = np.array(list(zip([0.175, 0.5, 0.8, 1.125, 1.525, 2.0, 2.5, 3.125, 3.75, 4.4], \n",
    "                                         [8.1, 8.7, 9.1, 9.3, 9.7, 9.9, 10.0, 10.1, 10.1])))"
   ]
  },
  {
   "cell_type": "code",
   "execution_count": null,
   "id": "f09a122a-385e-4e0c-90ee-5aece969aa3f",
   "metadata": {},
   "outputs": [],
   "source": [
    "plt.figure(figsize=(8,8))\n",
    "plt.plot(z_cosmos[mask], m_cosmos[mask], 'o', markersize=1)\n",
    "plt.plot(mass_complete_cosmos[:,0], mass_complete_cosmos[:,1])\n",
    "plt.xlabel(r\"redshift ($z$)\")\n",
    "plt.ylabel(r\"$\\log M_*$\")\n",
    "# plt.xlim(0.5, 3.5)\n",
    "# plt.ylim(8., 15)\n"
   ]
  },
  {
   "cell_type": "code",
   "execution_count": null,
   "id": "b071c897-f820-4906-8c74-2e0c62884eca",
   "metadata": {},
   "outputs": [],
   "source": [
    "cosmos2015['ZPDF', 'MASS_MED'].to_pandas().to_hdf('../data/COSMOS2015_Laigle+_v1.1.lite.hdf5', key='cosmos_lite', mode='w')"
   ]
  },
  {
   "cell_type": "code",
   "execution_count": null,
   "id": "5798b533-69cb-45fd-8745-bb9fd4075a42",
   "metadata": {},
   "outputs": [],
   "source": []
  }
 ],
 "metadata": {
  "kernelspec": {
   "display_name": "bgs",
   "language": "python",
   "name": "bgs"
  },
  "language_info": {
   "codemirror_mode": {
    "name": "ipython",
    "version": 3
   },
   "file_extension": ".py",
   "mimetype": "text/x-python",
   "name": "python",
   "nbconvert_exporter": "python",
   "pygments_lexer": "ipython3",
   "version": "3.11.5"
  }
 },
 "nbformat": 4,
 "nbformat_minor": 5
}
