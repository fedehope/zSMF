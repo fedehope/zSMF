{
 "cells": [
  {
   "cell_type": "code",
   "execution_count": 1,
   "id": "27cab874-e7a1-404a-863b-0efe4e37ed78",
   "metadata": {},
   "outputs": [],
   "source": [
    "from scipy.optimize import curve_fit, minimize\n",
    "from scipy import integrate\n",
    "import emcee\n",
    "import corner\n",
    "import time\n",
    "from multiprocessing import cpu_count, Pool\n",
    "import os\n",
    "import h5py \n",
    "import numpy as np\n",
    "from scipy.interpolate import RegularGridInterpolator\n",
    "import astropy.table as aTable\n",
    "from astropy.cosmology import Planck13\n",
    "from astropy.cosmology import FlatLambdaCDM\n",
    "import matplotlib as mpl\n",
    "import matplotlib.pyplot as plt\n",
    "\n",
    "import torch\n",
    "from torch import nn\n",
    "from torch import optim\n",
    "import torch.distributions as D\n",
    "\n",
    "\n",
    "mpl.rcParams['font.family'] = 'serif'\n",
    "mpl.rcParams['axes.linewidth'] = 1.5\n",
    "mpl.rcParams['axes.xmargin'] = 1\n",
    "mpl.rcParams['xtick.labelsize'] = 'x-large'\n",
    "mpl.rcParams['xtick.major.size'] = 5\n",
    "mpl.rcParams['xtick.major.width'] = 1.5\n",
    "mpl.rcParams['ytick.labelsize'] = 'x-large'\n",
    "mpl.rcParams['ytick.major.size'] = 5\n",
    "mpl.rcParams['ytick.major.width'] = 1.5\n",
    "mpl.rcParams['legend.frameon'] = False\n",
    "\n",
    "\n",
    "def smf_single_schechter_plot(x, z, a0, a1, a2, a3):\n",
    "    logM = a0 + a1*z\n",
    "    alpha1 = a2 + a3*z\n",
    "    \n",
    "    term0 = np.exp(-10 ** (x-logM))\n",
    "    term1 = 10 ** ((alpha1+1)*(x - logM))\n",
    "    return term0 * term1\n",
    "\n",
    "\n",
    "def mass_completeness_limit(z):\n",
    "    f, b, c = [-1.34199453, 13.90578909,  8.53522654]\n",
    "    return 4*np.pi*f*z**2 + b*z + c\n",
    "\n",
    "\n",
    "\n",
    "\n",
    "def zmax_mass_completeness_limit(m):\n",
    "    f, b, c = [-1.34199453, 13.90578909, 8.53522654]\n",
    "\n",
    "    discriminant = -16*np.pi*f*c + 16*np.pi*f*m + b**2\n",
    "    sqrt_discriminant = np.sqrt(discriminant)\n",
    "\n",
    "    z1 = (-b + sqrt_discriminant) / (8 * np.pi * f)\n",
    "    \n",
    "    return z1\n",
    "\n",
    "\n",
    "\n",
    "def integral_limits(z_i, m_i):\n",
    "    \n",
    "    zmax_thr = 0.4\n",
    "    mmax_thr = 13.\n",
    "    m_lim_i = mass_completeness_limit(z_i)\n",
    "    zmax_thr_i = zmax_mass_completeness_limit(mass_completeness_limit(zmax_thr))\n",
    "    \n",
    "    if m_i > 11.401850153336317:\n",
    "        return np.array([\n",
    "            [0.01, z_i],\n",
    "            [m_lim_i, mmax_thr],\n",
    "            [z_i, zmax_thr_i],\n",
    "            [mass_completeness_limit ,mmax_thr]])\n",
    "    \n",
    "    z_max_i = zmax_mass_completeness_limit(m_i)\n",
    "    \n",
    "    return np.array([\n",
    "        [0.01, z_i],\n",
    "        [m_lim_i, mmax_thr],\n",
    "        [z_i, z_max_i],\n",
    "        [mass_completeness_limit, mmax_thr]])\n",
    "    \n",
    "    \n",
    "    \n",
    "\n",
    "def integral_calculation2(a0, a1, a2, a3, m, z):\n",
    "    limits = integral_limits(z, m)\n",
    "    result = 0\n",
    "    result += integrate.dblquad(smf_single_schechter_integral, limits[0][0],\n",
    "                                limits[0][1], limits[1][0], limits[1][1], args=(a0, a1, a2, a3), \n",
    "                                epsabs=1e-3, epsrel=1e-3)[0]\n",
    "    result += integrate.dblquad(smf_single_schechter_integral, limits[2][0],\n",
    "                            limits[2][1], limits[3][0] , limits[3][1], args=(a0, a1, a2, a3), \n",
    "                                epsabs=1e-3, epsrel=1e-3)[0]\n",
    "    \n",
    "    return result\n",
    "\n",
    "\n",
    "\n",
    "def smf_single_schechter_integral(x, z, a0, a1, a2, a3):\n",
    "    logM = a0 + a1*z\n",
    "    alpha1 = a2 + a3*z\n",
    "    term0 = np.exp(-10 ** (x-logM))\n",
    "    term1 = 10 ** ((alpha1+1)*(x - logM))\n",
    "    return term0 * term1\n",
    "\n",
    "\n",
    "\n",
    "def v_tot_z(f_area, z):\n",
    "    \n",
    "    v_min = Planck13.comoving_volume(0.01).value * Planck13.h**3 * f_area\n",
    "    v_max = Planck13.comoving_volume(z).value * Planck13.h**3 * f_area\n",
    "    return v_max  - v_min\n",
    "\n",
    "    \n",
    "def normalisation(f_area, x, x_median, w_spec, z, z0, best_params):\n",
    "    a0, a1, a2, a3 = best_params\n",
    "    \n",
    "    v_tot = v_tot_z(f_area,z0)\n",
    "    \n",
    "    mask_z = (z < z0)\n",
    "    z_new = z[mask_z]\n",
    "    x_new = x[mask_z]\n",
    "    x_median_new = x_median[mask_z]\n",
    "    w_spec_new = w_spec[mask_z]\n",
    "    \n",
    "    weights = []\n",
    "    \n",
    "    for i in range(x_median_new.shape[0]):\n",
    "        weights.append(w_spec_new[i]/integral_calculation2(a0, a1, a2, a3, x_median_new[i], z_new[i]))\n",
    "        \n",
    "    return (1/v_tot) *np.sum(weights)\n",
    "\n",
    "\n",
    "def normalisation_check(f_area, x, x_median, w_spec, z, z0, best_params):\n",
    "    a0, a1, a2, a3 = best_params\n",
    "    \n",
    "    v_tot = v_tot_z(f_area,z0)\n",
    "    \n",
    "    mask_z = (z < z0)\n",
    "    z_new = z[mask_z]\n",
    "    x_new = x[mask_z]\n",
    "    x_median_new = x_median[mask_z]\n",
    "    w_spec_new = w_spec[mask_z]\n",
    "    \n",
    "    weights = []\n",
    "    \n",
    "    for i in range(x_median_new.shape[0]):\n",
    "        weights.append(w_spec_new[i]/integral_calculation2(a0, a1, a2, a3, x_median_new[i], z_new[i]))\n",
    "        \n",
    "    return v_tot, x_median.shape, x_median_new.shape[0]/x_median.shape[0], np.sum(weights)\n",
    "\n",
    "\n",
    "\n",
    "def smf_single_schechter_sty(x, z, a0, a1, a2, a3):\n",
    "    logM = a0 + a1*z\n",
    "    alpha1 = a2 + a3*z\n",
    "    \n",
    "    term0 = np.exp(-10 ** (x-logM[:,None]))\n",
    "    term1 = 10 ** ((alpha1+1)[:,None]*(x - logM[:,None]))\n",
    "    return term0 * term1\n",
    "    \n",
    "\n",
    "\n",
    "def log_likelihood(a0, a1, a2, a3, interp, x_median, w, z, x):\n",
    "    q = smf_single_schechter_sty(x, z, a0, a1, a2, a3)\n",
    "    \n",
    "    if 9.5 < a0 < 13.5 and \\\n",
    "        2.5 < a1 < 6. and \\\n",
    "       -2.5 < a2 < -0.5  and \\\n",
    "       0. < a3 < 3.:\n",
    "        a0_v = np.repeat(a0, x_median.shape[0])\n",
    "        a1_v = np.repeat(a1, x_median.shape[0])\n",
    "        a2_v = np.repeat(a2, x_median.shape[0])\n",
    "        a3_v = np.repeat(a3, x_median.shape[0])\n",
    "\n",
    "        pt = np.array([a0_v, a1_v, a2_v, a3_v, x_median, z]).T\n",
    "        print(pt)\n",
    "        I = interp(pt)\n",
    "        print(I)\n",
    "\n",
    "        a = np.log10(np.sum(q, axis=1)) - np.log10(I)\n",
    "        return a * w\n",
    "    \n",
    "    return -np.inf\n",
    "\n",
    "def gathering_data(data, zmax):\n",
    "\n",
    "    bgs = data\n",
    "    mask_zlim = (bgs['Z_HP'].data > 0.01) & (bgs['Z_HP'].data < zmax)\n",
    "    \n",
    "    z_tot = bgs['Z_HP'].data[mask_zlim]\n",
    "    x_tot = bgs['provabgs_logMstar'].data[mask_zlim]\n",
    "    x_median_tot = np.median(x_tot, axis=1)\n",
    "    w_zfail_tot = bgs['provabgs_w_zfail'].data[mask_zlim]\n",
    "    w_fib_tot = bgs['provabgs_w_fibassign'].data[mask_zlim]\n",
    "    vmax_tot = bgs['Vmax'].data[mask_zlim]\n",
    "    \n",
    "    \n",
    "    mass_comp_lim = mass_completeness_limit(z_tot)\n",
    "    # mask_mlim = []\n",
    "    # for i in range(len(x_median_tot)):\n",
    "    #     mask_mlim.append(x_median_tot[i] > mass_comp_lim[i])\n",
    "    mask_mlim = x_median_tot > mass_completeness_limit(z_tot)\n",
    "        \n",
    "    \n",
    "    mask = (w_zfail_tot > 0) & (mask_mlim)\n",
    "    \n",
    "    z = z_tot[mask].astype(np.float32)\n",
    "    x = x_tot[mask].astype(np.float32)\n",
    "    x_median = x_median_tot[mask].astype(np.float32)\n",
    "    w_zfail = w_zfail_tot[mask].astype(np.float32)\n",
    "    w_fib = w_fib_tot[mask].astype(np.float32)\n",
    "    vmax = vmax_tot[mask].astype(np.float32)\n",
    "    \n",
    "    \n",
    "    f_area = (173.641/(4.*np.pi*(180/np.pi)**2))\n",
    "    v_zmin = Planck13.comoving_volume(0.01).value * Planck13.h**3 * f_area # (Mpc/h)^3\n",
    "    v_zmax = Planck13.comoving_volume(0.09).value * Planck13.h**3 * f_area # (Mpc/h)^3\n",
    "    v_sub = v_zmax - v_zmin\n",
    "    \n",
    "    \n",
    "    # w_spec * 1/Vmax\n",
    "    w = (w_zfail*w_fib) * v_sub / (vmax.clip(v_zmin, v_zmax) - v_zmin)\n",
    "    n = np.sum(w)/v_sub\n",
    "    \n",
    "    # Spectroscopic weights\n",
    "    w_spec = (w_zfail*w_fib)\n",
    "\n",
    "    return z, x, x_median, w_spec"
   ]
  },
  {
   "cell_type": "code",
   "execution_count": 2,
   "id": "7da05695",
   "metadata": {},
   "outputs": [],
   "source": [
    "cosmo = FlatLambdaCDM(H0=67.8, Om0=0.307)\n",
    "\n",
    "# Read hdf5 for BGS data\n",
    "bgs = aTable.Table.read('../data/BGS_ANY_full.provabgs.lite.hdf5')\n",
    "is_bgs_bright = bgs['is_bgs_bright']\n",
    "is_bgs_faint = bgs['is_bgs_faint']\n",
    "\n",
    "bgs = bgs[bgs['is_bgs_bright']]\n",
    "\n",
    "# Gathering data\n",
    "# Exluding galaxies for z < 0.01 and z > 0.4 because I don't have the mass completeness limit for those\n",
    "\n",
    "mask_zlim = (bgs['Z_HP'].data > 0.01) & (bgs['Z_HP'].data < 0.4)\n",
    "\n",
    "\n",
    "z_tot = bgs['Z_HP'].data[mask_zlim]\n",
    "x_tot = bgs['provabgs_logMstar'].data[mask_zlim]\n",
    "x_median_tot = np.median(x_tot, axis=1)\n",
    "w_zfail_tot = bgs['provabgs_w_zfail'].data[mask_zlim]\n",
    "w_fib_tot = bgs['provabgs_w_fibassign'].data[mask_zlim]\n",
    "vmax_tot = bgs['Vmax'].data[mask_zlim]\n",
    "\n",
    "\n",
    "mass_comp_lim = mass_completeness_limit(z_tot)\n",
    "mask_mlim = []\n",
    "for i in range(len(x_median_tot)):\n",
    "    mask_mlim.append(x_median_tot[i] > mass_comp_lim[i])\n",
    "    \n",
    "\n",
    "mask = (w_zfail_tot > 0) & (mask_mlim)\n",
    "\n",
    "z = z_tot[mask].astype(np.float32)\n",
    "x = x_tot[mask].astype(np.float32)\n",
    "x_median = x_median_tot[mask].astype(np.float32)\n",
    "w_zfail = w_zfail_tot[mask].astype(np.float32)\n",
    "w_fib = w_fib_tot[mask].astype(np.float32)\n",
    "vmax = vmax_tot[mask].astype(np.float32)\n",
    "\n",
    "\n",
    "f_area = (173.641/(4.*np.pi*(180/np.pi)**2))\n",
    "v_zmin = Planck13.comoving_volume(0.01).value * Planck13.h**3 * f_area # (Mpc/h)^3\n",
    "v_zmax = Planck13.comoving_volume(0.09).value * Planck13.h**3 * f_area # (Mpc/h)^3\n",
    "v_sub = v_zmax - v_zmin\n",
    "\n",
    "\n",
    "# w_spec * 1/Vmax\n",
    "w = (w_zfail*w_fib) * v_sub / (vmax.clip(v_zmin, v_zmax) - v_zmin)\n",
    "n = np.sum(w)/v_sub\n",
    "\n",
    "# Spectroscopic weights\n",
    "w_spec = (w_zfail*w_fib)"
   ]
  },
  {
   "cell_type": "code",
   "execution_count": 3,
   "id": "1c94bd11-1201-49bc-9c40-8805f3c2439c",
   "metadata": {},
   "outputs": [],
   "source": [
    "z03, x03, x_median03, w_spec03 = gathering_data(bgs, 0.3)\n",
    "z02, x02, x_median02, w_spec02 = gathering_data(bgs, 0.2)\n",
    "z005, x005, x_median005, w_spec005 = gathering_data(bgs, 0.05)"
   ]
  },
  {
   "cell_type": "code",
   "execution_count": 4,
   "id": "3a1c1773-ef03-41ce-ae61-1222df7d0a37",
   "metadata": {},
   "outputs": [
    {
     "data": {
      "text/plain": [
       "(6.0, 13.2)"
      ]
     },
     "execution_count": 4,
     "metadata": {},
     "output_type": "execute_result"
    },
    {
     "data": {
      "image/png": "[encoded data removed]",
      "text/plain": [
       "<Figure size 800x600 with 1 Axes>"
      ]
     },
     "metadata": {},
     "output_type": "display_data"
    }
   ],
   "source": [
    "fig = plt.figure(figsize=(8,6))\n",
    "sub = fig.add_subplot(111)\n",
    "\n",
    "sub.scatter(z_tot, x_median_tot, \n",
    "            s=w_zfail_tot * w_fib_tot, c='lightgrey', label='BGS Bright')\n",
    "\n",
    "sub.scatter(z03, x_median03, \n",
    "            s=1, c='C0', label='BGS Bright Mlim')\n",
    "\n",
    "\n",
    "sub.scatter(z02, x_median02, \n",
    "            s=1, c='C1', label='BGS Bright Mlim')\n",
    "\n",
    "sub.scatter(z005, x_median005, \n",
    "            s=1, c='C2', label='BGS Bright Mlim')\n",
    "\n",
    "\n",
    "\n",
    "sub.plot(np.linspace(0.01, 0.65), mass_completeness_limit(np.linspace(0.01, 0.65)),\n",
    "         color = 'orange', linewidth=0.9)\n",
    "\n",
    "\n",
    "# sub.scatter(pt[problems[0]][:,5], pt[problems[0]][:,4], c='red', s=1)\n",
    "\n",
    "\n",
    "sub.legend(loc='lower right', fontsize=15, markerscale=10, handletextpad=0.1)\n",
    "sub.set_xlabel(r\"redshift ($z$)\", fontsize=15)\n",
    "sub.set_xlim(0., 0.41)\n",
    "sub.set_ylabel(r\"best-fit $\\log M_*$\", fontsize=15)\n",
    "sub.set_ylim(6., 13.2)"
   ]
  },
  {
   "cell_type": "code",
   "execution_count": 5,
   "id": "dd3717ab-2111-4d0c-91c5-35d6cdc86810",
   "metadata": {},
   "outputs": [],
   "source": [
    "# a0, a1, a2, a3 = [1.01315955e+01,  5.07865920e+00, -1.76294714e+00,  4.57523001e-03]\n",
    "a0, a1, a2, a3 = 10., 3.2, -1.5, 1.5\n",
    "\n",
    "nn = 20\n",
    "a0_lin = np.linspace(9.5, 13.5, nn)\n",
    "a1_lin = np.linspace(2.5, 6., nn)\n",
    "a2_lin = np.linspace(-2.5, -0.5, nn)\n",
    "a3_lin = np.linspace(0, 3., nn)\n",
    "m_lin = np.linspace(x_median.min(), x_median.max(), nn)\n",
    "z_lin = np.linspace(z.min(), z.max(), nn)\n",
    "\n",
    "grid_data = np.load('../grids/conc_grid_6d_20sample.npy')\n",
    "interp = RegularGridInterpolator((a0_lin, a1_lin, a2_lin, a3_lin, m_lin, z_lin), grid_data)"
   ]
  },
  {
   "cell_type": "code",
   "execution_count": 6,
   "id": "e16e33e4-3305-4bb0-b58b-f90ffab54240",
   "metadata": {},
   "outputs": [],
   "source": [
    "q = smf_single_schechter_sty(x005, z005, a0, a1, a2, a3)\n",
    "\n",
    "np.log10(np.sum(q, axis=1))\n",
    "\n",
    "a0_v = np.repeat(a0, x_median005.shape[0])\n",
    "a1_v = np.repeat(a1, x_median005.shape[0])\n",
    "a2_v = np.repeat(a2, x_median005.shape[0])\n",
    "a3_v = np.repeat(a3, x_median005.shape[0])\n",
    "\n",
    "pt = np.array([a0_v, a1_v, a2_v, a3_v, x_median005, z005]).T\n",
    "\n",
    "problems = np.where(np.isnan(np.log10(interp(pt))))"
   ]
  },
  {
   "cell_type": "code",
   "execution_count": 7,
   "id": "4100d04c-fcdc-4c24-9ad0-9cfda6ddd7e4",
   "metadata": {},
   "outputs": [
    {
     "data": {
      "text/plain": [
       "(array([], dtype=int64),)"
      ]
     },
     "execution_count": 7,
     "metadata": {},
     "output_type": "execute_result"
    }
   ],
   "source": [
    "problems"
   ]
  },
  {
   "cell_type": "code",
   "execution_count": 8,
   "id": "e497894f-ad32-473a-8211-4513cc9cefdd",
   "metadata": {},
   "outputs": [
    {
     "name": "stdout",
     "output_type": "stream",
     "text": [
      "[[10.          3.2        -1.5         1.5         9.46084213  0.03138858]\n",
      " [10.          3.2        -1.5         1.5         9.92421341  0.04546919]\n",
      " [10.          3.2        -1.5         1.5        10.62957954  0.04552807]\n",
      " ...\n",
      " [10.          3.2        -1.5         1.5         9.24262619  0.02763683]\n",
      " [10.          3.2        -1.5         1.5         9.16594028  0.04495921]\n",
      " [10.          3.2        -1.5         1.5         9.51198769  0.03755268]]\n",
      "[0.08982409 0.10100082 0.11782104 ... 0.07309535 0.04949809 0.0873824 ]\n"
     ]
    },
    {
     "data": {
      "text/plain": [
       "array([3.238478  , 2.84231159, 1.53016056, ..., 3.47372389, 7.00071398,\n",
       "       3.27706434])"
      ]
     },
     "execution_count": 8,
     "metadata": {},
     "output_type": "execute_result"
    }
   ],
   "source": [
    "log_likelihood(a0, a1, a2, a3, interp, x_median005, w_spec005, z005, x005)"
   ]
  },
  {
   "cell_type": "code",
   "execution_count": null,
   "id": "e410a157-be1a-4afe-98ec-52b0ecfbacff",
   "metadata": {},
   "outputs": [],
   "source": [
    "z_err = pt[problems[0]][:,4]\n",
    "x_err = pt[problems[0]][:,5]"
   ]
  },
  {
   "cell_type": "code",
   "execution_count": null,
   "id": "9e1cfcc8-40f1-4073-b6d8-b1cc75576b30",
   "metadata": {},
   "outputs": [],
   "source": [
    "integral_limits(z_err[0], x_err[0])"
   ]
  },
  {
   "cell_type": "code",
   "execution_count": null,
   "id": "ff5d1b0c-e75d-4e07-aa91-7d6957f3c558",
   "metadata": {},
   "outputs": [],
   "source": [
    "z_err[0], x_err[0]"
   ]
  },
  {
   "cell_type": "markdown",
   "id": "d5ebb8fd-919e-47f6-989b-494d91b334c7",
   "metadata": {
    "jp-MarkdownHeadingCollapsed": true
   },
   "source": [
    "----\n",
    "----"
   ]
  },
  {
   "cell_type": "code",
   "execution_count": null,
   "id": "4326ffe3-42c7-42e0-b283-2450ca25e8ae",
   "metadata": {},
   "outputs": [],
   "source": [
    "z_err = pt[problems[0]][:,4]\n",
    "x_err = pt[problems[0]][:,5]"
   ]
  },
  {
   "cell_type": "code",
   "execution_count": null,
   "id": "5142c254-5576-4d4f-bb5c-85ab31e6df75",
   "metadata": {},
   "outputs": [],
   "source": [
    "integral_limits(z_err[0], x_err[0])"
   ]
  },
  {
   "cell_type": "code",
   "execution_count": null,
   "id": "31e25986-2265-4445-9155-1218f8d66f8c",
   "metadata": {},
   "outputs": [],
   "source": [
    "fig = plt.figure(figsize=(8,6))\n",
    "sub = fig.add_subplot(111)\n",
    "\n",
    "sub.scatter(z_tot, x_median_tot, \n",
    "            s=w_zfail_tot * w_fib_tot, c='lightgrey', label='BGS Bright')\n",
    "\n",
    "sub.scatter(z, x_median, \n",
    "            s=w_zfail * w_fib, c='C0', label='BGS Bright Mlim')\n",
    "\n",
    "# sub.scatter(z0, x0, s=5, color='orange')\n",
    "# sub.scatter(z_test[:20], x_test[:20], color='black')\n",
    "\n",
    "# sub.scatter(z0, mass_completeness_limit(z0), color='red')\n",
    "# sub.scatter(zmax_mass_completeness_limit(x0), x0, color='red')\n",
    "\n",
    "# sub.plot(rl[:,0], rl[:,1],\n",
    "#             color='red')\n",
    "\n",
    "# sub.scatter(zlim_[:36], mlim_, \n",
    "#             s=2, color='red')\n",
    "\n",
    "sub.plot(np.linspace(0.01, 0.65), mass_completeness_limit(np.linspace(0.01, 0.65)),\n",
    "         color = 'orange')\n",
    "\n",
    "\n",
    "sub.scatter(pt[problems[0]][:,5], pt[problems[0]][:,4], c='red', s=1)\n",
    "\n",
    "# sub.scatter(zlim_[:36], mlim_, color='black')\n",
    "\n",
    "# sub.scatter(xv, yv, color='red')\n",
    "\n",
    "sub.legend(loc='lower right', fontsize=15, markerscale=10, handletextpad=0.1)\n",
    "sub.set_xlabel(r\"redshift ($z$)\", fontsize=15)\n",
    "sub.set_xlim(0., 0.41)\n",
    "sub.set_ylabel(r\"best-fit $\\log M_*$\", fontsize=15)\n",
    "sub.set_ylim(6., 13.2)"
   ]
  },
  {
   "cell_type": "code",
   "execution_count": null,
   "id": "25a19147-4938-4fea-baa3-ee888f8282d3",
   "metadata": {},
   "outputs": [],
   "source": [
    "problems"
   ]
  },
  {
   "cell_type": "code",
   "execution_count": null,
   "id": "2ecef02a-257c-4880-b057-9a02af6462cd",
   "metadata": {},
   "outputs": [],
   "source": [
    "pt[problems[0][0]][-1]"
   ]
  },
  {
   "cell_type": "markdown",
   "id": "c862ce8f-5227-49bf-a8af-d8e8d530aca7",
   "metadata": {
    "jp-MarkdownHeadingCollapsed": true
   },
   "source": [
    "----\n",
    "----"
   ]
  },
  {
   "cell_type": "code",
   "execution_count": null,
   "id": "0cbd0b48-c306-4836-80b1-f147bdda9a87",
   "metadata": {
    "scrolled": true
   },
   "outputs": [],
   "source": [
    "plt.hist(x_median, bins=100)"
   ]
  },
  {
   "cell_type": "code",
   "execution_count": null,
   "id": "a99ca11d-1b41-4910-8da4-e0a7fa712ae7",
   "metadata": {},
   "outputs": [],
   "source": [
    "hist, bin_edges = np.histogram(x_median, bins=100)\n",
    "cumulative_hist = np.cumsum(hist)\n",
    "plt.plot(bin_edges[1:], cumulative_hist)\n",
    "plt.plot(np.repeat(11.,100), np.linspace(0,80000, 100))"
   ]
  },
  {
   "cell_type": "code",
   "execution_count": null,
   "id": "92b69140-4919-42af-8082-ff9a8b998024",
   "metadata": {},
   "outputs": [],
   "source": [
    "x.shape"
   ]
  },
  {
   "cell_type": "code",
   "execution_count": null,
   "id": "f171dadf-468f-4960-a931-cff9ddbacf3b",
   "metadata": {},
   "outputs": [],
   "source": [
    "log_likelihood(a0, a1, a2, a3, interp, x_median, w_spec, z, x)"
   ]
  },
  {
   "cell_type": "code",
   "execution_count": null,
   "id": "e416a54d-5342-42cf-a901-c2db7a12c82f",
   "metadata": {},
   "outputs": [],
   "source": [
    "print(pt)"
   ]
  },
  {
   "cell_type": "code",
   "execution_count": null,
   "id": "3b84efaf-917f-480d-a33b-fc028916bd4c",
   "metadata": {},
   "outputs": [],
   "source": [
    "pt[0]"
   ]
  },
  {
   "cell_type": "code",
   "execution_count": null,
   "id": "eee05b0a-6d56-4297-8293-76639d4a7a51",
   "metadata": {},
   "outputs": [],
   "source": [
    "problems"
   ]
  },
  {
   "cell_type": "code",
   "execution_count": null,
   "id": "5c430205-aa0a-41b8-bb6b-dab3b0f9fe28",
   "metadata": {},
   "outputs": [],
   "source": [
    "for indx in problems[0]:\n",
    "    print(interp(pt[indx]), pt[indx])"
   ]
  },
  {
   "cell_type": "markdown",
   "id": "3ed91d1f-4462-4832-b11b-7937707c8527",
   "metadata": {},
   "source": [
    "------\n",
    "------"
   ]
  },
  {
   "cell_type": "code",
   "execution_count": null,
   "id": "b5093030-cec3-404e-aacf-ca5cef154ab2",
   "metadata": {},
   "outputs": [],
   "source": [
    "# filename = \"redshift_fit_1Schechter_2_50w_600s_v4.h5\"\n",
    "# filename = \"redshift_fit_1Schechter_2_50w_600s_v4_newgrid.h5\"\n",
    "filename = \"../emcee_runs/redshift_fit_1Schechter_50w_600s_v4_newgrid_NT_04z.h5\"\n",
    "reader = emcee.backends.HDFBackend(filename)\n",
    "samples = reader.get_chain()\n",
    "\n",
    "ndim = 4\n",
    "labels = [r'$a_{0}$', r'$a_{1}$', r'$a_{2}$', r'$a_{3}$']\n",
    "\n",
    "\n",
    "fig, axes = plt.subplots(ndim, figsize=(10, 10), sharex=True)\n",
    "\n",
    "for i in range(ndim):\n",
    "    ax = axes[i]\n",
    "    ax.plot(samples[:, :, i], \"k\", alpha=0.3)\n",
    "    ax.set_xlim(0, len(samples))\n",
    "    ax.set_ylabel(labels[i])\n",
    "    ax.yaxis.set_label_coords(-0.1, 0.5)\n",
    "    axes[-1].set_xlabel(\"step number\")\n",
    "\n",
    "# plt.show()\n",
    "plt.subplots_adjust(bottom=0.2)"
   ]
  },
  {
   "cell_type": "code",
   "execution_count": null,
   "id": "2b257f2d-f71f-4850-a285-6709a0de0450",
   "metadata": {},
   "outputs": [],
   "source": [
    "flat_samples = reader.get_chain(discard=200, thin=15, flat=True) \n",
    "fig = corner.corner(flat_samples, labels=labels, quantiles=(0.16, 0.50, 0.84), show_titles=True);\n",
    "plt.show()"
   ]
  },
  {
   "cell_type": "code",
   "execution_count": null,
   "id": "e60a7f21-88d6-45b4-8c97-54e6abb57823",
   "metadata": {},
   "outputs": [],
   "source": [
    "mcmc = np.array([np.percentile(flat_samples[:, i], [16, 50, 84]) for i in range(flat_samples.shape[1])])\n",
    "a0_mcmc, a1_mcmc, a2_mcmc, a3_mcmc = mcmc[:,1]"
   ]
  },
  {
   "cell_type": "code",
   "execution_count": null,
   "id": "096a6725",
   "metadata": {},
   "outputs": [],
   "source": [
    "mcmc[:,1]"
   ]
  },
  {
   "cell_type": "code",
   "execution_count": null,
   "id": "eba9a99c-0bc0-44e0-8268-b77cae317202",
   "metadata": {},
   "outputs": [],
   "source": [
    "x0 = np.linspace(8,13,100)\n",
    "z0 = np.linspace(0.01, 0.2, 5)\n",
    "# z0 = np.linspace(0.2, 0.4, 5)\n",
    "\n",
    "plt.figure(figsize=(8,8))\n",
    "\n",
    "for z0_i in z0:\n",
    "    z_label = \"{:.{}f}\".format(z0_i,2)\n",
    "    plt.plot(x0, smf_single_schechter_plot(x0, z0_i, a0_mcmc, a1_mcmc, a2_mcmc, a3_mcmc), label=f'{z_label}')\n",
    "\n",
    "plt.yscale('log')\n",
    "plt.legend(loc='best')\n",
    "plt.xlabel(r'$\\log(M_{*})$', fontsize=15)\n",
    "plt.ylabel(r'$\\log(\\phi(M_{*}))$', fontsize=15)\n",
    "plt.ylim(5e-9, 4e3)\n",
    "plt.xlim(8,13)"
   ]
  },
  {
   "cell_type": "code",
   "execution_count": null,
   "id": "644d83c7-16a7-4d83-9e16-6dbd10e9ce7b",
   "metadata": {},
   "outputs": [],
   "source": [
    "# norm = normalisation(f_area, x, x_median, w_spec, z, z0[-1], mcmc[:,1])"
   ]
  },
  {
   "cell_type": "code",
   "execution_count": null,
   "id": "1cb403f8",
   "metadata": {},
   "outputs": [],
   "source": [
    "z0=0.035\n",
    "plt.figure(figsize=(8,8))\n",
    "\n",
    "\n",
    "z_label = \"{:.{}f}\".format(z0_i,2)\n",
    "plt.plot(x0, 0.021697444966845558*smf_single_schechter_plot(x0, z0, a0_mcmc, a1_mcmc, a2_mcmc, a3_mcmc), label=f'{z_label}')\n",
    "\n",
    "plt.yscale('log')\n",
    "plt.legend(loc='best')\n",
    "plt.xlabel(r'$\\log(M_{*})$', fontsize=15)\n",
    "plt.ylabel(r'$\\log(\\phi(M_{*}))$', fontsize=15)\n",
    "plt.ylim(5e-6, 4e0)\n",
    "plt.xlim(8,13)"
   ]
  },
  {
   "cell_type": "code",
   "execution_count": null,
   "id": "b0c1b31d",
   "metadata": {},
   "outputs": [],
   "source": [
    "class GaussianMixtureModel(nn.Module):\n",
    "    def __init__(self, n_components: int=2, mmin=7., mmax=13.):\n",
    "        super().__init__()\n",
    "        logweights = torch.zeros(n_components, )\n",
    "        means   = (mmax-mmin)*torch.rand(n_components, ) + mmin\n",
    "        logstdevs  = 0.1*torch.tensor(np.random.uniform(size=n_components)) - 1.\n",
    "        \n",
    "        self.logweights = torch.nn.Parameter(logweights)\n",
    "        self.means   = torch.nn.Parameter(means)\n",
    "        self.logstdevs  = torch.nn.Parameter(logstdevs)\n",
    "    \n",
    "    def forward(self, x):\n",
    "        mix  = D.Categorical(torch.exp(self.logweights))\n",
    "        comp = D.Normal(self.means, torch.exp(self.logstdevs))\n",
    "        gmm  = D.MixtureSameFamily(mix, comp)\n",
    "        return - gmm.log_prob(x).mean()\n",
    "    \n",
    "    def log_prob(self, x): \n",
    "        mix  = D.Categorical(torch.exp(self.logweights))\n",
    "        comp = D.Normal(self.means, torch.exp(self.logstdevs))\n",
    "        gmm  = D.MixtureSameFamily(mix, comp)\n",
    "        return gmm.log_prob(x)\n",
    "    \n",
    "    def sample(self, N):\n",
    "        mix  = D.Categorical(torch.exp(self.logweights))\n",
    "        comp = D.Normal(self.means, torch.exp(self.logstdevs))\n",
    "        gmm  = D.MixtureSameFamily(mix, comp)\n",
    "        \n",
    "        return gmm.sample(N)"
   ]
  },
  {
   "cell_type": "code",
   "execution_count": null,
   "id": "6c059d2f",
   "metadata": {},
   "outputs": [],
   "source": [
    "if torch.cuda.is_available():\n",
    "    device = torch.device(type='cuda', index=0)\n",
    "else:\n",
    "    device = 'cpu'"
   ]
  },
  {
   "cell_type": "code",
   "execution_count": null,
   "id": "1ac4494b",
   "metadata": {},
   "outputs": [],
   "source": [
    "dat_dir = '/home/fede'\n",
    "\n",
    "mlim = [8.975, 9.325, 9.5, 9.85, 10.024999999999999, 10.2, 10.375, 10.55, 10.725, 10.725, 10.899999999999999, \n",
    "        10.899999999999999, 11.075, 11.075, 11.425, 11.425]\n",
    "\n",
    "zmins, zmaxs = [0.01], [0.05]\n",
    "\n",
    "fig = plt.figure(figsize=(8,6))\n",
    "sub = fig.add_subplot(111)\n",
    "for i, zmin, zmax in zip(range(4), zmins, zmaxs):\n",
    "    # Vmax based importance weights\n",
    "    zlim = (bgs['Z_HP'].data > zmin) & (bgs['Z_HP'].data < zmax)\n",
    "\n",
    "    v_zmin = Planck13.comoving_volume(zmin).value * Planck13.h**3 * f_area # (Mpc/h)^3\n",
    "    v_zmax = Planck13.comoving_volume(zmax).value * Planck13.h**3 * f_area# (Mpc/h)^3\n",
    "    \n",
    "    w_import = (v_zmax - v_zmin) / (bgs['Vmax'].data.clip(v_zmin, v_zmax) - v_zmin) \n",
    "    w_import *= bgs['provabgs_w_zfail'].data * bgs['provabgs_w_fibassign']\n",
    "\n",
    "    # calculate normalization\n",
    "    norm = np.sum(w_import[zlim]) / (v_zmax - v_zmin)\n",
    "    #psmf_model = best_models_z[i] \n",
    "    psmf_model = torch.load(os.path.join(dat_dir, 'psmf.gmm.bgs_bright.z%.2f_%.2f.last.pt' % (zmin, zmax)), map_location=device)\n",
    "    with torch.no_grad(): \n",
    "        post_prime = psmf_model.sample((100000,))\n",
    "    \n",
    "    # calculate normalization    \n",
    "    #_ = sub.hist(np.median(logM_posteriors[zlim], axis=1), \n",
    "    #             weights=w_import[zlim]*norm, #10000./np.sum(w_import[zlim]), \n",
    "    #             range=(6., 13.), bins=40, histtype='step', \n",
    "    #             color='k', linestyle='--', linewidth=1) \n",
    "    h, be = np.histogram(np.array(post_prime.detach().cpu()), \n",
    "                 weights=np.repeat(norm, 100000) / 100000, range=(6., 13.), bins=40)\n",
    "    \n",
    "    sub.step(be[:-1], h, where='pre', color='C%i' % i, linestyle='--')\n",
    "    sub.step(be[:-1][be[:-1] > mlim[2*i+1]], h[be[:-1] > mlim[2*i+1]], where='pre', color='C%i' % i, linestyle='-')\n",
    "    sub.plot([], [], c='C%i' % i, label='$%.2f < z < %.2f$' % (zmin, zmax))\n",
    "\n",
    "    sub.plot(x0, 0.021697444966845558*smf_single_schechter_plot(x0, z0, a0_mcmc, a1_mcmc, a2_mcmc, a3_mcmc)\n",
    "             , label='emcee', color='green')\n",
    "#     sub.plot(x0, 0.021697444966845558*smf_single_schechter_plot(x0, z0, 10.5, a1_mcmc, -1., a3_mcmc), color='red')\n",
    "    sub.plot(x0, 0.021697444966845558*smf_single_schechter_plot(x0, z0, 10.3, a1_mcmc, -1.2, a3_mcmc), \n",
    "            label='manual', linestyle='dashed', color='orange')\n",
    "    \n",
    "    \n",
    "    #sub.axvline(mlim[2*i+1], color='C%i' % i, linestyle=':')\n",
    "sub.legend(loc='lower left', fontsize=15)\n",
    "sub.set_xlabel(r'$\\log M_*$', fontsize=15)\n",
    "sub.set_xlim(7., 12.5)\n",
    "sub.set_ylabel(r'$p(\\log M_*)$ [$({\\rm Mpc}/h)^{-3}{\\rm dex}^{-1}$]', fontsize=15)\n",
    "sub.set_yscale('log')\n",
    "sub.set_ylim(5e-9, 4e0)\n",
    "plt.show()"
   ]
  },
  {
   "cell_type": "code",
   "execution_count": null,
   "id": "8f38fad9",
   "metadata": {},
   "outputs": [],
   "source": [
    "a0_mcmc, a1_mcmc, a2_mcmc, a3_mcmc"
   ]
  },
  {
   "cell_type": "markdown",
   "id": "5b794ea9",
   "metadata": {},
   "source": [
    "### Use [10.3, 5.07, -1.2, 0.02] as starting point for a new emcee"
   ]
  },
  {
   "cell_type": "code",
   "execution_count": null,
   "id": "bde6b880",
   "metadata": {},
   "outputs": [],
   "source": [
    "np.save('/home/fede/nersc_test/fig.npy', fig)"
   ]
  },
  {
   "cell_type": "code",
   "execution_count": null,
   "id": "a7075f68-d47c-4986-97d5-cc6dfa1ab694",
   "metadata": {},
   "outputs": [],
   "source": [
    "# np.linspace(0.1,0.4, 10)\n",
    "\n",
    "# ngal\n",
    "\n",
    "# np.diff(ngal)\n",
    "\n",
    "# np.diff(ngal)/ ngal[:-1]\n",
    "\n",
    "# list(zip(np.linspace(0.1,0.4, 10), np.diff(ngal)/ ngal[:-1]))\n",
    "\n",
    "# ngal[:-1]\n",
    "\n",
    "# 26294-14824, 39033 - 26294"
   ]
  },
  {
   "cell_type": "code",
   "execution_count": null,
   "id": "588e4a5d",
   "metadata": {},
   "outputs": [],
   "source": []
  }
 ],
 "metadata": {
  "kernelspec": {
   "display_name": "Python 3 (ipykernel)",
   "language": "python",
   "name": "python3"
  },
  "language_info": {
   "codemirror_mode": {
    "name": "ipython",
    "version": 3
   },
   "file_extension": ".py",
   "mimetype": "text/x-python",
   "name": "python",
   "nbconvert_exporter": "python",
   "pygments_lexer": "ipython3",
   "version": "3.11.4"
  }
 },
 "nbformat": 4,
 "nbformat_minor": 5
}
