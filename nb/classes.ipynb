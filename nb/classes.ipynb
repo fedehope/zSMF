{
 "cells": [
  {
   "cell_type": "code",
   "execution_count": 1,
   "id": "aa062560-fc01-4307-8964-a9ddbb757c1e",
   "metadata": {
    "jupyter": {
     "source_hidden": true
    }
   },
   "outputs": [],
   "source": [
    "import copy\n",
    "import os\n",
    "#from nflows import transforms, distributions, flows\n",
    "import torch\n",
    "from scipy.special import logsumexp\n",
    "from scipy.optimize import curve_fit\n",
    "from scipy import integrate\n",
    "\n",
    "from torch import nn\n",
    "from torch import optim\n",
    "import torch.distributions as D\n",
    "import emcee\n",
    "import corner\n",
    "import time\n",
    "from multiprocessing import cpu_count, Pool\n",
    "\n",
    "import os\n",
    "import h5py \n",
    "import numpy as np\n",
    "# import fitsio\n",
    "# from tqdm.auto import trange\n",
    "import astropy.table as aTable\n",
    "from astropy.cosmology import Planck13\n",
    "from astropy.cosmology import FlatLambdaCDM\n",
    "\n",
    "# -- plotting -- \n",
    "import matplotlib as mpl\n",
    "import matplotlib.pyplot as plt\n",
    "# mpl.rcParams['text.usetex'] = True\n",
    "mpl.rcParams['font.family'] = 'serif'\n",
    "mpl.rcParams['axes.linewidth'] = 1.5\n",
    "mpl.rcParams['axes.xmargin'] = 1\n",
    "mpl.rcParams['xtick.labelsize'] = 'x-large'\n",
    "mpl.rcParams['xtick.major.size'] = 5\n",
    "mpl.rcParams['xtick.major.width'] = 1.5\n",
    "mpl.rcParams['ytick.labelsize'] = 'x-large'\n",
    "mpl.rcParams['ytick.major.size'] = 5\n",
    "mpl.rcParams['ytick.major.width'] = 1.5\n",
    "mpl.rcParams['legend.frameon'] = False"
   ]
  },
  {
   "cell_type": "markdown",
   "id": "f897c9fb-568c-4944-9478-a47efcbf304e",
   "metadata": {
    "jp-MarkdownHeadingCollapsed": true
   },
   "source": [
    "## FileEmcee class"
   ]
  },
  {
   "cell_type": "code",
   "execution_count": 2,
   "id": "26e1e3e5-b78e-4efd-8dd7-097c8e91f195",
   "metadata": {},
   "outputs": [],
   "source": [
    "class FileEmcee:\n",
    "    def __init__(self, z_dependence, bin_test, info_file):\n",
    "        self.emcee_runs_dir = '/Users/federico/OneDrive - University College London/PhD/PhD_project/bgs_psmf/emcee_runs'\n",
    "        self.bin_tests_dir = '/Users/federico/OneDrive - University College London/PhD/PhD_project/bgs_psmf/emcee_runs/bin_tests_runs'\n",
    "        self.gmm_dir = '/Users/federico/OneDrive - University College London/PhD/PhD_project/bgs_psmf/gmm'\n",
    "        \n",
    "        self.z_dep = z_dependence\n",
    "        self.bin_test = bin_test\n",
    "        self.info_file = info_file\n",
    "\n",
    "    \n",
    "    def get_list_file(self):\n",
    "        if self.bin_test:\n",
    "            if self.z_dep:\n",
    "                return [os.path.join(self.bin_tests_dir,file) for file in os.listdir(self.bin_tests_dir) if file.startswith('Z')]\n",
    "            else:\n",
    "                return [os.path.join(self.bin_tests_dir,file) for file in os.listdir(self.bin_tests_dir) if file.startswith('Noz')]\n",
    "\n",
    "\n",
    "    def get_file(self):\n",
    "        list_file = self.get_list_file()\n",
    "        \n",
    "        found_file = [file for file in list_file if self.info_file in file]\n",
    "        \n",
    "        if len(found_file) > 1:\n",
    "            return found_file\n",
    "        else:\n",
    "            return found_file[0]   "
   ]
  },
  {
   "cell_type": "markdown",
   "id": "e5ab96e5-0606-4039-b613-dbda6ffdd2db",
   "metadata": {
    "jp-MarkdownHeadingCollapsed": true
   },
   "source": [
    "## EmceeRun class"
   ]
  },
  {
   "cell_type": "code",
   "execution_count": 3,
   "id": "20664f3a-6068-4805-9fe8-c348433db060",
   "metadata": {},
   "outputs": [],
   "source": [
    "class EmceeRun(FileEmcee):\n",
    "    def __init__(self, file_emcee_obj):\n",
    "        super().__init__(file_emcee_obj.z_dep, file_emcee_obj.bin_test, file_emcee_obj.info_file)\n",
    "        self.file_emcee_obj = file_emcee_obj\n",
    "        \n",
    "        self.emcee_file = self.get_file()\n",
    "\n",
    "    \n",
    "        self.reader = emcee.backends.HDFBackend(self.emcee_file)\n",
    "        self.samples = self.reader.get_chain()  \n",
    "\n",
    "        self.labels4 = [r'$a_{0}$', r'$a_{1}$', r'$a_{3}$', r'$a_{3}$']\n",
    "        self.labels2 = [r'$\\log(M_{*})$', r'$\\alpha_{1}$']\n",
    "\n",
    "    def set_best_params(self, discard):\n",
    "         self.flat_samples = self.reader.get_chain(discard=discard, thin=15, flat=True)\n",
    "         mcmc = np.array([np.percentile(self.flat_samples[:, i], [16, 50, 84]) for i in range(self.flat_samples.shape[1])])\n",
    "         self.best_params = mcmc[:,1]\n",
    "\n",
    "    \n",
    "    def get_best_params(self):\n",
    "        return self.best_params"
   ]
  },
  {
   "cell_type": "markdown",
   "id": "27c0553b-b0b2-4086-a585-11c61626532e",
   "metadata": {
    "jp-MarkdownHeadingCollapsed": true
   },
   "source": [
    "## Data - BGS class"
   ]
  },
  {
   "cell_type": "code",
   "execution_count": 4,
   "id": "96f21a99-24f2-4a76-8795-25c937c76003",
   "metadata": {},
   "outputs": [],
   "source": [
    "class Data:\n",
    "    def __init__(self, file):\n",
    "        self.data_dir = '/Users/federico/OneDrive - University College London/PhD/PhD_project/bgs_psmf/data'\n",
    "        self.file = file\n",
    "        self.data_file = os.path.join(self.data_dir, self.file)\n",
    "\n",
    "    \n",
    "    def get_data(self):\n",
    "        if self.file.endswith('.hdf5'):\n",
    "            return aTable.Table.read(self.data_file)\n",
    "        elif self.file.endswith('.dat'):\n",
    "            return np.loadtxt(self.data_file, unpack=True, usecols=[0, 1, 2])\n",
    "\n",
    "\n",
    "\n",
    "class BGS(Data):\n",
    "    def __init__(self, file):\n",
    "        super().__init__(file)\n",
    "\n",
    "        self.f_area = (173.641/(4.*np.pi*(180/np.pi)**2))\n",
    "\n",
    "        bgs = self.get_data()\n",
    "        self.z = bgs['Z_HP'].data\n",
    "        self.x = bgs['provabgs_logMstar'].data\n",
    "        self.x_median = np.median(self.x, axis=1)\n",
    "        self.w_zfail = bgs['provabgs_w_zfail'].data\n",
    "        self.w_fib = bgs['provabgs_w_fibassign'].data\n",
    "        self.w_spec = self.w_zfail * self.w_fib\n",
    "        self.vmax = bgs['Vmax'].data\n",
    "        \n",
    "\n",
    "        # Setting attributes for the mass completeness limit parameters\n",
    "        self.f = -1.34199453\n",
    "        self.b = 13.90578909\n",
    "        self.c = 8.53522654\n",
    "        \n",
    "\n",
    "    \n",
    "    def select_galaxies(self, zmin, zmax):\n",
    "        mask_zlim = (self.z > zmin) & (self.z < zmax) & (self.x_median > self.mass_completeness_limit(self.z))\n",
    "        \n",
    "        v_zmin = Planck13.comoving_volume(zmin).value * Planck13.h**3 * self.f_area # (Mpc/h)^3\n",
    "        v_zmax = Planck13.comoving_volume(zmax).value * Planck13.h**3 * self.f_area# (Mpc/h)^3\n",
    "    \n",
    "        z = self.z[mask_zlim]\n",
    "        x = self.x[mask_zlim]\n",
    "        x_median = self.x_median[mask_zlim]\n",
    "        w_zfail = self.w_zfail[mask_zlim]\n",
    "        w_fib = self.w_fib[mask_zlim]\n",
    "        w_spec = self.w_spec[mask_zlim]\n",
    "        vmax = (self.vmax.clip(v_zmin, v_zmax) - v_zmin)[mask_zlim]\n",
    "        \n",
    "        return z, x, x_median, w_spec, vmax\n",
    "        \n",
    "\n",
    "    \n",
    "    \n",
    "    def mass_completeness_limit(self, z):\n",
    "        return 4 * np.pi * self.f * z**2 + self.b * z + self.c\n",
    "\n",
    "\n",
    "    \n",
    "    def get_number_galaxies(self):\n",
    "        if self.z.shape[0] == self.x.shape[0]:\n",
    "            return self.z.shape[0]\n"
   ]
  },
  {
   "cell_type": "markdown",
   "id": "219a1437-5704-4907-8848-c7342a8f432f",
   "metadata": {
    "jp-MarkdownHeadingCollapsed": true
   },
   "source": [
    "## Plotter class"
   ]
  },
  {
   "cell_type": "code",
   "execution_count": 5,
   "id": "63f3a7f8-247e-4867-9797-17e9712770e7",
   "metadata": {},
   "outputs": [],
   "source": [
    "class Plotter(BGS, EmceeRun):\n",
    "    def __init__(self, bgs, emcee_run):\n",
    "        BGS.__init__(self, bgs.file)\n",
    "        EmceeRun.__init__(self, emcee_run.file_emcee_obj)\n",
    "        \n",
    "        self.z_lin = np.linspace(0, 0.65, 100)\n",
    "        # self.x_lin = np.linspace()\n",
    "\n",
    "    \n",
    "    def plot_selected_data(self, zmin, zmax):\n",
    "        z, x, x_median, w_spec, vmax = self.select_galaxies(zmin, zmax)\n",
    "        \n",
    "        fig, ax = plt.subplots(figsize=(8,6))\n",
    "        ax.scatter(self.z, self.x_median, s=1, c='lightgrey', label='BGS Bright')\n",
    "        ax.scatter(z, x_median, s=1, c='C0', label='BGS Bright Mlim')\n",
    "        ax.plot(self.z_lin, self.mass_completeness_limit(self.z_lin), color = 'orange', linewidth=0.9)\n",
    "       \n",
    "        ax.legend(loc='lower right', fontsize=15, markerscale=10, handletextpad=0.1)\n",
    "        ax.set_xlabel(r\"redshift ($z$)\", fontsize=15)\n",
    "        ax.set_xlim(0., 0.65)\n",
    "        ax.set_ylabel(r\"best-fit $\\log M_*$\", fontsize=15)\n",
    "        ax.set_ylim(6., 13.2)\n",
    "\n",
    "        return fig, ax\n",
    "\n",
    "\n",
    "    def plot_emcee_samples(self):\n",
    "        \n",
    "        if self.z_dep:\n",
    "            ndim = 4\n",
    "            # labels = [r'$a_{0}$', r'$a_{1}$', r'$a_{3}$', r'$a_{3}$']\n",
    "        \n",
    "        \n",
    "            fig, axes = plt.subplots(ndim, figsize=(10, 10), sharex=True)\n",
    "            \n",
    "            for i in range(ndim):\n",
    "                ax = axes[i]\n",
    "                ax.plot(self.samples[:, :, i], \"k\", alpha=0.3)\n",
    "                ax.set_xlim(0, len(self.samples))\n",
    "                ax.set_ylabel(self.labels4[i])\n",
    "                ax.yaxis.set_label_coords(-0.1, 0.5)\n",
    "                axes[-1].set_xlabel(\"step number\")\n",
    "        else:\n",
    "            ndim = 2\n",
    "            # labels = [r'$\\log(M_{*})$', r'$\\alpha_{1}$']\n",
    "        \n",
    "        \n",
    "            fig, axes = plt.subplots(ndim, figsize=(10, 10), sharex=True)\n",
    "            \n",
    "            for i in range(ndim):\n",
    "                ax = axes[i]\n",
    "                ax.plot(self.samples[:, :, i], \"k\", alpha=0.3)\n",
    "                ax.set_xlim(0, len(self.samples))\n",
    "                ax.set_ylabel(self.labels2[i])\n",
    "                ax.yaxis.set_label_coords(-0.1, 0.5)\n",
    "                axes[-1].set_xlabel(\"step number\")\n",
    "\n",
    "\n",
    "    def plot_emcee_corner(self, flat_samples, labels):\n",
    "        fig = corner.corner(flat_samples, labels=labels, quantiles=(0.16, 0.50, 0.84), show_titles=True);\n",
    "        plt.show()"
   ]
  },
  {
   "cell_type": "markdown",
   "id": "24dfa081-3fde-4230-ba85-0fe5e5ab0438",
   "metadata": {},
   "source": [
    "## NoZSchechter Model class"
   ]
  },
  {
   "cell_type": "code",
   "execution_count": 6,
   "id": "4dd6e509-0a73-406c-8c23-dbf7e0339a0c",
   "metadata": {},
   "outputs": [],
   "source": [
    "class NoZSchechterModel(BGS):\n",
    "    def __init__(self, bgs, zmin, zmax):\n",
    "        super().__init__(bgs.file)\n",
    "        self.zmin = zmin\n",
    "        self.zmax = zmax\n",
    "\n",
    "        self.z, self.x, self.x_median, self.w_spec, self.vmax = self.select_galaxies(zmin, zmax)\n",
    "        self.mlim = self.mass_completeness_limit(self.z)\n",
    "        \n",
    "\n",
    "    @staticmethod\n",
    "    def phi(x, logM, alpha1):\n",
    "        term0 = np.log(10) * np.exp(-10 ** (x-logM))\n",
    "        term1 = 10 ** ((alpha1+1)*(x - logM))\n",
    "        return term0 * term1\n",
    "\n",
    "\n",
    "    def integral_phi(self, logM, alpha1):\n",
    "        return np.array([integrate.quad(NoZSchechterModel.phi, self.mlim[i], 13., args=(logM, alpha1))[0] for i in range(len(self.mlim))])\n",
    "\n",
    "    \n",
    "    def log_likelihood(self, logM, alpha1):\n",
    "        I = self.integral_phi(logM, alpha1)\n",
    "        q = NoZSchechterModel.phi(self.x, logM, alpha1)\n",
    "        a = np.log(np.sum(q, axis=1)) - np.log(I)\n",
    "        return a * self.w_spec"
   ]
  },
  {
   "cell_type": "markdown",
   "id": "3a39e5ff-055f-4c95-a3b7-6577a841ea06",
   "metadata": {},
   "source": [
    "## ZSchechter Model class"
   ]
  },
  {
   "cell_type": "code",
   "execution_count": 7,
   "id": "a3ea0563-c807-4953-8067-303f81d5b638",
   "metadata": {},
   "outputs": [],
   "source": [
    "class ZSchechterModel(BGS):\n",
    "    def __init__(self, bgs, zmin, zmax):\n",
    "        super().__init__(bgs.file)\n",
    "        self.zmin = zmin\n",
    "        self.zmax = zmax\n",
    "\n",
    "        self.z, self.x, self.x_median, self.w_spec, self.vmax = self.select_galaxies(zmin, zmax)\n",
    "        self.mlim = self.mass_completeness_limit(self.z)\n",
    "\n",
    "        # Prior intervals\n",
    "        \n",
    "        \n",
    "\n",
    "    @staticmethod\n",
    "    def phi(x, z, a0, a1, a2, a3):\n",
    "        logM = a0 + a1 * z\n",
    "        alpha1 = a2 + a3 * z\n",
    "\n",
    "        term0 = np.exp(-10 ** (x-logM))\n",
    "        term1 = 10 ** ((alpha1+1)*(x - logM))\n",
    "        return term0 * term1\n",
    "\n",
    "\n",
    "    @staticmethod\n",
    "    def phi_vectorised(x, z, a0, a1, a2, a3):\n",
    "        logM = a0 + a1 * z\n",
    "        alpha1 = a2 + a3 * z\n",
    "        \n",
    "        term0 = np.log(10) * np.exp(-10 ** (x-logM[:,None]))\n",
    "        term1 = 10 ** ((alpha1+1)[:,None]*(x - logM[:,None]))\n",
    "        return term0 * term1\n",
    "\n",
    "\n",
    "    def integral_phi(self, a0, a1, a2, a3):\n",
    "        return np.array([integrate.quad(ZSchechterModel.phi, self.mlim[i],\n",
    "                                        13., args=(self.z[i], a0, a1, a2, a3))[0] for i in range(self.z.shape[0])])\n",
    "\n",
    "    \n",
    "    def log_likelihood(self, a0, a1, a2, a3):\n",
    "        I = self.integral_phi(a0, a1, a2, a3)\n",
    "        q = ZSchechterModel.phi_vectorised(self.x, self.z, a0, a1, a2, a3)\n",
    "        a = np.log(np.sum(q, axis=1)) - np.log(I)\n",
    "        return a * self.w_spec\n",
    "\n",
    "\n",
    "    def log_prior(self, theta):\n",
    "        a0, a1, a2, a3 = theta\n",
    "        if 9.5 < a0 < 13.5 and \\\n",
    "            0. < a1 < 4. and \\\n",
    "           -4. < a2 < 0.  and \\\n",
    "           0. < a3 < 3.:\n",
    "            return 0\n",
    "        return -np.inf\n",
    "    \n",
    "    \n",
    "    \n",
    "    def posterior(self, theta):\n",
    "        a0, a1, a2, a3 = theta\n",
    "        l = self.log_likelihood(a0, a1, a2, a3)\n",
    "        return self.log_prior(theta) + np.sum(l)"
   ]
  },
  {
   "cell_type": "markdown",
   "id": "da17800e-5df5-42e1-8350-8401222f3c9a",
   "metadata": {},
   "source": [
    "# Main"
   ]
  },
  {
   "cell_type": "code",
   "execution_count": 8,
   "id": "4cd7d10c-eeb1-4319-9de1-aa033187cd82",
   "metadata": {},
   "outputs": [],
   "source": [
    "bgs = BGS('BGS_ANY_full.provabgs.lite.hdf5')\n",
    "emcee_file = FileEmcee(z_dependence=True, bin_test=True, info_file='0.01_0.2')"
   ]
  },
  {
   "cell_type": "code",
   "execution_count": 9,
   "id": "641b88d8-45d0-440e-acb2-fb50e4ba9a1e",
   "metadata": {},
   "outputs": [],
   "source": [
    "emcee_run = EmceeRun(emcee_file)"
   ]
  },
  {
   "cell_type": "code",
   "execution_count": 10,
   "id": "df873625-cbbf-468b-8562-9642449d6ae5",
   "metadata": {},
   "outputs": [
    {
     "data": {
      "text/plain": [
       "'/Users/federico/OneDrive - University College London/PhD/PhD_project/bgs_psmf/emcee_runs/bin_tests_runs/ZSchechter_50w_600step_0.01_0.2.h5'"
      ]
     },
     "execution_count": 10,
     "metadata": {},
     "output_type": "execute_result"
    }
   ],
   "source": [
    "emcee_run.emcee_file"
   ]
  },
  {
   "cell_type": "code",
   "execution_count": 11,
   "id": "2792070f-a460-4722-8965-edfa67d744f9",
   "metadata": {},
   "outputs": [],
   "source": [
    "plotter = Plotter(bgs, emcee_run)"
   ]
  },
  {
   "cell_type": "code",
   "execution_count": 12,
   "id": "f2b944d5-399c-494b-b80b-93a3e6b57285",
   "metadata": {},
   "outputs": [
    {
     "data": {
      "image/png": "[encoded data removed]",
      "text/plain": [
       "<Figure size 800x600 with 1 Axes>"
      ]
     },
     "metadata": {},
     "output_type": "display_data"
    }
   ],
   "source": [
    "fig, ax = plotter.plot_selected_data(0.01, 0.2)"
   ]
  },
  {
   "cell_type": "code",
   "execution_count": 13,
   "id": "a524ae19-693c-4e7e-b594-0c753cec1f51",
   "metadata": {},
   "outputs": [],
   "source": [
    "# plotter.plot_emcee_samples()"
   ]
  },
  {
   "cell_type": "code",
   "execution_count": 14,
   "id": "6f0a25a0-d79b-45e2-ab19-ff49aad9afb2",
   "metadata": {},
   "outputs": [],
   "source": [
    "emcee_run.set_best_params(100)"
   ]
  },
  {
   "cell_type": "code",
   "execution_count": 15,
   "id": "6220cd46-7b42-48cd-826e-e3b61f83dbd6",
   "metadata": {},
   "outputs": [],
   "source": [
    "a0, a1, a2, a3 = emcee_run.get_best_params()"
   ]
  },
  {
   "cell_type": "code",
   "execution_count": 16,
   "id": "2140f218-7f7d-4211-b312-f55911eb4e33",
   "metadata": {},
   "outputs": [],
   "source": [
    "z_smf = ZSchechterModel(bgs, 0.01, 0.2)"
   ]
  },
  {
   "cell_type": "code",
   "execution_count": 17,
   "id": "8a26b005-6280-4860-a7cc-96debe74e4a5",
   "metadata": {},
   "outputs": [
    {
     "data": {
      "text/plain": [
       "array([5.63067528, 5.23186831, 4.16431287, ..., 4.99260004, 8.8752017 ,\n",
       "       8.69209635])"
      ]
     },
     "execution_count": 17,
     "metadata": {},
     "output_type": "execute_result"
    }
   ],
   "source": [
    "z_smf.log_likelihood(a0, a1, a2, a3)"
   ]
  },
  {
   "cell_type": "code",
   "execution_count": 18,
   "id": "7f80853d-3c34-4583-90be-aef9a4218c2e",
   "metadata": {},
   "outputs": [
    {
     "data": {
      "text/plain": [
       "-1968281.4557385"
      ]
     },
     "execution_count": 18,
     "metadata": {},
     "output_type": "execute_result"
    }
   ],
   "source": [
    "z_smf.posterior(emcee_run.get_best_params())"
   ]
  },
  {
   "cell_type": "code",
   "execution_count": null,
   "id": "c812d3a4-0e54-4096-b72b-bf2c7c3c2043",
   "metadata": {},
   "outputs": [],
   "source": []
  }
 ],
 "metadata": {
  "kernelspec": {
   "display_name": "bgs",
   "language": "python",
   "name": "bgs"
  },
  "language_info": {
   "codemirror_mode": {
    "name": "ipython",
    "version": 3
   },
   "file_extension": ".py",
   "mimetype": "text/x-python",
   "name": "python",
   "nbconvert_exporter": "python",
   "pygments_lexer": "ipython3",
   "version": "3.11.5"
  }
 },
 "nbformat": 4,
 "nbformat_minor": 5
}
