{
 "cells": [
  {
   "cell_type": "code",
   "execution_count": 1,
   "id": "b55d0718-d80a-4876-bafa-491e6b3b83d4",
   "metadata": {},
   "outputs": [],
   "source": [
    "import copy\n",
    "import os, sys\n",
    "#from nflows import transforms, distributions, flows\n",
    "import torch\n",
    "from scipy.special import logsumexp\n",
    "from scipy.optimize import curve_fit\n",
    "from scipy import integrate\n",
    "from scipy.interpolate import interp1d\n",
    "from scipy.stats import entropy\n",
    "\n",
    "from torch import nn\n",
    "from torch import optim\n",
    "import torch.distributions as D\n",
    "import emcee\n",
    "import corner\n",
    "import time\n",
    "from multiprocessing import cpu_count, Pool\n",
    "\n",
    "import os\n",
    "import h5py \n",
    "import numpy as np\n",
    "# import fitsio\n",
    "# from tqdm.auto import trange\n",
    "import astropy.table as aTable\n",
    "from astropy.cosmology import Planck13\n",
    "from astropy.cosmology import FlatLambdaCDM\n",
    "\n",
    "import sys\n",
    "\n",
    "import numpy as np\n",
    "from matplotlib import pyplot as plt\n",
    "\n",
    "\n",
    "sys.path.append('../')\n",
    "\n",
    "from BGS import BGS\n",
    "from HST import HST\n",
    "from COSMOS import COSMOS\n",
    "\n",
    "from FileEmcee import FileEmcee\n",
    "from EmceeRun import EmceeRun\n",
    "\n",
    "from Plotter import Plotter\n",
    "from PlotterHst import PlotterHst\n",
    "from PlotterCOSMOS import PlotterCOSMOS\n",
    "\n",
    "from VMaxDensity import VmaxDensity\n",
    "from VMaxDensityHst import VmaxDensityHst\n",
    "\n",
    "from ZSchechterModel import ZSchechterModel\n",
    "from NoZSchechterModel import NoZSchechterModel\n",
    "\n",
    "from Fileh5 import Fileh5"
   ]
  },
  {
   "cell_type": "code",
   "execution_count": 2,
   "id": "d988013c-77e8-43e3-a84d-626254f421e8",
   "metadata": {},
   "outputs": [],
   "source": [
    "def mass_completeness_limit_bgs(z):\n",
    "    x_values = np.load('z_limit_bright.npy')\n",
    "    y_values = np.load('mass_limit_bright.npy')\n",
    "    \n",
    "    f = interp1d(x_values, y_values, fill_value='extrapolate')\n",
    "    return f(z)\n",
    "\n",
    "\n",
    "def fit_schechter(x, logM, alpha1, phi):\n",
    "    term0 = np.exp(-10 ** (x-logM))\n",
    "    term1 = 10 ** ((alpha1+1)*(x - logM))\n",
    "    return phi*term0 * term1\n",
    "\n",
    "\n",
    "def smf_single_schechter_sty(x, z, a0, a1, a2, a3):\n",
    "    logM = a0 + a1*z\n",
    "    alpha1 = a2 + a3*z\n",
    "    term0 = np.exp(-10 ** (x-logM))\n",
    "    term1 = 10 ** ((alpha1+1)*(x - logM))\n",
    "    return term0 * term1\n",
    "\n",
    "\n",
    "def plot_zschechter_single(x, z0, norm, best_params, **plot_params):\n",
    "    a0, a1, a2, a3 = best_params\n",
    "    zschechter = smf_single_schechter_sty(x, z0, a0, a1, a2, a3)\n",
    "    plt.plot(x, norm * zschechter, **plot_params)\n",
    "\n",
    "    plt.yscale('log')\n",
    "    plt.ylim(1e-5, 4e-2)\n",
    "    plt.xlim(6, 13)\n",
    "\n",
    "    plt.xlabel(r'$\\log M_*$', fontsize=15)\n",
    "    plt.ylabel(r'$p(\\log M_*)$ [$({\\rm Mpc}/h)^{-3}{\\rm dex}^{-1}$]', fontsize=15)\n",
    "\n",
    "\n",
    "def normalisation_single(z0, zmin, zmax, x, z, best_params):\n",
    "    a0, a1, a2, a3 = best_params\n",
    "    # v_zmin = Planck13.comoving_volume(zmin).value # (Mpc/h)^3\n",
    "    # v_zmax = Planck13.comoving_volume(zmax).value # (Mpc/h)^3\n",
    "\n",
    "    vzmin_bgs = Planck13.comoving_volume(zmin).value * Planck13.h ** 3 * (173.641 / (4. * np.pi * (180 / np.pi) ** 2))  # (Mpc/h)^3\n",
    "    vzmax_bgs = Planck13.comoving_volume(zmax).value * Planck13.h ** 3 * (173.641 / (4. * np.pi * (180 / np.pi) ** 2))\n",
    "    \n",
    "    m_max = 13\n",
    "    m_min = 6.\n",
    "    nbin = 40\n",
    "    bin_size = (m_max - m_min) / nbin\n",
    "    # x_median_bgs = x\n",
    "    # z_bgs, z_cosmos, z_hst = z\n",
    "\n",
    "    x_bgs_bin = x_median_bgs[(z_bgs > zmin) & (z_bgs < zmax)]\n",
    "\n",
    "    z_bgs_bin = z_bgs[(z_bgs > zmin) & (z_bgs < zmax)]\n",
    "\n",
    "    I_bgs = [integrate.quad(smf_single_schechter_sty, mass_completeness_limit_bgs(z_bgs_bin)[i], 13., \n",
    "                            args=(z0, a0, a1, a2, a3))[0] for i in range(z_bgs_bin.shape[0])]\n",
    "\n",
    "    \n",
    "    N_bgs = bin_size / (vzmax_bgs - vzmin_bgs) * np.sum((1.) / np.array(I_bgs))\n",
    "    \n",
    "    return N_bgs"
   ]
  },
  {
   "cell_type": "code",
   "execution_count": 3,
   "id": "4f3405d3-befd-4bb4-b685-1e4ba57f1dd6",
   "metadata": {},
   "outputs": [],
   "source": [
    "bgs = BGS('BGS_ANY_full.provabgs.lite.hdf5')"
   ]
  },
  {
   "cell_type": "code",
   "execution_count": 4,
   "id": "f08c28db-6ec1-480a-beda-3c1d0b8d14ab",
   "metadata": {},
   "outputs": [],
   "source": [
    "emcee_file = Fileh5(folder='emcee_runs', info_file='_single_')\n",
    "emcee_run = EmceeRun(emcee_file)"
   ]
  },
  {
   "cell_type": "code",
   "execution_count": 5,
   "id": "1dccdbb7-bef3-4cfe-b86c-683fe2af46e9",
   "metadata": {},
   "outputs": [
    {
     "name": "stderr",
     "output_type": "stream",
     "text": [
      "/Users/federico/Library/CloudStorage/OneDrive-UniversityCollegeLondon/PhD/PhD_project/bgs_psmf/nb/../VMaxDensity.py:19: RuntimeWarning: divide by zero encountered in divide\n",
      "  _w = self.w_spec / (self.vmax.clip(v_zmin, v_zmax) - v_zmin)\n"
     ]
    }
   ],
   "source": [
    "zmin, zmax = 0.03, 0.06\n",
    "\n",
    "vmax_hist = VmaxDensity(bgs.file, is_bgs_bright=True)\n",
    "h, b, _h, _b = vmax_hist.histogram_norm(zmin, zmax)"
   ]
  },
  {
   "cell_type": "code",
   "execution_count": 6,
   "id": "b2ce834b-e96f-4a0e-bb60-844f5294bf0a",
   "metadata": {},
   "outputs": [],
   "source": [
    "mask = (h > 0)"
   ]
  },
  {
   "cell_type": "code",
   "execution_count": 7,
   "id": "df6723f2-3fc2-46e4-9033-43b648dd36d9",
   "metadata": {},
   "outputs": [],
   "source": [
    "b_ = b+0.175/2"
   ]
  },
  {
   "cell_type": "code",
   "execution_count": 8,
   "id": "b09d90e9-9fe4-4990-9076-cca14a82f742",
   "metadata": {},
   "outputs": [],
   "source": [
    "smf, x = h[mask], b_[:-1][mask]"
   ]
  },
  {
   "cell_type": "code",
   "execution_count": 9,
   "id": "25910d84-b13f-4813-a4a0-7f5abcaf96f5",
   "metadata": {},
   "outputs": [],
   "source": [
    "popt, _ = curve_fit(fit_schechter, x, smf, p0=[11, -1.3, 0.002], maxfev=5000)"
   ]
  },
  {
   "cell_type": "code",
   "execution_count": 10,
   "id": "97dd2bc7-7721-48d6-9ffd-6ec04d0869e5",
   "metadata": {},
   "outputs": [
    {
     "data": {
      "text/plain": [
       "[<matplotlib.lines.Line2D at 0x14a7ee7d0>]"
      ]
     },
     "execution_count": 10,
     "metadata": {},
     "output_type": "execute_result"
    },
    {
     "data": {
      "image/png": "[encoded data removed]",
      "text/plain": [
       "<Figure size 640x480 with 1 Axes>"
      ]
     },
     "metadata": {},
     "output_type": "display_data"
    }
   ],
   "source": [
    "Plotter.plot_vmax_hist(h, b, _h, _b)\n",
    "plt.plot(np.linspace(8, 14, 100), fit_schechter(np.linspace(8,14,100), 11, -1.3, 0.002))\n",
    "plt.plot(np.linspace(8, 14, 100), fit_schechter(np.linspace(8,14,100), popt[0], popt[1], popt[2]))\n",
    "plt.plot(x, smf, 'o')"
   ]
  }
 ],
 "metadata": {
  "kernelspec": {
   "display_name": "bgs",
   "language": "python",
   "name": "bgs"
  },
  "language_info": {
   "codemirror_mode": {
    "name": "ipython",
    "version": 3
   },
   "file_extension": ".py",
   "mimetype": "text/x-python",
   "name": "python",
   "nbconvert_exporter": "python",
   "pygments_lexer": "ipython3",
   "version": "3.11.5"
  }
 },
 "nbformat": 4,
 "nbformat_minor": 5
}
